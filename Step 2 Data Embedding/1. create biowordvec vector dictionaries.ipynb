{
 "cells": [
  {
   "metadata": {},
   "cell_type": "markdown",
   "source": "# Create a entity_name:entity_embedding mapping dictionary for easy access to model building\n",
   "id": "5864b3164328853c"
  },
  {
   "cell_type": "code",
   "id": "99d3a2c7-d583-4319-aece-e2a6586098a9",
   "metadata": {
    "ExecuteTime": {
     "start_time": "2024-11-12T23:43:52.014423Z"
    }
   },
   "source": [
    "from gensim.models import KeyedVectors\n",
    "import os\n",
    "\n",
    "##make sure you install the correct version of scipy (v1.12 or earlier or else this block wont work)\n",
    "\n",
    "model = KeyedVectors.load_word2vec_format(os.path.join(os.getcwd(), 'Embedding Models', 'BioWordVec Embedding Model.bin'),binary = True)\n",
    "\n"
   ],
   "outputs": [],
   "execution_count": null
  },
  {
   "metadata": {},
   "cell_type": "code",
   "source": "parent_dir = os.path.dirname(os.getcwd())",
   "id": "b539050a857a4862",
   "outputs": [],
   "execution_count": null
  },
  {
   "cell_type": "code",
   "id": "d9b390e4-27cd-4bf4-80f3-2dafcff7ea57",
   "metadata": {},
   "source": [
    "#create vector dictionaries for each unique drug, disease, target used in the triples\n",
    "import pandas as pd\n",
    "import csv\n",
    "\n",
    "\n",
    "###Read in Processed Data from dataset\n",
    "\n",
    "df = pd.read_csv(os.path.join(parent_dir, 'Step 1 Data Processing/ROBOKOP+DrugMechDB/ROBOKOP+DrugmechDB Data/ROBOMechDB Processed Triples.csv')) #input array for embedding\n",
    "df = df.drop('Unnamed: 0', axis = 1)\n",
    "\n",
    "triples_drug = sorted(list(set(df['drug_name'].tolist())))\n",
    "triples_disease = sorted(list(set(df['disease_name'].tolist())))\n",
    "triples_protein = sorted(list(set(df['protein_name'].tolist())))\n",
    "\n",
    "print(len(triples_drug))\n",
    "print(len(triples_disease))\n",
    "print(len(triples_protein))\n",
    "\n",
    "#Vector embeddings\n",
    "\n",
    "def get_phrase_vec(vocablist, phrase):\n",
    "    words = phrase.replace(\",\", \"\")\n",
    "    words_split = words.split(' ')\n",
    "    #print(words)\n",
    "    count = 0\n",
    "    flag  = 0\n",
    "    for i in words_split:\n",
    "        if i in vocablist:\n",
    "            if count == 0:\n",
    "                comb_emb = model[i]\n",
    "            else:\n",
    "                comb_emb = model[i] + comb_emb\n",
    "            count = count + 1\n",
    "        else:\n",
    "            flag = 1 + flag\n",
    "            break\n",
    "    if flag != 0:\n",
    "        return flag, phrase, \"no embedding\"\n",
    "        #print(phrase, \"no embedding\") \n",
    "        flag = flag\n",
    "    if flag == 0:\n",
    "        return flag, phrase, list(comb_emb) ##list(comb_emb) holds the 200 dim vector embedding\n",
    "\n",
    "\n",
    "vocab = model.index_to_key\n",
    "\n",
    "def get_embeddings(triples, vocab):\n",
    "    embeddings = []\n",
    "    embeddable_list = []\n",
    "    \n",
    "    for triple in triples:\n",
    "        fl, ph, str_ = get_phrase_vec(vocab, triple)\n",
    "        if str_ == \"no embedding\":\n",
    "            continue\n",
    "        str_array = [float(i) for i in str_]\n",
    "        embeddings.append(str_array)\n",
    "        embeddable_list.append(ph)\n",
    "    \n",
    "    return embeddings, embeddable_list\n",
    "\n",
    "def create_embedding_dict(embeddable_list, embeddings):\n",
    "    return {key: value for key, value in zip(embeddable_list, embeddings)}\n",
    "\n",
    "# Extract embeddings for all drugs, diseases, and proteins\n",
    "drug_embeddings, embeddable_drug_list = get_embeddings(triples_drug, vocab)\n",
    "disease_embeddings, embeddable_disease_list = get_embeddings(triples_disease, vocab)\n",
    "protein_embeddings, embeddable_protein_list = get_embeddings(triples_protein, vocab)\n",
    "\n",
    "# Map entity name to entity embedding w/ dictionary\n",
    "drug_vector_dict = create_embedding_dict(embeddable_drug_list, drug_embeddings)\n",
    "disease_vector_dict = create_embedding_dict(embeddable_disease_list, disease_embeddings)\n",
    "protein_vector_dict = create_embedding_dict(embeddable_protein_list, protein_embeddings)\n"
   ],
   "outputs": [],
   "execution_count": null
  },
  {
   "cell_type": "code",
   "id": "c2e92b3f-cac1-40c4-bb01-2c0116a95824",
   "metadata": {
    "ExecuteTime": {
     "end_time": "2024-08-14T18:10:18.780054Z",
     "start_time": "2024-08-14T18:10:18.776508Z"
    }
   },
   "source": [
    "print(len(drug_vector_dict))\n",
    "print(len(disease_vector_dict))\n",
    "print(len(protein_vector_dict))"
   ],
   "outputs": [
    {
     "name": "stdout",
     "output_type": "stream",
     "text": [
      "999\n",
      "590\n",
      "836\n"
     ]
    }
   ],
   "execution_count": 6
  },
  {
   "metadata": {
    "ExecuteTime": {
     "end_time": "2024-08-14T18:10:20.473080Z",
     "start_time": "2024-08-14T18:10:20.469708Z"
    }
   },
   "cell_type": "code",
   "source": "print(os.getcwd())",
   "id": "ccdcec4a75daf150",
   "outputs": [
    {
     "name": "stdout",
     "output_type": "stream",
     "text": [
      "/Users/eding/PycharmProjects/U24-ROBOKOP-Project-8-7-24/Data Embedding & Model Development\n"
     ]
    }
   ],
   "execution_count": 7
  },
  {
   "cell_type": "code",
   "id": "0d1b240d-bc08-40e3-a7f9-2abd3011f060",
   "metadata": {
    "ExecuteTime": {
     "end_time": "2024-08-14T18:10:35.525696Z",
     "start_time": "2024-08-14T18:10:35.308505Z"
    }
   },
   "source": [
    "#export vector dictionary for use in embedding triples\n",
    "\n",
    "with open(os.path.join(os.getcwd(), 'Vector Dictionaries', 'ROBOMechDB Disease Vector Dictionary.csv') , 'w', encoding=\"utf-8\", newline='') as csvfile:\n",
    "    writer = csv.writer(csvfile)\n",
    "    \n",
    "    # Write the header\n",
    "    writer.writerow(['key'] + [f'value_{i+1}' for i in range(200)])\n",
    "    \n",
    "    # Write the key and the values\n",
    "    for key, values in disease_vector_dict.items():\n",
    "        writer.writerow([key] + values)\n",
    "\n",
    "    \n",
    "with open(os.path.join(os.getcwd(), 'Vector Dictionaries', 'ROBOMechDB Drug Vector Dictionary.csv'), 'w', encoding=\"utf-8\", newline='') as csvfile:\n",
    "    writer = csv.writer(csvfile)\n",
    "    \n",
    "    # Write the header\n",
    "    writer.writerow(['key'] + [f'value_{i+1}' for i in range(200)])\n",
    "    \n",
    "    # Write the key and the values\n",
    "    for key, values in drug_vector_dict.items():\n",
    "        writer.writerow([key] + values)\n",
    "\n",
    "with open(os.path.join(os.getcwd(), 'Vector Dictionaries', 'ROBOMechDB Protein Vector Dictionary.csv'), 'w', encoding=\"utf-8\", newline='') as csvfile:\n",
    "    writer = csv.writer(csvfile)\n",
    "    \n",
    "    # Write the header\n",
    "    writer.writerow(['key'] + [f'value_{i+1}' for i in range(200)])\n",
    "    \n",
    "    # Write the key and the values\n",
    "    for key, values in protein_vector_dict.items():\n",
    "        writer.writerow([key] + values)\n",
    "\n",
    "\n",
    "    \n"
   ],
   "outputs": [],
   "execution_count": 8
  }
 ],
 "metadata": {
  "kernelspec": {
   "display_name": "Python 3 (ipykernel)",
   "language": "python",
   "name": "python3"
  },
  "language_info": {
   "codemirror_mode": {
    "name": "ipython",
    "version": 3
   },
   "file_extension": ".py",
   "mimetype": "text/x-python",
   "name": "python",
   "nbconvert_exporter": "python",
   "pygments_lexer": "ipython3",
   "version": "3.12.3"
  }
 },
 "nbformat": 4,
 "nbformat_minor": 5
}
