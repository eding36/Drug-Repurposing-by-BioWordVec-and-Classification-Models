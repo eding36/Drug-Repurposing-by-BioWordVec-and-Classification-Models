{
 "cells": [
  {
   "cell_type": "code",
   "id": "a9a32838-2fcc-40a6-a924-6adc3cd9b6d0",
   "metadata": {
    "editable": true,
    "slideshow": {
     "slide_type": ""
    },
    "tags": [],
    "ExecuteTime": {
     "end_time": "2024-11-12T23:36:38.271722Z",
     "start_time": "2024-11-12T23:36:28.150732Z"
    }
   },
   "source": [
    "import tensorflow as tf\n",
    "import pandas as pd\n",
    "import numpy as np\n",
    "import os\n"
   ],
   "outputs": [],
   "execution_count": 1
  },
  {
   "metadata": {
    "ExecuteTime": {
     "end_time": "2024-11-12T23:36:45.771689Z",
     "start_time": "2024-11-12T23:36:44.203860Z"
    }
   },
   "cell_type": "code",
   "source": [
    "###2.# Define the directory where your models are saved\n",
    "\n",
    "parent_dir = os.path.dirname(os.getcwd())\n",
    "\n",
    "\n",
    "model_directory = os.path.join(parent_dir, 'Step 3 External Validation and Model Development/Classification Models')\n",
    "\n",
    "model_1_list = []\n",
    "model_2_list = []\n",
    "#,8,9,10,11,12,13,14,15,16,17,18,41\n",
    "# Assuming your models are named 'model_0.h5', 'model_1.h5', ..., 'model_19.h5'\n",
    "model1_paths = [os.path.join(model_directory, f'Complete Set 1 Models/ROBOMechDB Complete Set 1 Model Seed {i+1}.keras') for i in [0,1,2,3,4,5,6,7,8,9,10,11,12,13,14,15,16,17,18,41]]\n",
    "\n",
    "model2_paths = [os.path.join(model_directory, f'Complete Set 2 Models/ROBOMechDB Complete Set 2 Model Seed {i+1}.keras') for i in [0,1,2,3,4,5,6,7,8,9,10,11,12,13,14,15,16,17,18,41]]\n",
    "\n",
    "\n",
    "for path in model1_paths:\n",
    "    print(f'Loading model from {path}')\n",
    "    model = tf.keras.models.load_model(path)\n",
    "    model_1_list.append(model)\n",
    "    print(f'Model from {path} loaded successfully')\n",
    "\n",
    "for path in model2_paths:\n",
    "    print(f'Loading model from {path}')\n",
    "    model = tf.keras.models.load_model(path)\n",
    "    model_2_list.append(model)\n",
    "    print(f'Model from {path} loaded successfully')"
   ],
   "id": "4cd4bd70548077a4",
   "outputs": [
    {
     "name": "stdout",
     "output_type": "stream",
     "text": [
      "Loading model from /Users/eding/PycharmProjects/U24-ROBOKOP-Project-8-21-24/Step 3 External Validation/Classification Models/Complete Set 1 Models/ROBOMechDB Complete Set 1 Model Seed 1.keras\n",
      "Model from /Users/eding/PycharmProjects/U24-ROBOKOP-Project-8-21-24/Step 3 External Validation/Classification Models/Complete Set 1 Models/ROBOMechDB Complete Set 1 Model Seed 1.keras loaded successfully\n",
      "Loading model from /Users/eding/PycharmProjects/U24-ROBOKOP-Project-8-21-24/Step 3 External Validation/Classification Models/Complete Set 1 Models/ROBOMechDB Complete Set 1 Model Seed 2.keras\n",
      "Model from /Users/eding/PycharmProjects/U24-ROBOKOP-Project-8-21-24/Step 3 External Validation/Classification Models/Complete Set 1 Models/ROBOMechDB Complete Set 1 Model Seed 2.keras loaded successfully\n",
      "Loading model from /Users/eding/PycharmProjects/U24-ROBOKOP-Project-8-21-24/Step 3 External Validation/Classification Models/Complete Set 1 Models/ROBOMechDB Complete Set 1 Model Seed 3.keras\n",
      "Model from /Users/eding/PycharmProjects/U24-ROBOKOP-Project-8-21-24/Step 3 External Validation/Classification Models/Complete Set 1 Models/ROBOMechDB Complete Set 1 Model Seed 3.keras loaded successfully\n",
      "Loading model from /Users/eding/PycharmProjects/U24-ROBOKOP-Project-8-21-24/Step 3 External Validation/Classification Models/Complete Set 1 Models/ROBOMechDB Complete Set 1 Model Seed 4.keras\n",
      "Model from /Users/eding/PycharmProjects/U24-ROBOKOP-Project-8-21-24/Step 3 External Validation/Classification Models/Complete Set 1 Models/ROBOMechDB Complete Set 1 Model Seed 4.keras loaded successfully\n",
      "Loading model from /Users/eding/PycharmProjects/U24-ROBOKOP-Project-8-21-24/Step 3 External Validation/Classification Models/Complete Set 1 Models/ROBOMechDB Complete Set 1 Model Seed 5.keras\n",
      "Model from /Users/eding/PycharmProjects/U24-ROBOKOP-Project-8-21-24/Step 3 External Validation/Classification Models/Complete Set 1 Models/ROBOMechDB Complete Set 1 Model Seed 5.keras loaded successfully\n",
      "Loading model from /Users/eding/PycharmProjects/U24-ROBOKOP-Project-8-21-24/Step 3 External Validation/Classification Models/Complete Set 1 Models/ROBOMechDB Complete Set 1 Model Seed 6.keras\n",
      "Model from /Users/eding/PycharmProjects/U24-ROBOKOP-Project-8-21-24/Step 3 External Validation/Classification Models/Complete Set 1 Models/ROBOMechDB Complete Set 1 Model Seed 6.keras loaded successfully\n",
      "Loading model from /Users/eding/PycharmProjects/U24-ROBOKOP-Project-8-21-24/Step 3 External Validation/Classification Models/Complete Set 1 Models/ROBOMechDB Complete Set 1 Model Seed 7.keras\n",
      "Model from /Users/eding/PycharmProjects/U24-ROBOKOP-Project-8-21-24/Step 3 External Validation/Classification Models/Complete Set 1 Models/ROBOMechDB Complete Set 1 Model Seed 7.keras loaded successfully\n",
      "Loading model from /Users/eding/PycharmProjects/U24-ROBOKOP-Project-8-21-24/Step 3 External Validation/Classification Models/Complete Set 1 Models/ROBOMechDB Complete Set 1 Model Seed 8.keras\n",
      "Model from /Users/eding/PycharmProjects/U24-ROBOKOP-Project-8-21-24/Step 3 External Validation/Classification Models/Complete Set 1 Models/ROBOMechDB Complete Set 1 Model Seed 8.keras loaded successfully\n",
      "Loading model from /Users/eding/PycharmProjects/U24-ROBOKOP-Project-8-21-24/Step 3 External Validation/Classification Models/Complete Set 1 Models/ROBOMechDB Complete Set 1 Model Seed 9.keras\n",
      "Model from /Users/eding/PycharmProjects/U24-ROBOKOP-Project-8-21-24/Step 3 External Validation/Classification Models/Complete Set 1 Models/ROBOMechDB Complete Set 1 Model Seed 9.keras loaded successfully\n",
      "Loading model from /Users/eding/PycharmProjects/U24-ROBOKOP-Project-8-21-24/Step 3 External Validation/Classification Models/Complete Set 1 Models/ROBOMechDB Complete Set 1 Model Seed 10.keras\n",
      "Model from /Users/eding/PycharmProjects/U24-ROBOKOP-Project-8-21-24/Step 3 External Validation/Classification Models/Complete Set 1 Models/ROBOMechDB Complete Set 1 Model Seed 10.keras loaded successfully\n",
      "Loading model from /Users/eding/PycharmProjects/U24-ROBOKOP-Project-8-21-24/Step 3 External Validation/Classification Models/Complete Set 1 Models/ROBOMechDB Complete Set 1 Model Seed 11.keras\n",
      "Model from /Users/eding/PycharmProjects/U24-ROBOKOP-Project-8-21-24/Step 3 External Validation/Classification Models/Complete Set 1 Models/ROBOMechDB Complete Set 1 Model Seed 11.keras loaded successfully\n",
      "Loading model from /Users/eding/PycharmProjects/U24-ROBOKOP-Project-8-21-24/Step 3 External Validation/Classification Models/Complete Set 1 Models/ROBOMechDB Complete Set 1 Model Seed 12.keras\n",
      "Model from /Users/eding/PycharmProjects/U24-ROBOKOP-Project-8-21-24/Step 3 External Validation/Classification Models/Complete Set 1 Models/ROBOMechDB Complete Set 1 Model Seed 12.keras loaded successfully\n",
      "Loading model from /Users/eding/PycharmProjects/U24-ROBOKOP-Project-8-21-24/Step 3 External Validation/Classification Models/Complete Set 1 Models/ROBOMechDB Complete Set 1 Model Seed 13.keras\n",
      "Model from /Users/eding/PycharmProjects/U24-ROBOKOP-Project-8-21-24/Step 3 External Validation/Classification Models/Complete Set 1 Models/ROBOMechDB Complete Set 1 Model Seed 13.keras loaded successfully\n",
      "Loading model from /Users/eding/PycharmProjects/U24-ROBOKOP-Project-8-21-24/Step 3 External Validation/Classification Models/Complete Set 1 Models/ROBOMechDB Complete Set 1 Model Seed 14.keras\n",
      "Model from /Users/eding/PycharmProjects/U24-ROBOKOP-Project-8-21-24/Step 3 External Validation/Classification Models/Complete Set 1 Models/ROBOMechDB Complete Set 1 Model Seed 14.keras loaded successfully\n",
      "Loading model from /Users/eding/PycharmProjects/U24-ROBOKOP-Project-8-21-24/Step 3 External Validation/Classification Models/Complete Set 1 Models/ROBOMechDB Complete Set 1 Model Seed 15.keras\n",
      "Model from /Users/eding/PycharmProjects/U24-ROBOKOP-Project-8-21-24/Step 3 External Validation/Classification Models/Complete Set 1 Models/ROBOMechDB Complete Set 1 Model Seed 15.keras loaded successfully\n",
      "Loading model from /Users/eding/PycharmProjects/U24-ROBOKOP-Project-8-21-24/Step 3 External Validation/Classification Models/Complete Set 1 Models/ROBOMechDB Complete Set 1 Model Seed 16.keras\n",
      "Model from /Users/eding/PycharmProjects/U24-ROBOKOP-Project-8-21-24/Step 3 External Validation/Classification Models/Complete Set 1 Models/ROBOMechDB Complete Set 1 Model Seed 16.keras loaded successfully\n",
      "Loading model from /Users/eding/PycharmProjects/U24-ROBOKOP-Project-8-21-24/Step 3 External Validation/Classification Models/Complete Set 1 Models/ROBOMechDB Complete Set 1 Model Seed 17.keras\n",
      "Model from /Users/eding/PycharmProjects/U24-ROBOKOP-Project-8-21-24/Step 3 External Validation/Classification Models/Complete Set 1 Models/ROBOMechDB Complete Set 1 Model Seed 17.keras loaded successfully\n",
      "Loading model from /Users/eding/PycharmProjects/U24-ROBOKOP-Project-8-21-24/Step 3 External Validation/Classification Models/Complete Set 1 Models/ROBOMechDB Complete Set 1 Model Seed 18.keras\n",
      "Model from /Users/eding/PycharmProjects/U24-ROBOKOP-Project-8-21-24/Step 3 External Validation/Classification Models/Complete Set 1 Models/ROBOMechDB Complete Set 1 Model Seed 18.keras loaded successfully\n",
      "Loading model from /Users/eding/PycharmProjects/U24-ROBOKOP-Project-8-21-24/Step 3 External Validation/Classification Models/Complete Set 1 Models/ROBOMechDB Complete Set 1 Model Seed 19.keras\n",
      "Model from /Users/eding/PycharmProjects/U24-ROBOKOP-Project-8-21-24/Step 3 External Validation/Classification Models/Complete Set 1 Models/ROBOMechDB Complete Set 1 Model Seed 19.keras loaded successfully\n",
      "Loading model from /Users/eding/PycharmProjects/U24-ROBOKOP-Project-8-21-24/Step 3 External Validation/Classification Models/Complete Set 1 Models/ROBOMechDB Complete Set 1 Model Seed 42.keras\n",
      "Model from /Users/eding/PycharmProjects/U24-ROBOKOP-Project-8-21-24/Step 3 External Validation/Classification Models/Complete Set 1 Models/ROBOMechDB Complete Set 1 Model Seed 42.keras loaded successfully\n",
      "Loading model from /Users/eding/PycharmProjects/U24-ROBOKOP-Project-8-21-24/Step 3 External Validation/Classification Models/Complete Set 2 Models/ROBOMechDB Complete Set 2 Model Seed 1.keras\n",
      "Model from /Users/eding/PycharmProjects/U24-ROBOKOP-Project-8-21-24/Step 3 External Validation/Classification Models/Complete Set 2 Models/ROBOMechDB Complete Set 2 Model Seed 1.keras loaded successfully\n",
      "Loading model from /Users/eding/PycharmProjects/U24-ROBOKOP-Project-8-21-24/Step 3 External Validation/Classification Models/Complete Set 2 Models/ROBOMechDB Complete Set 2 Model Seed 2.keras\n",
      "Model from /Users/eding/PycharmProjects/U24-ROBOKOP-Project-8-21-24/Step 3 External Validation/Classification Models/Complete Set 2 Models/ROBOMechDB Complete Set 2 Model Seed 2.keras loaded successfully\n",
      "Loading model from /Users/eding/PycharmProjects/U24-ROBOKOP-Project-8-21-24/Step 3 External Validation/Classification Models/Complete Set 2 Models/ROBOMechDB Complete Set 2 Model Seed 3.keras\n",
      "Model from /Users/eding/PycharmProjects/U24-ROBOKOP-Project-8-21-24/Step 3 External Validation/Classification Models/Complete Set 2 Models/ROBOMechDB Complete Set 2 Model Seed 3.keras loaded successfully\n",
      "Loading model from /Users/eding/PycharmProjects/U24-ROBOKOP-Project-8-21-24/Step 3 External Validation/Classification Models/Complete Set 2 Models/ROBOMechDB Complete Set 2 Model Seed 4.keras\n",
      "Model from /Users/eding/PycharmProjects/U24-ROBOKOP-Project-8-21-24/Step 3 External Validation/Classification Models/Complete Set 2 Models/ROBOMechDB Complete Set 2 Model Seed 4.keras loaded successfully\n",
      "Loading model from /Users/eding/PycharmProjects/U24-ROBOKOP-Project-8-21-24/Step 3 External Validation/Classification Models/Complete Set 2 Models/ROBOMechDB Complete Set 2 Model Seed 5.keras\n",
      "Model from /Users/eding/PycharmProjects/U24-ROBOKOP-Project-8-21-24/Step 3 External Validation/Classification Models/Complete Set 2 Models/ROBOMechDB Complete Set 2 Model Seed 5.keras loaded successfully\n",
      "Loading model from /Users/eding/PycharmProjects/U24-ROBOKOP-Project-8-21-24/Step 3 External Validation/Classification Models/Complete Set 2 Models/ROBOMechDB Complete Set 2 Model Seed 6.keras\n",
      "Model from /Users/eding/PycharmProjects/U24-ROBOKOP-Project-8-21-24/Step 3 External Validation/Classification Models/Complete Set 2 Models/ROBOMechDB Complete Set 2 Model Seed 6.keras loaded successfully\n",
      "Loading model from /Users/eding/PycharmProjects/U24-ROBOKOP-Project-8-21-24/Step 3 External Validation/Classification Models/Complete Set 2 Models/ROBOMechDB Complete Set 2 Model Seed 7.keras\n",
      "Model from /Users/eding/PycharmProjects/U24-ROBOKOP-Project-8-21-24/Step 3 External Validation/Classification Models/Complete Set 2 Models/ROBOMechDB Complete Set 2 Model Seed 7.keras loaded successfully\n",
      "Loading model from /Users/eding/PycharmProjects/U24-ROBOKOP-Project-8-21-24/Step 3 External Validation/Classification Models/Complete Set 2 Models/ROBOMechDB Complete Set 2 Model Seed 8.keras\n",
      "Model from /Users/eding/PycharmProjects/U24-ROBOKOP-Project-8-21-24/Step 3 External Validation/Classification Models/Complete Set 2 Models/ROBOMechDB Complete Set 2 Model Seed 8.keras loaded successfully\n",
      "Loading model from /Users/eding/PycharmProjects/U24-ROBOKOP-Project-8-21-24/Step 3 External Validation/Classification Models/Complete Set 2 Models/ROBOMechDB Complete Set 2 Model Seed 9.keras\n",
      "Model from /Users/eding/PycharmProjects/U24-ROBOKOP-Project-8-21-24/Step 3 External Validation/Classification Models/Complete Set 2 Models/ROBOMechDB Complete Set 2 Model Seed 9.keras loaded successfully\n",
      "Loading model from /Users/eding/PycharmProjects/U24-ROBOKOP-Project-8-21-24/Step 3 External Validation/Classification Models/Complete Set 2 Models/ROBOMechDB Complete Set 2 Model Seed 10.keras\n",
      "Model from /Users/eding/PycharmProjects/U24-ROBOKOP-Project-8-21-24/Step 3 External Validation/Classification Models/Complete Set 2 Models/ROBOMechDB Complete Set 2 Model Seed 10.keras loaded successfully\n",
      "Loading model from /Users/eding/PycharmProjects/U24-ROBOKOP-Project-8-21-24/Step 3 External Validation/Classification Models/Complete Set 2 Models/ROBOMechDB Complete Set 2 Model Seed 11.keras\n",
      "Model from /Users/eding/PycharmProjects/U24-ROBOKOP-Project-8-21-24/Step 3 External Validation/Classification Models/Complete Set 2 Models/ROBOMechDB Complete Set 2 Model Seed 11.keras loaded successfully\n",
      "Loading model from /Users/eding/PycharmProjects/U24-ROBOKOP-Project-8-21-24/Step 3 External Validation/Classification Models/Complete Set 2 Models/ROBOMechDB Complete Set 2 Model Seed 12.keras\n",
      "Model from /Users/eding/PycharmProjects/U24-ROBOKOP-Project-8-21-24/Step 3 External Validation/Classification Models/Complete Set 2 Models/ROBOMechDB Complete Set 2 Model Seed 12.keras loaded successfully\n",
      "Loading model from /Users/eding/PycharmProjects/U24-ROBOKOP-Project-8-21-24/Step 3 External Validation/Classification Models/Complete Set 2 Models/ROBOMechDB Complete Set 2 Model Seed 13.keras\n",
      "Model from /Users/eding/PycharmProjects/U24-ROBOKOP-Project-8-21-24/Step 3 External Validation/Classification Models/Complete Set 2 Models/ROBOMechDB Complete Set 2 Model Seed 13.keras loaded successfully\n",
      "Loading model from /Users/eding/PycharmProjects/U24-ROBOKOP-Project-8-21-24/Step 3 External Validation/Classification Models/Complete Set 2 Models/ROBOMechDB Complete Set 2 Model Seed 14.keras\n",
      "Model from /Users/eding/PycharmProjects/U24-ROBOKOP-Project-8-21-24/Step 3 External Validation/Classification Models/Complete Set 2 Models/ROBOMechDB Complete Set 2 Model Seed 14.keras loaded successfully\n",
      "Loading model from /Users/eding/PycharmProjects/U24-ROBOKOP-Project-8-21-24/Step 3 External Validation/Classification Models/Complete Set 2 Models/ROBOMechDB Complete Set 2 Model Seed 15.keras\n",
      "Model from /Users/eding/PycharmProjects/U24-ROBOKOP-Project-8-21-24/Step 3 External Validation/Classification Models/Complete Set 2 Models/ROBOMechDB Complete Set 2 Model Seed 15.keras loaded successfully\n",
      "Loading model from /Users/eding/PycharmProjects/U24-ROBOKOP-Project-8-21-24/Step 3 External Validation/Classification Models/Complete Set 2 Models/ROBOMechDB Complete Set 2 Model Seed 16.keras\n",
      "Model from /Users/eding/PycharmProjects/U24-ROBOKOP-Project-8-21-24/Step 3 External Validation/Classification Models/Complete Set 2 Models/ROBOMechDB Complete Set 2 Model Seed 16.keras loaded successfully\n",
      "Loading model from /Users/eding/PycharmProjects/U24-ROBOKOP-Project-8-21-24/Step 3 External Validation/Classification Models/Complete Set 2 Models/ROBOMechDB Complete Set 2 Model Seed 17.keras\n",
      "Model from /Users/eding/PycharmProjects/U24-ROBOKOP-Project-8-21-24/Step 3 External Validation/Classification Models/Complete Set 2 Models/ROBOMechDB Complete Set 2 Model Seed 17.keras loaded successfully\n",
      "Loading model from /Users/eding/PycharmProjects/U24-ROBOKOP-Project-8-21-24/Step 3 External Validation/Classification Models/Complete Set 2 Models/ROBOMechDB Complete Set 2 Model Seed 18.keras\n",
      "Model from /Users/eding/PycharmProjects/U24-ROBOKOP-Project-8-21-24/Step 3 External Validation/Classification Models/Complete Set 2 Models/ROBOMechDB Complete Set 2 Model Seed 18.keras loaded successfully\n",
      "Loading model from /Users/eding/PycharmProjects/U24-ROBOKOP-Project-8-21-24/Step 3 External Validation/Classification Models/Complete Set 2 Models/ROBOMechDB Complete Set 2 Model Seed 19.keras\n",
      "Model from /Users/eding/PycharmProjects/U24-ROBOKOP-Project-8-21-24/Step 3 External Validation/Classification Models/Complete Set 2 Models/ROBOMechDB Complete Set 2 Model Seed 19.keras loaded successfully\n",
      "Loading model from /Users/eding/PycharmProjects/U24-ROBOKOP-Project-8-21-24/Step 3 External Validation/Classification Models/Complete Set 2 Models/ROBOMechDB Complete Set 2 Model Seed 42.keras\n",
      "Model from /Users/eding/PycharmProjects/U24-ROBOKOP-Project-8-21-24/Step 3 External Validation/Classification Models/Complete Set 2 Models/ROBOMechDB Complete Set 2 Model Seed 42.keras loaded successfully\n"
     ]
    }
   ],
   "execution_count": 2
  },
  {
   "cell_type": "code",
   "id": "46d9b11e-7245-45cc-ba69-209ad13a84d1",
   "metadata": {
    "ExecuteTime": {
     "end_time": "2024-08-23T15:19:38.457693Z",
     "start_time": "2024-08-23T15:19:34.766935Z"
    }
   },
   "source": [
    "#loading triple embeddings from robokops kg\n",
    "df = pd.read_csv(os.path.join(os.path.dirname(os.getcwd()),'Step 2 Data Embedding/Data Mined Embedded Dataset/ROBOKOP Virtual Screening Set Embedded Dataset.csv'))\n",
    "df = df.drop('Unnamed: 0', axis = 1)\n",
    "df = df.drop_duplicates(subset = ['0','2','4'])"
   ],
   "outputs": [],
   "execution_count": 3
  },
  {
   "metadata": {
    "ExecuteTime": {
     "end_time": "2024-08-23T15:19:39.091451Z",
     "start_time": "2024-08-23T15:19:39.076864Z"
    }
   },
   "cell_type": "code",
   "source": "print(df)",
   "id": "75862ff9b611d229",
   "outputs": [
    {
     "name": "stdout",
     "output_type": "stream",
     "text": [
      "                 0            1                                     2  \\\n",
      "0       vandetanib  CHEBI:49960  multiple endocrine neoplasia type 2a   \n",
      "1        ponatinib  CHEBI:78543  multiple endocrine neoplasia type 2a   \n",
      "2        sorafenib  CHEBI:50924  multiple endocrine neoplasia type 2a   \n",
      "3      regorafenib  CHEBI:68647  multiple endocrine neoplasia type 2a   \n",
      "4      ruxolitinib  CHEBI:66919  multiple endocrine neoplasia type 2a   \n",
      "...            ...          ...                                   ...   \n",
      "89475  midostaurin  CHEBI:63452                          liver cancer   \n",
      "89478     axitinib  CHEBI:66910                          liver cancer   \n",
      "89479   canertinib  CHEBI:61399                          liver cancer   \n",
      "89482    diazoxide   CHEBI:4495                          liver cancer   \n",
      "89483  ceftriaxone  CHEBI:29007                          liver cancer   \n",
      "\n",
      "                   3                                             4       5  \\\n",
      "0       DOID:0050430                            ret proto-oncogene  P07949   \n",
      "1       DOID:0050430                            ret proto-oncogene  P07949   \n",
      "2       DOID:0050430                            ret proto-oncogene  P07949   \n",
      "3       DOID:0050430                            ret proto-oncogene  P07949   \n",
      "4       DOID:0050430                            ret proto-oncogene  P07949   \n",
      "...              ...                                           ...     ...   \n",
      "89475  MONDO:0002691  met proto-oncogene, receptor tyrosine kinase  P08581   \n",
      "89478  MONDO:0002691  met proto-oncogene, receptor tyrosine kinase  P08581   \n",
      "89479  MONDO:0002691  met proto-oncogene, receptor tyrosine kinase  P08581   \n",
      "89482  MONDO:0002691                      glutamate-ammonia ligase  P15104   \n",
      "89483  MONDO:0002691                      glutamate-ammonia ligase  P15104   \n",
      "\n",
      "             6        7         8        9  ...       597       598       599  \\\n",
      "0      0.79093  0.60086 -0.280790  0.40022  ... -0.519700 -0.235580  0.548090   \n",
      "1      1.04940  0.40934 -0.371100  0.60369  ... -0.519700 -0.235580  0.548090   \n",
      "2      0.83631  0.44954 -0.137240  0.64914  ... -0.519700 -0.235580  0.548090   \n",
      "3      0.59610  0.39431 -0.083177  0.48489  ... -0.519700 -0.235580  0.548090   \n",
      "4      0.87328  0.17077 -0.033955  0.62591  ... -0.519700 -0.235580  0.548090   \n",
      "...        ...      ...       ...      ...  ...       ...       ...       ...   \n",
      "89475  1.04850  0.23714 -0.189650  0.17908  ... -1.499689 -0.861604  0.952285   \n",
      "89478  0.62526  0.49068 -0.230160  0.30915  ... -1.499689 -0.861604  0.952285   \n",
      "89479  0.71189  0.53785 -0.191020  0.06660  ... -1.499689 -0.861604  0.952285   \n",
      "89482  0.36869  0.25435 -0.945560  0.46576  ... -0.887960  0.539330  0.250144   \n",
      "89483  0.27476 -0.55301 -0.143250  0.23948  ... -0.887960  0.539330  0.250144   \n",
      "\n",
      "            600       601       602       603       604       605  606  \n",
      "0      0.650776 -0.738723  0.183145 -0.239190  0.720170 -0.227820    1  \n",
      "1      0.650776 -0.738723  0.183145 -0.239190  0.720170 -0.227820    1  \n",
      "2      0.650776 -0.738723  0.183145 -0.239190  0.720170 -0.227820    1  \n",
      "3      0.650776 -0.738723  0.183145 -0.239190  0.720170 -0.227820    1  \n",
      "4      0.650776 -0.738723  0.183145 -0.239190  0.720170 -0.227820    1  \n",
      "...         ...       ...       ...       ...       ...       ...  ...  \n",
      "89475  0.628822 -0.167573  0.777400  0.009968 -0.987442 -2.071025    1  \n",
      "89478  0.628822 -0.167573  0.777400  0.009968 -0.987442 -2.071025    1  \n",
      "89479  0.628822 -0.167573  0.777400  0.009968 -0.987442 -2.071025    1  \n",
      "89482 -0.092256  0.244766 -1.261600  0.534886 -0.147364 -0.224105    1  \n",
      "89483 -0.092256  0.244766 -1.261600  0.534886 -0.147364 -0.224105    1  \n",
      "\n",
      "[47398 rows x 607 columns]\n"
     ]
    }
   ],
   "execution_count": 4
  },
  {
   "cell_type": "code",
   "id": "de26c230-338c-440c-82d0-614234b03095",
   "metadata": {
    "ExecuteTime": {
     "end_time": "2024-08-23T15:19:42.391807Z",
     "start_time": "2024-08-23T15:19:42.368426Z"
    }
   },
   "source": [
    "data = df.iloc[:, 6:-1]\n",
    "\n",
    "print(data[:1])\n"
   ],
   "outputs": [
    {
     "name": "stdout",
     "output_type": "stream",
     "text": [
      "         6        7        8        9       10       11        12       13  \\\n",
      "0  0.79093  0.60086 -0.28079  0.40022 -0.50199  0.65795  0.013582 -0.07678   \n",
      "\n",
      "         14       15  ...      596     597      598      599       600  \\\n",
      "0 -0.020119 -0.31451  ... -0.27445 -0.5197 -0.23558  0.54809  0.650776   \n",
      "\n",
      "        601       602      603      604      605  \n",
      "0 -0.738723  0.183145 -0.23919  0.72017 -0.22782  \n",
      "\n",
      "[1 rows x 600 columns]\n"
     ]
    }
   ],
   "execution_count": 5
  },
  {
   "cell_type": "code",
   "id": "8cfddad4-937a-4318-b7db-18992798ad3f",
   "metadata": {
    "editable": true,
    "slideshow": {
     "slide_type": ""
    },
    "tags": [],
    "ExecuteTime": {
     "end_time": "2024-08-23T15:20:42.087941Z",
     "start_time": "2024-08-23T15:19:44.637046Z"
    }
   },
   "source": [
    "model_1_prediction_matrix = []\n",
    "model_2_prediction_matrix = []\n",
    "\n",
    "for j in range(len(model_1_list)):\n",
    "    model_1_prediction_value = model_1_list[j].predict(data)\n",
    "    model_1_prediction_value = model_1_prediction_value.flatten()\n",
    "    model_1_prediction_matrix.append(model_1_prediction_value)\n",
    "    \n",
    "    model_2_prediction_value = model_2_list[j].predict(data)\n",
    "    model_2_prediction_value = model_2_prediction_value.flatten()\n",
    "    model_2_prediction_matrix.append(model_2_prediction_value)\n",
    "\n",
    "model_1_prediction_matrix = np.array(model_1_prediction_matrix)\n",
    "model_2_prediction_matrix = np.array(model_2_prediction_matrix)\n",
    "    \n",
    "model_1_stability_matrix = model_1_prediction_matrix.T\n",
    "model_2_stability_matrix = model_2_prediction_matrix.T\n",
    "\n",
    "model_1_prediction_floats = np.array([np.mean(row) for row in model_1_stability_matrix])\n",
    "model_2_prediction_floats = np.array([np.mean(row) for row in model_2_stability_matrix])\n",
    "model_prediction_floats = 0.9*model_1_prediction_floats + 0.1*model_2_prediction_floats\n",
    "\n",
    "data_rounded = np.round(model_prediction_floats)\n",
    "descending_confidence_values = np.sort(model_prediction_floats.flatten())[::-1]\n",
    "ascending_indices = np.argsort(model_prediction_floats.flatten())\n",
    "descending_indices = np.flip(ascending_indices)"
   ],
   "outputs": [
    {
     "name": "stdout",
     "output_type": "stream",
     "text": [
      "\u001B[1m1482/1482\u001B[0m \u001B[32m━━━━━━━━━━━━━━━━━━━━\u001B[0m\u001B[37m\u001B[0m \u001B[1m1s\u001B[0m 825us/step\n",
      "\u001B[1m1482/1482\u001B[0m \u001B[32m━━━━━━━━━━━━━━━━━━━━\u001B[0m\u001B[37m\u001B[0m \u001B[1m1s\u001B[0m 864us/step\n",
      "\u001B[1m1482/1482\u001B[0m \u001B[32m━━━━━━━━━━━━━━━━━━━━\u001B[0m\u001B[37m\u001B[0m \u001B[1m1s\u001B[0m 884us/step\n",
      "\u001B[1m1482/1482\u001B[0m \u001B[32m━━━━━━━━━━━━━━━━━━━━\u001B[0m\u001B[37m\u001B[0m \u001B[1m1s\u001B[0m 850us/step\n",
      "\u001B[1m1482/1482\u001B[0m \u001B[32m━━━━━━━━━━━━━━━━━━━━\u001B[0m\u001B[37m\u001B[0m \u001B[1m1s\u001B[0m 891us/step\n",
      "\u001B[1m1482/1482\u001B[0m \u001B[32m━━━━━━━━━━━━━━━━━━━━\u001B[0m\u001B[37m\u001B[0m \u001B[1m1s\u001B[0m 832us/step\n",
      "\u001B[1m1482/1482\u001B[0m \u001B[32m━━━━━━━━━━━━━━━━━━━━\u001B[0m\u001B[37m\u001B[0m \u001B[1m1s\u001B[0m 776us/step\n",
      "\u001B[1m1482/1482\u001B[0m \u001B[32m━━━━━━━━━━━━━━━━━━━━\u001B[0m\u001B[37m\u001B[0m \u001B[1m1s\u001B[0m 839us/step\n",
      "\u001B[1m1482/1482\u001B[0m \u001B[32m━━━━━━━━━━━━━━━━━━━━\u001B[0m\u001B[37m\u001B[0m \u001B[1m1s\u001B[0m 828us/step\n",
      "\u001B[1m1482/1482\u001B[0m \u001B[32m━━━━━━━━━━━━━━━━━━━━\u001B[0m\u001B[37m\u001B[0m \u001B[1m1s\u001B[0m 886us/step\n",
      "\u001B[1m1482/1482\u001B[0m \u001B[32m━━━━━━━━━━━━━━━━━━━━\u001B[0m\u001B[37m\u001B[0m \u001B[1m1s\u001B[0m 815us/step\n",
      "\u001B[1m1482/1482\u001B[0m \u001B[32m━━━━━━━━━━━━━━━━━━━━\u001B[0m\u001B[37m\u001B[0m \u001B[1m1s\u001B[0m 828us/step\n",
      "\u001B[1m1482/1482\u001B[0m \u001B[32m━━━━━━━━━━━━━━━━━━━━\u001B[0m\u001B[37m\u001B[0m \u001B[1m1s\u001B[0m 796us/step\n",
      "\u001B[1m1482/1482\u001B[0m \u001B[32m━━━━━━━━━━━━━━━━━━━━\u001B[0m\u001B[37m\u001B[0m \u001B[1m1s\u001B[0m 841us/step\n",
      "\u001B[1m1482/1482\u001B[0m \u001B[32m━━━━━━━━━━━━━━━━━━━━\u001B[0m\u001B[37m\u001B[0m \u001B[1m1s\u001B[0m 761us/step\n",
      "\u001B[1m1482/1482\u001B[0m \u001B[32m━━━━━━━━━━━━━━━━━━━━\u001B[0m\u001B[37m\u001B[0m \u001B[1m1s\u001B[0m 859us/step\n",
      "\u001B[1m1482/1482\u001B[0m \u001B[32m━━━━━━━━━━━━━━━━━━━━\u001B[0m\u001B[37m\u001B[0m \u001B[1m1s\u001B[0m 837us/step\n",
      "\u001B[1m1482/1482\u001B[0m \u001B[32m━━━━━━━━━━━━━━━━━━━━\u001B[0m\u001B[37m\u001B[0m \u001B[1m1s\u001B[0m 806us/step\n",
      "\u001B[1m1482/1482\u001B[0m \u001B[32m━━━━━━━━━━━━━━━━━━━━\u001B[0m\u001B[37m\u001B[0m \u001B[1m1s\u001B[0m 784us/step\n",
      "\u001B[1m1482/1482\u001B[0m \u001B[32m━━━━━━━━━━━━━━━━━━━━\u001B[0m\u001B[37m\u001B[0m \u001B[1m1s\u001B[0m 826us/step\n",
      "\u001B[1m1482/1482\u001B[0m \u001B[32m━━━━━━━━━━━━━━━━━━━━\u001B[0m\u001B[37m\u001B[0m \u001B[1m1s\u001B[0m 786us/step\n",
      "\u001B[1m1482/1482\u001B[0m \u001B[32m━━━━━━━━━━━━━━━━━━━━\u001B[0m\u001B[37m\u001B[0m \u001B[1m1s\u001B[0m 862us/step\n",
      "\u001B[1m1482/1482\u001B[0m \u001B[32m━━━━━━━━━━━━━━━━━━━━\u001B[0m\u001B[37m\u001B[0m \u001B[1m1s\u001B[0m 889us/step\n",
      "\u001B[1m1482/1482\u001B[0m \u001B[32m━━━━━━━━━━━━━━━━━━━━\u001B[0m\u001B[37m\u001B[0m \u001B[1m1s\u001B[0m 884us/step\n",
      "\u001B[1m1482/1482\u001B[0m \u001B[32m━━━━━━━━━━━━━━━━━━━━\u001B[0m\u001B[37m\u001B[0m \u001B[1m1s\u001B[0m 839us/step\n",
      "\u001B[1m1482/1482\u001B[0m \u001B[32m━━━━━━━━━━━━━━━━━━━━\u001B[0m\u001B[37m\u001B[0m \u001B[1m1s\u001B[0m 921us/step\n",
      "\u001B[1m1482/1482\u001B[0m \u001B[32m━━━━━━━━━━━━━━━━━━━━\u001B[0m\u001B[37m\u001B[0m \u001B[1m1s\u001B[0m 883us/step\n",
      "\u001B[1m1482/1482\u001B[0m \u001B[32m━━━━━━━━━━━━━━━━━━━━\u001B[0m\u001B[37m\u001B[0m \u001B[1m1s\u001B[0m 918us/step\n",
      "\u001B[1m1482/1482\u001B[0m \u001B[32m━━━━━━━━━━━━━━━━━━━━\u001B[0m\u001B[37m\u001B[0m \u001B[1m1s\u001B[0m 871us/step\n",
      "\u001B[1m1482/1482\u001B[0m \u001B[32m━━━━━━━━━━━━━━━━━━━━\u001B[0m\u001B[37m\u001B[0m \u001B[1m1s\u001B[0m 897us/step\n",
      "\u001B[1m1482/1482\u001B[0m \u001B[32m━━━━━━━━━━━━━━━━━━━━\u001B[0m\u001B[37m\u001B[0m \u001B[1m1s\u001B[0m 874us/step\n",
      "\u001B[1m1482/1482\u001B[0m \u001B[32m━━━━━━━━━━━━━━━━━━━━\u001B[0m\u001B[37m\u001B[0m \u001B[1m1s\u001B[0m 943us/step\n",
      "\u001B[1m1482/1482\u001B[0m \u001B[32m━━━━━━━━━━━━━━━━━━━━\u001B[0m\u001B[37m\u001B[0m \u001B[1m1s\u001B[0m 880us/step\n",
      "\u001B[1m1482/1482\u001B[0m \u001B[32m━━━━━━━━━━━━━━━━━━━━\u001B[0m\u001B[37m\u001B[0m \u001B[1m1s\u001B[0m 939us/step\n",
      "\u001B[1m1482/1482\u001B[0m \u001B[32m━━━━━━━━━━━━━━━━━━━━\u001B[0m\u001B[37m\u001B[0m \u001B[1m1s\u001B[0m 891us/step\n",
      "\u001B[1m1482/1482\u001B[0m \u001B[32m━━━━━━━━━━━━━━━━━━━━\u001B[0m\u001B[37m\u001B[0m \u001B[1m1s\u001B[0m 930us/step\n",
      "\u001B[1m1482/1482\u001B[0m \u001B[32m━━━━━━━━━━━━━━━━━━━━\u001B[0m\u001B[37m\u001B[0m \u001B[1m1s\u001B[0m 878us/step\n",
      "\u001B[1m1482/1482\u001B[0m \u001B[32m━━━━━━━━━━━━━━━━━━━━\u001B[0m\u001B[37m\u001B[0m \u001B[1m1s\u001B[0m 902us/step\n",
      "\u001B[1m1482/1482\u001B[0m \u001B[32m━━━━━━━━━━━━━━━━━━━━\u001B[0m\u001B[37m\u001B[0m \u001B[1m1s\u001B[0m 870us/step\n",
      "\u001B[1m1482/1482\u001B[0m \u001B[32m━━━━━━━━━━━━━━━━━━━━\u001B[0m\u001B[37m\u001B[0m \u001B[1m1s\u001B[0m 854us/step\n"
     ]
    }
   ],
   "execution_count": 6
  },
  {
   "cell_type": "code",
   "id": "639fd915-5cb3-41c1-aaf6-8f119f146023",
   "metadata": {
    "ExecuteTime": {
     "end_time": "2024-08-23T15:20:53.837514Z",
     "start_time": "2024-08-23T15:20:53.833925Z"
    }
   },
   "source": [
    "print(descending_confidence_values)\n",
    "print(descending_indices)"
   ],
   "outputs": [
    {
     "name": "stdout",
     "output_type": "stream",
     "text": [
      "[0.9753456  0.97500587 0.97497606 ... 0.01408539 0.01321646 0.01236172]\n",
      "[  993 44262 44271 ... 16756 19534  6653]\n"
     ]
    }
   ],
   "execution_count": 7
  },
  {
   "cell_type": "code",
   "id": "715b2bca-b266-4f82-b384-8b0bb5799a5f",
   "metadata": {
    "ExecuteTime": {
     "end_time": "2024-08-23T15:20:54.904200Z",
     "start_time": "2024-08-23T15:20:54.850738Z"
    }
   },
   "source": [
    "## finding the indices of only the 1's (actives)\n",
    "\n",
    "true_positive_indices = []\n",
    "true_positive_count = 0\n",
    "\n",
    "false_negative_indices = []\n",
    "false_negative_count = 0\n",
    "\n",
    "for i in range (0,len(data_rounded)):\n",
    "    if data_rounded[i] == 1:\n",
    "        true_positive_indices.append(i)\n",
    "        true_positive_count += 1\n",
    "    else:\n",
    "        false_negative_indices.append(i)\n",
    "        false_negative_count +=1\n",
    "\n",
    "print(true_positive_indices[:20])\n",
    "print(true_positive_count)\n",
    "print(false_negative_indices[:20])\n",
    "print(false_negative_count)"
   ],
   "outputs": [
    {
     "name": "stdout",
     "output_type": "stream",
     "text": [
      "[0, 1, 2, 3, 4, 5, 7, 8, 9, 10, 11, 14, 15, 16, 20, 21, 22, 23, 24, 28]\n",
      "20738\n",
      "[6, 12, 13, 17, 18, 19, 25, 26, 27, 29, 30, 31, 32, 34, 35, 36, 37, 38, 39, 40]\n",
      "26660\n"
     ]
    }
   ],
   "execution_count": 8
  },
  {
   "cell_type": "code",
   "id": "2770d0da-5c9a-466f-9df4-0fa92637d50e",
   "metadata": {
    "editable": true,
    "slideshow": {
     "slide_type": ""
    },
    "tags": [],
    "ExecuteTime": {
     "end_time": "2024-08-23T15:21:03.954999Z",
     "start_time": "2024-08-23T15:20:56.132965Z"
    }
   },
   "source": [
    "prediction_array = []\n",
    "for i in descending_indices:\n",
    "    triple_name = df.iloc[i,:6].tolist()\n",
    "    conf_value = float(model_prediction_floats[i])\n",
    "    row = [triple_name,conf_value]\n",
    "    flat_row = row[0]+[row[1]]\n",
    "    prediction_array.append(flat_row)\n",
    "\n"
   ],
   "outputs": [],
   "execution_count": 9
  },
  {
   "cell_type": "code",
   "id": "fac21d2f-0952-4312-945b-4a02c2f695f5",
   "metadata": {
    "ExecuteTime": {
     "end_time": "2024-08-23T15:21:06.337484Z",
     "start_time": "2024-08-23T15:21:06.334961Z"
    }
   },
   "source": [
    "print(prediction_array[:2])"
   ],
   "outputs": [
    {
     "name": "stdout",
     "output_type": "stream",
     "text": [
      "[['hydrocortisone cypionate', 'CHEBI:5783', \"hodgkin's granuloma\", 'DOID:8651', 'nuclear receptor subfamily 3 group c member 1', 'P04150', 0.9753456115722656], ['risperidone', 'CHEBI:8871', 'substance-related disorder', 'MONDO:0002494', 'dopamine receptor d2', 'P14416', 0.9750058650970459]]\n"
     ]
    }
   ],
   "execution_count": 10
  },
  {
   "metadata": {
    "ExecuteTime": {
     "end_time": "2024-08-23T15:21:40.887363Z",
     "start_time": "2024-08-23T15:21:40.785236Z"
    }
   },
   "cell_type": "code",
   "source": [
    "columns_to_use = ['drug_name','drug_id','disease_name','disease_id','protein_name','protein_id','model_confidence_value']\n",
    "df = pd.DataFrame(data = prediction_array,columns = columns_to_use)\n",
    "print(df)\n",
    "df.to_csv(os.path.join(os.getcwd(),'Screening Results/Bag of Ensembles Predictions of Top ROBOKOP Virtual Screening Set Triples.csv'))"
   ],
   "id": "5e5a90e6-94a1-4584-b5ec-66cb886d5d0d",
   "outputs": [
    {
     "name": "stdout",
     "output_type": "stream",
     "text": [
      "                      drug_name       drug_id                disease_name  \\\n",
      "0      hydrocortisone cypionate    CHEBI:5783         hodgkin's granuloma   \n",
      "1                   risperidone    CHEBI:8871  substance-related disorder   \n",
      "2                  fluphenazine    CHEBI:5123  substance-related disorder   \n",
      "3                     spiperone    CHEBI:9233   major depressive disorder   \n",
      "4                   haloperidol    CHEBI:5613  substance-related disorder   \n",
      "...                         ...           ...                         ...   \n",
      "47393              dexibuprofen   CHEBI:43415                      ptosis   \n",
      "47394              pimavanserin  CHEBI:133017         chiari malformation   \n",
      "47395                 cp-724714  CHEBI:167658                      ptosis   \n",
      "47396               doramapimod   CHEBI:40953            blepharophimosis   \n",
      "47397              dexibuprofen   CHEBI:43415            thrombocytopenia   \n",
      "\n",
      "          disease_id                                   protein_name  \\\n",
      "0          DOID:8651  nuclear receptor subfamily 3 group c member 1   \n",
      "1      MONDO:0002494                           dopamine receptor d2   \n",
      "2      MONDO:0002494                           dopamine receptor d2   \n",
      "3      MONDO:0002009                          histamine receptor h1   \n",
      "4      MONDO:0002494                           dopamine receptor d2   \n",
      "...              ...                                            ...   \n",
      "47393  MONDO:0000728                         cell division cycle 42   \n",
      "47394  MONDO:0000115                  neutrophil cytosolic factor 1   \n",
      "47395  MONDO:0000728                     cyclin dependent kinase 19   \n",
      "47396  MONDO:0001008                     cyclin dependent kinase 13   \n",
      "47397  MONDO:0002049                         cell division cycle 42   \n",
      "\n",
      "      protein_id  model_confidence_value  \n",
      "0         P04150                0.975346  \n",
      "1         P14416                0.975006  \n",
      "2         P14416                0.974976  \n",
      "3         P35367                0.974314  \n",
      "4         P14416                0.974152  \n",
      "...          ...                     ...  \n",
      "47393     P60953                0.014342  \n",
      "47394     P14598                0.014197  \n",
      "47395     Q9BWU1                0.014085  \n",
      "47396     Q14004                0.013216  \n",
      "47397     P60953                0.012362  \n",
      "\n",
      "[47398 rows x 7 columns]\n"
     ]
    }
   ],
   "execution_count": 12
  },
  {
   "metadata": {
    "ExecuteTime": {
     "end_time": "2024-08-23T18:08:40.652763Z",
     "start_time": "2024-08-23T18:08:40.606504Z"
    }
   },
   "cell_type": "code",
   "source": [
    "df_mined = pd.read_csv(os.path.join(os.getcwd(),'Screening Results/Bag of Ensembles Predictions of Top ROBOKOP Virtual Screening Set Triples.csv'))\n",
    "df_mined.drop(['Unnamed: 0'], axis = 1, inplace = True)\n",
    "\n"
   ],
   "id": "863bc546393a4c7",
   "outputs": [],
   "execution_count": 3
  },
  {
   "metadata": {
    "ExecuteTime": {
     "end_time": "2024-08-23T15:54:11.592461Z",
     "start_time": "2024-08-23T15:54:11.589283Z"
    }
   },
   "cell_type": "code",
   "source": "print(len(df_mined))",
   "id": "498818512b0e08e1",
   "outputs": [
    {
     "name": "stdout",
     "output_type": "stream",
     "text": [
      "47398\n"
     ]
    }
   ],
   "execution_count": 20
  }
 ],
 "metadata": {
  "kernelspec": {
   "display_name": "Python 3 (ipykernel)",
   "language": "python",
   "name": "python3"
  },
  "language_info": {
   "codemirror_mode": {
    "name": "ipython",
    "version": 3
   },
   "file_extension": ".py",
   "mimetype": "text/x-python",
   "name": "python",
   "nbconvert_exporter": "python",
   "pygments_lexer": "ipython3",
   "version": "3.12.3"
  }
 },
 "nbformat": 4,
 "nbformat_minor": 5
}
