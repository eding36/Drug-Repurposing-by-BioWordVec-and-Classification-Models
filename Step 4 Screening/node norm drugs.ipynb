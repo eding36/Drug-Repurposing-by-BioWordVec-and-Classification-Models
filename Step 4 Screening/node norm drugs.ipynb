{
 "cells": [
  {
   "cell_type": "code",
   "execution_count": null,
   "id": "initial_id",
   "metadata": {
    "collapsed": true
   },
   "outputs": [],
   "source": [
    "import requests as rq\n",
    "def run_node_normalizer(id):\n",
    "    id_url = id.replace(\":\",\"%3A\")\n",
    "    URL= f\"https://nodenormalization-sri.renci.org/1.5/get_normalized_nodes?curie={id_url}&conflate=true&drug_chemical_conflate=true&description=false\"\n",
    "    response = rq.get(url = URL)\n",
    "    response_json = response.json()\n",
    "    if response.status_code == 200 and response_json[id] != None:\n",
    "        identifier = response_json[id][\"id\"][\"identifier\"]\n",
    "        name = response_json[id][\"id\"][\"label\"].lower()\n",
    "    return identifier, name"
   ]
  },
  {
   "metadata": {},
   "cell_type": "code",
   "outputs": [],
   "execution_count": null,
   "source": "screening_results_df = pd.read_csv('')",
   "id": "b85969db2322bd3a"
  }
 ],
 "metadata": {
  "kernelspec": {
   "display_name": "Python 3",
   "language": "python",
   "name": "python3"
  },
  "language_info": {
   "codemirror_mode": {
    "name": "ipython",
    "version": 2
   },
   "file_extension": ".py",
   "mimetype": "text/x-python",
   "name": "python",
   "nbconvert_exporter": "python",
   "pygments_lexer": "ipython2",
   "version": "2.7.6"
  }
 },
 "nbformat": 4,
 "nbformat_minor": 5
}
