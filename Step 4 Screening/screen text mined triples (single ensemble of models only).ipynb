{
 "cells": [
  {
   "cell_type": "code",
   "id": "a9a32838-2fcc-40a6-a924-6adc3cd9b6d0",
   "metadata": {
    "editable": true,
    "slideshow": {
     "slide_type": ""
    },
    "tags": [],
    "ExecuteTime": {
     "end_time": "2024-08-14T07:46:02.643551Z",
     "start_time": "2024-08-14T07:46:00.743726Z"
    }
   },
   "source": [
    "import tensorflow as tf\n",
    "import pandas as pd\n",
    "import os\n",
    "import numpy as np\n",
    "\n",
    "parent_dir = os.path.dirname(os.getcwd())\n",
    "print(parent_dir)"
   ],
   "outputs": [
    {
     "name": "stdout",
     "output_type": "stream",
     "text": [
      "/Users/eding/PycharmProjects/U24-ROBOKOP-Project-8-7-24\n"
     ]
    },
    {
     "data": {
      "text/plain": [
       "'/Users/eding/PycharmProjects/U24-ROBOKOP-Project-8-7-24/Data Embedding'"
      ]
     },
     "execution_count": 1,
     "metadata": {},
     "output_type": "execute_result"
    }
   ],
   "execution_count": 1
  },
  {
   "cell_type": "code",
   "id": "bae1ed8b-6657-421a-880e-06fa5c6c1bd4",
   "metadata": {
    "ExecuteTime": {
     "end_time": "2024-08-14T07:46:09.644371Z",
     "start_time": "2024-08-14T07:46:09.571210Z"
    }
   },
   "source": [
    "loaded_model = tf.keras.models.load_model(\n",
    "os.path.join(parent_dir, 'Data Embedding & Model Development/Classification Models/Complete Set 1 Models/ROBOMechDB Complete Set 1 Model Fold 2.keras'))"
   ],
   "outputs": [],
   "execution_count": 2
  },
  {
   "cell_type": "code",
   "id": "46d9b11e-7245-45cc-ba69-209ad13a84d1",
   "metadata": {
    "ExecuteTime": {
     "end_time": "2024-08-14T07:46:37.972564Z",
     "start_time": "2024-08-14T07:46:34.441008Z"
    }
   },
   "source": [
    "#loading triple embeddings from robokops kg\n",
    "df = pd.read_csv(os.path.join(parent_dir,'Data Embedding & Model Development/Data Mined Embedded Dataset/ROBOKOP Text Mined Embedded Dataset.csv')\n",
    ")\n",
    "df = df.drop('Unnamed: 0', axis = 1)\n",
    "df = df.drop_duplicates(subset = ['0','2','4'])\n"
   ],
   "outputs": [],
   "execution_count": 4
  },
  {
   "cell_type": "code",
   "id": "0e2d2fd7-fb30-4181-b1b3-bad7cea1cc9e",
   "metadata": {
    "ExecuteTime": {
     "end_time": "2024-08-14T07:46:40.099383Z",
     "start_time": "2024-08-14T07:46:40.086320Z"
    }
   },
   "source": [
    "print(df)"
   ],
   "outputs": [
    {
     "name": "stdout",
     "output_type": "stream",
     "text": [
      "                 0            1                                     2  \\\n",
      "0       vandetanib  CHEBI:49960  multiple endocrine neoplasia type 2a   \n",
      "1        ponatinib  CHEBI:78543  multiple endocrine neoplasia type 2a   \n",
      "2        sorafenib  CHEBI:50924  multiple endocrine neoplasia type 2a   \n",
      "3      regorafenib  CHEBI:68647  multiple endocrine neoplasia type 2a   \n",
      "4      ruxolitinib  CHEBI:66919  multiple endocrine neoplasia type 2a   \n",
      "...            ...          ...                                   ...   \n",
      "89475  midostaurin  CHEBI:63452                          liver cancer   \n",
      "89478     axitinib  CHEBI:66910                          liver cancer   \n",
      "89479   canertinib  CHEBI:61399                          liver cancer   \n",
      "89482    diazoxide   CHEBI:4495                          liver cancer   \n",
      "89483  ceftriaxone  CHEBI:29007                          liver cancer   \n",
      "\n",
      "                   3                                             4       5  \\\n",
      "0       DOID:0050430                            ret proto-oncogene  P07949   \n",
      "1       DOID:0050430                            ret proto-oncogene  P07949   \n",
      "2       DOID:0050430                            ret proto-oncogene  P07949   \n",
      "3       DOID:0050430                            ret proto-oncogene  P07949   \n",
      "4       DOID:0050430                            ret proto-oncogene  P07949   \n",
      "...              ...                                           ...     ...   \n",
      "89475  MONDO:0002691  met proto-oncogene, receptor tyrosine kinase  P08581   \n",
      "89478  MONDO:0002691  met proto-oncogene, receptor tyrosine kinase  P08581   \n",
      "89479  MONDO:0002691  met proto-oncogene, receptor tyrosine kinase  P08581   \n",
      "89482  MONDO:0002691                      glutamate-ammonia ligase  P15104   \n",
      "89483  MONDO:0002691                      glutamate-ammonia ligase  P15104   \n",
      "\n",
      "             6        7         8        9  ...       597       598       599  \\\n",
      "0      0.79093  0.60086 -0.280790  0.40022  ... -0.519700 -0.235580  0.548090   \n",
      "1      1.04940  0.40934 -0.371100  0.60369  ... -0.519700 -0.235580  0.548090   \n",
      "2      0.83631  0.44954 -0.137240  0.64914  ... -0.519700 -0.235580  0.548090   \n",
      "3      0.59610  0.39431 -0.083177  0.48489  ... -0.519700 -0.235580  0.548090   \n",
      "4      0.87328  0.17077 -0.033955  0.62591  ... -0.519700 -0.235580  0.548090   \n",
      "...        ...      ...       ...      ...  ...       ...       ...       ...   \n",
      "89475  1.04850  0.23714 -0.189650  0.17908  ... -1.499689 -0.861604  0.952285   \n",
      "89478  0.62526  0.49068 -0.230160  0.30915  ... -1.499689 -0.861604  0.952285   \n",
      "89479  0.71189  0.53785 -0.191020  0.06660  ... -1.499689 -0.861604  0.952285   \n",
      "89482  0.36869  0.25435 -0.945560  0.46576  ... -0.887960  0.539330  0.250144   \n",
      "89483  0.27476 -0.55301 -0.143250  0.23948  ... -0.887960  0.539330  0.250144   \n",
      "\n",
      "            600       601       602       603       604       605  606  \n",
      "0      0.650776 -0.738723  0.183145 -0.239190  0.720170 -0.227820    1  \n",
      "1      0.650776 -0.738723  0.183145 -0.239190  0.720170 -0.227820    1  \n",
      "2      0.650776 -0.738723  0.183145 -0.239190  0.720170 -0.227820    1  \n",
      "3      0.650776 -0.738723  0.183145 -0.239190  0.720170 -0.227820    1  \n",
      "4      0.650776 -0.738723  0.183145 -0.239190  0.720170 -0.227820    1  \n",
      "...         ...       ...       ...       ...       ...       ...  ...  \n",
      "89475  0.628822 -0.167573  0.777400  0.009968 -0.987442 -2.071025    1  \n",
      "89478  0.628822 -0.167573  0.777400  0.009968 -0.987442 -2.071025    1  \n",
      "89479  0.628822 -0.167573  0.777400  0.009968 -0.987442 -2.071025    1  \n",
      "89482 -0.092256  0.244766 -1.261600  0.534886 -0.147364 -0.224105    1  \n",
      "89483 -0.092256  0.244766 -1.261600  0.534886 -0.147364 -0.224105    1  \n",
      "\n",
      "[47398 rows x 607 columns]\n"
     ]
    }
   ],
   "execution_count": 5
  },
  {
   "cell_type": "code",
   "execution_count": 9,
   "id": "0aa76674-63b6-456a-a189-1edae69443ba",
   "metadata": {},
   "outputs": [
    {
     "name": "stdout",
     "output_type": "stream",
     "text": [
      "                 0                                     1  \\\n",
      "0        ponatinib  multiple endocrine neoplasia type 2a   \n",
      "1        sorafenib  multiple endocrine neoplasia type 2a   \n",
      "2      regorafenib  multiple endocrine neoplasia type 2a   \n",
      "3      ruxolitinib  multiple endocrine neoplasia type 2a   \n",
      "4        sunitinib  multiple endocrine neoplasia type 2a   \n",
      "...            ...                                   ...   \n",
      "45943   canertinib                          liver cancer   \n",
      "45944    diazoxide                          liver cancer   \n",
      "45945  ceftriaxone                          liver cancer   \n",
      "45946       pi-103                          liver cancer   \n",
      "45947       bkm120                          liver cancer   \n",
      "\n",
      "                                                       2         3         4  \\\n",
      "0                                     ret proto-oncogene -0.430430  0.251120   \n",
      "1                                     ret proto-oncogene  0.741410  0.247970   \n",
      "2                                     ret proto-oncogene  0.947260  0.175790   \n",
      "3                                     ret proto-oncogene  0.631360  0.570020   \n",
      "4                                     ret proto-oncogene  0.734400  0.492950   \n",
      "...                                                  ...       ...       ...   \n",
      "45943       met proto-oncogene, receptor tyrosine kinase  0.039765 -0.101100   \n",
      "45944                           glutamate-ammonia ligase  0.782020  0.283650   \n",
      "45945                           glutamate-ammonia ligase  1.039200  0.158310   \n",
      "45946  phosphatidylinositol-4,5-bisphosphate 3-kinase...  0.352110 -0.011255   \n",
      "45947  phosphatidylinositol-4,5-bisphosphate 3-kinase...  0.556080  0.436480   \n",
      "\n",
      "              5         6         7         8         9  ...       594  \\\n",
      "0     -0.872140  0.902500 -0.601130  0.150750  0.204270  ... -2.163250   \n",
      "1     -0.379040  0.667470 -0.042293  0.433970  0.314800  ... -2.163250   \n",
      "2     -0.031039 -0.097002  0.067842 -0.605570  0.732930  ... -2.163250   \n",
      "3     -0.439450  0.723950 -0.681260  0.574570  0.083001  ... -2.163250   \n",
      "4      0.067769  0.326390 -0.141290  0.427020 -0.152060  ... -2.163250   \n",
      "...         ...       ...       ...       ...       ...  ...       ...   \n",
      "45943 -0.289020  0.181240  0.291050  0.088104  0.014223  ... -0.878877   \n",
      "45944  0.221080  0.585980 -0.070061 -0.207430  0.030755  ... -1.245016   \n",
      "45945 -0.172750  1.122900  0.223930  0.651920  0.197710  ... -1.245016   \n",
      "45946 -0.362450 -0.051491 -0.000118 -0.804860 -0.106230  ... -0.209294   \n",
      "45947 -0.511660  1.116900 -0.288160 -0.095419  0.343780  ... -0.209294   \n",
      "\n",
      "            595       596       597       598       599       600       601  \\\n",
      "0     -0.647708  0.739731  1.532468 -2.397824 -1.121323  1.374250  0.123030   \n",
      "1     -0.647708  0.739731  1.532468 -2.397824 -1.121323  1.374250  0.123030   \n",
      "2     -0.647708  0.739731  1.532468 -2.397824 -1.121323  1.374250  0.123030   \n",
      "3     -0.647708  0.739731  1.532468 -2.397824 -1.121323  1.374250  0.123030   \n",
      "4     -0.647708  0.739731  1.532468 -2.397824 -1.121323  1.374250  0.123030   \n",
      "...         ...       ...       ...       ...       ...       ...       ...   \n",
      "45943 -0.814728  0.153910 -0.735581 -1.078968  0.608158  0.309540 -1.433342   \n",
      "45944 -0.480498 -1.717720  0.602670  0.789210 -0.036770  0.459348 -0.758576   \n",
      "45945 -0.480498 -1.717720  0.602670  0.789210 -0.036770  0.459348 -0.758576   \n",
      "45946 -0.067780  2.984964  1.724077 -1.031724 -1.107529  3.174275 -0.986415   \n",
      "45947 -0.067780  2.984964  1.724077 -1.031724 -1.107529  3.174275 -0.986415   \n",
      "\n",
      "            602  603  \n",
      "0      0.602145    1  \n",
      "1      0.602145    1  \n",
      "2      0.602145    1  \n",
      "3      0.602145    1  \n",
      "4      0.602145    1  \n",
      "...         ...  ...  \n",
      "45943 -2.519460    1  \n",
      "45944  0.373439    1  \n",
      "45945  0.373439    1  \n",
      "45946 -2.427922    1  \n",
      "45947 -2.427922    1  \n",
      "\n",
      "[45948 rows x 604 columns]\n"
     ]
    }
   ],
   "source": [
    "total_df = pd.concat([model_df,df],axis=0)\n",
    "columns = ['0','1','2']\n",
    "unique = total_df.drop_duplicates(subset= columns, keep = 'first')\n",
    "new_df = unique.iloc[17414:]\n",
    "new_df = new_df.reset_index().drop('index', axis=1)\n",
    "new_df = new_df.drop_duplicates(subset= columns)\n",
    "print(new_df)"
   ]
  },
  {
   "cell_type": "code",
   "id": "de26c230-338c-440c-82d0-614234b03095",
   "metadata": {
    "ExecuteTime": {
     "end_time": "2024-08-14T07:49:04.100636Z",
     "start_time": "2024-08-14T07:49:04.074161Z"
    }
   },
   "source": [
    "data = df.iloc[:, 6:-1]\n",
    "\n",
    "print(data[:1])\n"
   ],
   "outputs": [
    {
     "name": "stdout",
     "output_type": "stream",
     "text": [
      "         6        7        8        9       10       11        12       13  \\\n",
      "0  0.79093  0.60086 -0.28079  0.40022 -0.50199  0.65795  0.013582 -0.07678   \n",
      "\n",
      "         14       15  ...      596     597      598      599       600  \\\n",
      "0 -0.020119 -0.31451  ... -0.27445 -0.5197 -0.23558  0.54809  0.650776   \n",
      "\n",
      "        601       602      603      604      605  \n",
      "0 -0.738723  0.183145 -0.23919  0.72017 -0.22782  \n",
      "\n",
      "[1 rows x 600 columns]\n"
     ]
    }
   ],
   "execution_count": 6
  },
  {
   "cell_type": "code",
   "id": "8cfddad4-937a-4318-b7db-18992798ad3f",
   "metadata": {
    "editable": true,
    "slideshow": {
     "slide_type": ""
    },
    "tags": [],
    "ExecuteTime": {
     "end_time": "2024-08-14T07:49:06.234700Z",
     "start_time": "2024-08-14T07:49:04.844704Z"
    }
   },
   "source": [
    "predictions = loaded_model.predict(data)\n",
    "data_rounded = np.round(predictions)\n",
    "descending_confidence_values = np.sort(predictions.flatten())[::-1]\n",
    "ascending_indices = np.argsort(predictions.flatten())\n",
    "descending_indices = np.flip(ascending_indices)"
   ],
   "outputs": [
    {
     "name": "stdout",
     "output_type": "stream",
     "text": [
      "\u001B[1m1482/1482\u001B[0m \u001B[32m━━━━━━━━━━━━━━━━━━━━\u001B[0m\u001B[37m\u001B[0m \u001B[1m1s\u001B[0m 790us/step\n"
     ]
    }
   ],
   "execution_count": 7
  },
  {
   "cell_type": "code",
   "id": "639fd915-5cb3-41c1-aaf6-8f119f146023",
   "metadata": {
    "ExecuteTime": {
     "end_time": "2024-08-14T07:49:06.635671Z",
     "start_time": "2024-08-14T07:49:06.633435Z"
    }
   },
   "source": [
    "print(ascending_indices[:5])"
   ],
   "outputs": [
    {
     "name": "stdout",
     "output_type": "stream",
     "text": [
      "[16838 16840 27899 44529 16262]\n"
     ]
    }
   ],
   "execution_count": 8
  },
  {
   "cell_type": "code",
   "id": "1ca651b5-ae5d-411f-ac4a-ce397ac7685e",
   "metadata": {
    "ExecuteTime": {
     "end_time": "2024-08-14T07:49:07.590393Z",
     "start_time": "2024-08-14T07:49:07.587098Z"
    }
   },
   "source": [
    "print(predictions[1920])"
   ],
   "outputs": [
    {
     "name": "stdout",
     "output_type": "stream",
     "text": [
      "[0.93079]\n"
     ]
    }
   ],
   "execution_count": 9
  },
  {
   "cell_type": "code",
   "id": "88128ad3-45d7-4a08-b2d7-b72e51f2aad1",
   "metadata": {
    "ExecuteTime": {
     "end_time": "2024-08-14T07:49:09.585487Z",
     "start_time": "2024-08-14T07:49:09.580899Z"
    }
   },
   "source": "print(df.iloc[1920])",
   "outputs": [
    {
     "name": "stdout",
     "output_type": "stream",
     "text": [
      "0                               roxindole\n",
      "1                             CHEBI:48558\n",
      "2      postencephalitic parkinson disease\n",
      "3                           MONDO:0001945\n",
      "4                    dopamine receptor d1\n",
      "                      ...                \n",
      "602                              0.132967\n",
      "603                              0.634726\n",
      "604                               0.86164\n",
      "605                             -1.299339\n",
      "606                                     1\n",
      "Name: 4100, Length: 607, dtype: object\n"
     ]
    }
   ],
   "execution_count": 10
  },
  {
   "cell_type": "code",
   "id": "715b2bca-b266-4f82-b384-8b0bb5799a5f",
   "metadata": {
    "ExecuteTime": {
     "end_time": "2024-08-14T07:49:10.209180Z",
     "start_time": "2024-08-14T07:49:10.170937Z"
    }
   },
   "source": [
    "## finding the indices of only the 1's (actives)\n",
    "\n",
    "true_positive_indices = []\n",
    "true_positive_count = 0\n",
    "\n",
    "false_negative_indices = []\n",
    "false_negative_count = 0\n",
    "\n",
    "for i in range (0,len(data_rounded)):\n",
    "    if data_rounded[i] == 1:\n",
    "        true_positive_indices.append(i)\n",
    "        true_positive_count += 1\n",
    "    else:\n",
    "        false_negative_indices.append(i)\n",
    "        false_negative_count +=1\n",
    "\n",
    "print(true_positive_indices[:20])\n",
    "print(true_positive_count)\n",
    "print(false_negative_indices[:20])\n",
    "print(false_negative_count)"
   ],
   "outputs": [
    {
     "name": "stdout",
     "output_type": "stream",
     "text": [
      "[0, 1, 2, 3, 4, 5, 7, 9, 10, 16, 20, 21, 22, 23, 51, 52, 53, 87, 88, 89]\n",
      "21374\n",
      "[6, 8, 11, 12, 13, 14, 15, 17, 18, 19, 24, 25, 26, 27, 28, 29, 30, 31, 32, 33]\n",
      "26024\n"
     ]
    }
   ],
   "execution_count": 11
  },
  {
   "metadata": {
    "ExecuteTime": {
     "end_time": "2024-08-14T07:49:12.146579Z",
     "start_time": "2024-08-14T07:49:12.142793Z"
    }
   },
   "cell_type": "code",
   "source": "print(df.iloc[1,:6])",
   "id": "653fa6f51a6e6c32",
   "outputs": [
    {
     "name": "stdout",
     "output_type": "stream",
     "text": [
      "0                               ponatinib\n",
      "1                             CHEBI:78543\n",
      "2    multiple endocrine neoplasia type 2a\n",
      "3                            DOID:0050430\n",
      "4                      ret proto-oncogene\n",
      "5                                  P07949\n",
      "Name: 1, dtype: object\n"
     ]
    }
   ],
   "execution_count": 12
  },
  {
   "cell_type": "code",
   "id": "2770d0da-5c9a-466f-9df4-0fa92637d50e",
   "metadata": {
    "editable": true,
    "slideshow": {
     "slide_type": ""
    },
    "tags": [],
    "ExecuteTime": {
     "end_time": "2024-08-14T07:49:21.177353Z",
     "start_time": "2024-08-14T07:49:13.440939Z"
    }
   },
   "source": [
    "prediction_array = []\n",
    "for i in descending_indices:\n",
    "    triple_name = df.iloc[i,:6].tolist()\n",
    "    conf_value = float(predictions[i])\n",
    "    row = [triple_name,conf_value]\n",
    "    flat_row = row[0]+[row[1]]\n",
    "    prediction_array.append(flat_row)\n",
    "\n"
   ],
   "outputs": [
    {
     "name": "stderr",
     "output_type": "stream",
     "text": [
      "/var/folders/91/rbzkmg7n5g7f992d83ryjnz40000gn/T/ipykernel_54158/2981000910.py:4: DeprecationWarning: Conversion of an array with ndim > 0 to a scalar is deprecated, and will error in future. Ensure you extract a single element from your array before performing this operation. (Deprecated NumPy 1.25.)\n",
      "  conf_value = float(predictions[i])\n"
     ]
    }
   ],
   "execution_count": 13
  },
  {
   "cell_type": "code",
   "id": "fac21d2f-0952-4312-945b-4a02c2f695f5",
   "metadata": {
    "ExecuteTime": {
     "end_time": "2024-08-14T07:49:27.484814Z",
     "start_time": "2024-08-14T07:49:27.481787Z"
    }
   },
   "source": "print(prediction_array[:2])",
   "outputs": [
    {
     "name": "stdout",
     "output_type": "stream",
     "text": [
      "[['promazine', 'CHEBI:8459', 'major depressive disorder', 'MONDO:0002009', 'histamine receptor h1', 'P35367', 0.9999656081199646], ['hydroxyzine', 'CHEBI:5818', 'major depressive disorder', 'MONDO:0002009', 'histamine receptor h1', 'P35367', 0.9999567866325378]]\n"
     ]
    }
   ],
   "execution_count": 14
  },
  {
   "metadata": {
    "ExecuteTime": {
     "end_time": "2024-08-13T18:44:58.209087Z",
     "start_time": "2024-08-13T18:44:58.206547Z"
    }
   },
   "cell_type": "code",
   "source": "to_send = prediction_array[:30]",
   "id": "43a3b10224b615d8",
   "outputs": [],
   "execution_count": 25
  },
  {
   "cell_type": "code",
   "id": "5e5a90e6-94a1-4584-b5ec-66cb886d5d0d",
   "metadata": {
    "ExecuteTime": {
     "end_time": "2024-08-14T07:49:42.310955Z",
     "start_time": "2024-08-14T07:49:42.193591Z"
    }
   },
   "source": [
    "columns_to_use = ['drug_name','drug_id','disease_name','disease_id','protein_name','protein_id','model_confidence_value']\n",
    "df = pd.DataFrame(data = prediction_array,columns = columns_to_use)\n",
    "df = df.drop_duplicates(subset= ['drug_name','disease_name','protein_name'])\n",
    "df.to_csv(os.path.join(os.getcwd(),'Screening Results/Complete Set 1 Top Model Predictions of Top ROBOKOP Data Mined Triples.csv'))"
   ],
   "outputs": [],
   "execution_count": 15
  },
  {
   "cell_type": "code",
   "id": "a2635ceb-5b1b-4b06-a714-c18f8a84c60c",
   "metadata": {
    "ExecuteTime": {
     "end_time": "2024-08-14T07:44:25.380914Z",
     "start_time": "2024-08-14T07:44:25.376322Z"
    }
   },
   "source": "print(df)",
   "outputs": [
    {
     "name": "stdout",
     "output_type": "stream",
     "text": [
      "             drug_name       drug_id               disease_name  \\\n",
      "0            promazine    CHEBI:8459  major depressive disorder   \n",
      "2          hydroxyzine    CHEBI:5818  major depressive disorder   \n",
      "4      brompheniramine    CHEBI:3183  major depressive disorder   \n",
      "6            bromazine   CHEBI:59177  major depressive disorder   \n",
      "7             loxapine   CHEBI:50841        depressive disorder   \n",
      "...                ...           ...                        ...   \n",
      "89580     dexibuprofen   CHEBI:43415                     ptosis   \n",
      "89581     pimavanserin  CHEBI:133017        gingival overgrowth   \n",
      "89582     dexibuprofen   CHEBI:43415                  exotropia   \n",
      "89583      risperidone    CHEBI:8871               cornea plana   \n",
      "89584     pimavanserin  CHEBI:133017               cornea plana   \n",
      "\n",
      "          disease_id                   protein_name protein_id  \\\n",
      "0      MONDO:0002009          histamine receptor h1     P35367   \n",
      "2      MONDO:0002009          histamine receptor h1     P35367   \n",
      "4      MONDO:0002009          histamine receptor h1     P35367   \n",
      "6      MONDO:0002009          histamine receptor h1     P35367   \n",
      "7      MONDO:0002050          histamine receptor h1     P35367   \n",
      "...              ...                            ...        ...   \n",
      "89580  MONDO:0000728         cell division cycle 42     P60953   \n",
      "89581  MONDO:0002507  neutrophil cytosolic factor 1     P14598   \n",
      "89582  MONDO:0001286         cell division cycle 42     P60953   \n",
      "89583  MONDO:0000733  neutrophil cytosolic factor 1     P14598   \n",
      "89584  MONDO:0000733  neutrophil cytosolic factor 1     P14598   \n",
      "\n",
      "       model_confidence_value  \n",
      "0                    0.999966  \n",
      "2                    0.999957  \n",
      "4                    0.999947  \n",
      "6                    0.999944  \n",
      "7                    0.999941  \n",
      "...                       ...  \n",
      "89580                0.000386  \n",
      "89581                0.000376  \n",
      "89582                0.000344  \n",
      "89583                0.000149  \n",
      "89584                0.000126  \n",
      "\n",
      "[47398 rows x 7 columns]\n"
     ]
    }
   ],
   "execution_count": 26
  },
  {
   "metadata": {},
   "cell_type": "code",
   "outputs": [],
   "execution_count": null,
   "source": "",
   "id": "8a748bca3028c97"
  }
 ],
 "metadata": {
  "kernelspec": {
   "display_name": "Python 3 (ipykernel)",
   "language": "python",
   "name": "python3"
  },
  "language_info": {
   "codemirror_mode": {
    "name": "ipython",
    "version": 3
   },
   "file_extension": ".py",
   "mimetype": "text/x-python",
   "name": "python",
   "nbconvert_exporter": "python",
   "pygments_lexer": "ipython3",
   "version": "3.12.3"
  }
 },
 "nbformat": 4,
 "nbformat_minor": 5
}
