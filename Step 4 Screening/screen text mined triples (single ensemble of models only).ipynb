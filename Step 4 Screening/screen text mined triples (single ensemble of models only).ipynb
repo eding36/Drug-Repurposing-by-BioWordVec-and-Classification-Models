{
 "cells": [
  {
   "cell_type": "code",
   "id": "a9a32838-2fcc-40a6-a924-6adc3cd9b6d0",
   "metadata": {
    "editable": true,
    "slideshow": {
     "slide_type": ""
    },
    "tags": [],
    "ExecuteTime": {
     "end_time": "2024-11-12T23:37:31.591193Z",
     "start_time": "2024-11-12T23:37:29.742881Z"
    }
   },
   "source": [
    "import tensorflow as tf\n",
    "import pandas as pd\n",
    "import os\n",
    "import numpy as np\n",
    "\n",
    "parent_dir = os.path.dirname(os.getcwd())\n",
    "print(parent_dir)"
   ],
   "outputs": [
    {
     "name": "stdout",
     "output_type": "stream",
     "text": [
      "/Users/eding/PycharmProjects/U24-ROBOKOP-Project-8-21-24\n"
     ]
    }
   ],
   "execution_count": 1
  },
  {
   "cell_type": "code",
   "id": "bae1ed8b-6657-421a-880e-06fa5c6c1bd4",
   "metadata": {
    "ExecuteTime": {
     "end_time": "2024-11-12T23:37:31.835512Z",
     "start_time": "2024-11-12T23:37:31.592051Z"
    }
   },
   "source": [
    "loaded_model = tf.keras.models.load_model(\n",
    "os.path.join(parent_dir, 'Data Embedding & Model Development/Classification Models/Complete Set 1 Models/ROBOMechDB Complete Set 1 Model Fold 2.keras'))"
   ],
   "outputs": [
    {
     "ename": "ValueError",
     "evalue": "File not found: filepath=/Users/eding/PycharmProjects/U24-ROBOKOP-Project-8-21-24/Data Embedding & Model Development/Classification Models/Complete Set 1 Models/ROBOMechDB Complete Set 1 Model Fold 2.keras. Please ensure the file is an accessible `.keras` zip file.",
     "output_type": "error",
     "traceback": [
      "\u001B[0;31m---------------------------------------------------------------------------\u001B[0m",
      "\u001B[0;31mValueError\u001B[0m                                Traceback (most recent call last)",
      "Cell \u001B[0;32mIn[2], line 1\u001B[0m\n\u001B[0;32m----> 1\u001B[0m loaded_model \u001B[38;5;241m=\u001B[39m tf\u001B[38;5;241m.\u001B[39mkeras\u001B[38;5;241m.\u001B[39mmodels\u001B[38;5;241m.\u001B[39mload_model(\n\u001B[1;32m      2\u001B[0m os\u001B[38;5;241m.\u001B[39mpath\u001B[38;5;241m.\u001B[39mjoin(parent_dir, \u001B[38;5;124m'\u001B[39m\u001B[38;5;124mData Embedding & Model Development/Classification Models/Complete Set 1 Models/ROBOMechDB Complete Set 1 Model Fold 2.keras\u001B[39m\u001B[38;5;124m'\u001B[39m))\n",
      "File \u001B[0;32m/opt/anaconda3/lib/python3.12/site-packages/keras/src/saving/saving_api.py:200\u001B[0m, in \u001B[0;36mload_model\u001B[0;34m(filepath, custom_objects, compile, safe_mode)\u001B[0m\n\u001B[1;32m    196\u001B[0m     \u001B[38;5;28;01mreturn\u001B[39;00m legacy_h5_format\u001B[38;5;241m.\u001B[39mload_model_from_hdf5(\n\u001B[1;32m    197\u001B[0m         filepath, custom_objects\u001B[38;5;241m=\u001B[39mcustom_objects, \u001B[38;5;28mcompile\u001B[39m\u001B[38;5;241m=\u001B[39m\u001B[38;5;28mcompile\u001B[39m\n\u001B[1;32m    198\u001B[0m     )\n\u001B[1;32m    199\u001B[0m \u001B[38;5;28;01melif\u001B[39;00m \u001B[38;5;28mstr\u001B[39m(filepath)\u001B[38;5;241m.\u001B[39mendswith(\u001B[38;5;124m\"\u001B[39m\u001B[38;5;124m.keras\u001B[39m\u001B[38;5;124m\"\u001B[39m):\n\u001B[0;32m--> 200\u001B[0m     \u001B[38;5;28;01mraise\u001B[39;00m \u001B[38;5;167;01mValueError\u001B[39;00m(\n\u001B[1;32m    201\u001B[0m         \u001B[38;5;124mf\u001B[39m\u001B[38;5;124m\"\u001B[39m\u001B[38;5;124mFile not found: filepath=\u001B[39m\u001B[38;5;132;01m{\u001B[39;00mfilepath\u001B[38;5;132;01m}\u001B[39;00m\u001B[38;5;124m. \u001B[39m\u001B[38;5;124m\"\u001B[39m\n\u001B[1;32m    202\u001B[0m         \u001B[38;5;124m\"\u001B[39m\u001B[38;5;124mPlease ensure the file is an accessible `.keras` \u001B[39m\u001B[38;5;124m\"\u001B[39m\n\u001B[1;32m    203\u001B[0m         \u001B[38;5;124m\"\u001B[39m\u001B[38;5;124mzip file.\u001B[39m\u001B[38;5;124m\"\u001B[39m\n\u001B[1;32m    204\u001B[0m     )\n\u001B[1;32m    205\u001B[0m \u001B[38;5;28;01melse\u001B[39;00m:\n\u001B[1;32m    206\u001B[0m     \u001B[38;5;28;01mraise\u001B[39;00m \u001B[38;5;167;01mValueError\u001B[39;00m(\n\u001B[1;32m    207\u001B[0m         \u001B[38;5;124mf\u001B[39m\u001B[38;5;124m\"\u001B[39m\u001B[38;5;124mFile format not supported: filepath=\u001B[39m\u001B[38;5;132;01m{\u001B[39;00mfilepath\u001B[38;5;132;01m}\u001B[39;00m\u001B[38;5;124m. \u001B[39m\u001B[38;5;124m\"\u001B[39m\n\u001B[1;32m    208\u001B[0m         \u001B[38;5;124m\"\u001B[39m\u001B[38;5;124mKeras 3 only supports V3 `.keras` files and \u001B[39m\u001B[38;5;124m\"\u001B[39m\n\u001B[0;32m   (...)\u001B[0m\n\u001B[1;32m    217\u001B[0m         \u001B[38;5;124m\"\u001B[39m\u001B[38;5;124mmight have a different name).\u001B[39m\u001B[38;5;124m\"\u001B[39m\n\u001B[1;32m    218\u001B[0m     )\n",
      "\u001B[0;31mValueError\u001B[0m: File not found: filepath=/Users/eding/PycharmProjects/U24-ROBOKOP-Project-8-21-24/Data Embedding & Model Development/Classification Models/Complete Set 1 Models/ROBOMechDB Complete Set 1 Model Fold 2.keras. Please ensure the file is an accessible `.keras` zip file."
     ]
    }
   ],
   "execution_count": 2
  },
  {
   "cell_type": "code",
   "id": "46d9b11e-7245-45cc-ba69-209ad13a84d1",
   "metadata": {
    "ExecuteTime": {
     "end_time": "2024-08-14T07:46:37.972564Z",
     "start_time": "2024-08-14T07:46:34.441008Z"
    }
   },
   "source": [
    "#loading triple embeddings from robokops kg\n",
    "df = pd.read_csv(os.path.join(parent_dir,'Data Embedding & Model Development/Data Mined Embedded Dataset/ROBOKOP Virtual Screening Set Embedded Dataset.csv')\n",
    ")\n",
    "df = df.drop('Unnamed: 0', axis = 1)\n",
    "df = df.drop_duplicates(subset = ['0','2','4'])\n"
   ],
   "outputs": [],
   "execution_count": 4
  },
  {
   "cell_type": "code",
   "id": "0e2d2fd7-fb30-4181-b1b3-bad7cea1cc9e",
   "metadata": {
    "ExecuteTime": {
     "end_time": "2024-11-12T23:37:34.676880Z",
     "start_time": "2024-11-12T23:37:34.657872Z"
    }
   },
   "source": [
    "print(df)"
   ],
   "outputs": [
    {
     "ename": "NameError",
     "evalue": "name 'df' is not defined",
     "output_type": "error",
     "traceback": [
      "\u001B[0;31m---------------------------------------------------------------------------\u001B[0m",
      "\u001B[0;31mNameError\u001B[0m                                 Traceback (most recent call last)",
      "Cell \u001B[0;32mIn[3], line 1\u001B[0m\n\u001B[0;32m----> 1\u001B[0m \u001B[38;5;28mprint\u001B[39m(df)\n",
      "\u001B[0;31mNameError\u001B[0m: name 'df' is not defined"
     ]
    }
   ],
   "execution_count": 3
  },
  {
   "cell_type": "code",
   "id": "de26c230-338c-440c-82d0-614234b03095",
   "metadata": {
    "ExecuteTime": {
     "end_time": "2024-11-12T23:38:19.829849Z",
     "start_time": "2024-11-12T23:38:19.817519Z"
    }
   },
   "source": [
    "data = df.iloc[:, 6:-1]\n",
    "\n",
    "print(data[:1])\n"
   ],
   "outputs": [
    {
     "ename": "NameError",
     "evalue": "name 'df' is not defined",
     "output_type": "error",
     "traceback": [
      "\u001B[0;31m---------------------------------------------------------------------------\u001B[0m",
      "\u001B[0;31mNameError\u001B[0m                                 Traceback (most recent call last)",
      "Cell \u001B[0;32mIn[4], line 1\u001B[0m\n\u001B[0;32m----> 1\u001B[0m data \u001B[38;5;241m=\u001B[39m df\u001B[38;5;241m.\u001B[39miloc[:, \u001B[38;5;241m6\u001B[39m:\u001B[38;5;241m-\u001B[39m\u001B[38;5;241m1\u001B[39m]\n\u001B[1;32m      3\u001B[0m \u001B[38;5;28mprint\u001B[39m(data[:\u001B[38;5;241m1\u001B[39m])\n",
      "\u001B[0;31mNameError\u001B[0m: name 'df' is not defined"
     ]
    }
   ],
   "execution_count": 4
  },
  {
   "cell_type": "code",
   "id": "8cfddad4-937a-4318-b7db-18992798ad3f",
   "metadata": {
    "editable": true,
    "slideshow": {
     "slide_type": ""
    },
    "tags": [],
    "ExecuteTime": {
     "end_time": "2024-11-12T23:38:25.678010Z",
     "start_time": "2024-11-12T23:38:25.659520Z"
    }
   },
   "source": [
    "predictions = loaded_model.predict(data)\n",
    "data_rounded = np.round(predictions)\n",
    "descending_confidence_values = np.sort(predictions.flatten())[::-1]\n",
    "ascending_indices = np.argsort(predictions.flatten())\n",
    "descending_indices = np.flip(ascending_indices)"
   ],
   "outputs": [
    {
     "ename": "NameError",
     "evalue": "name 'loaded_model' is not defined",
     "output_type": "error",
     "traceback": [
      "\u001B[0;31m---------------------------------------------------------------------------\u001B[0m",
      "\u001B[0;31mNameError\u001B[0m                                 Traceback (most recent call last)",
      "Cell \u001B[0;32mIn[5], line 1\u001B[0m\n\u001B[0;32m----> 1\u001B[0m predictions \u001B[38;5;241m=\u001B[39m loaded_model\u001B[38;5;241m.\u001B[39mpredict(data)\n\u001B[1;32m      2\u001B[0m data_rounded \u001B[38;5;241m=\u001B[39m np\u001B[38;5;241m.\u001B[39mround(predictions)\n\u001B[1;32m      3\u001B[0m descending_confidence_values \u001B[38;5;241m=\u001B[39m np\u001B[38;5;241m.\u001B[39msort(predictions\u001B[38;5;241m.\u001B[39mflatten())[::\u001B[38;5;241m-\u001B[39m\u001B[38;5;241m1\u001B[39m]\n",
      "\u001B[0;31mNameError\u001B[0m: name 'loaded_model' is not defined"
     ]
    }
   ],
   "execution_count": 5
  },
  {
   "cell_type": "code",
   "id": "639fd915-5cb3-41c1-aaf6-8f119f146023",
   "metadata": {
    "ExecuteTime": {
     "end_time": "2024-11-12T23:38:28.692776Z",
     "start_time": "2024-11-12T23:38:28.680442Z"
    }
   },
   "source": [
    "print(ascending_indices[:5])"
   ],
   "outputs": [
    {
     "ename": "NameError",
     "evalue": "name 'ascending_indices' is not defined",
     "output_type": "error",
     "traceback": [
      "\u001B[0;31m---------------------------------------------------------------------------\u001B[0m",
      "\u001B[0;31mNameError\u001B[0m                                 Traceback (most recent call last)",
      "Cell \u001B[0;32mIn[6], line 1\u001B[0m\n\u001B[0;32m----> 1\u001B[0m \u001B[38;5;28mprint\u001B[39m(ascending_indices[:\u001B[38;5;241m5\u001B[39m])\n",
      "\u001B[0;31mNameError\u001B[0m: name 'ascending_indices' is not defined"
     ]
    }
   ],
   "execution_count": 6
  },
  {
   "cell_type": "code",
   "id": "1ca651b5-ae5d-411f-ac4a-ce397ac7685e",
   "metadata": {
    "ExecuteTime": {
     "end_time": "2024-11-12T23:38:30.068205Z",
     "start_time": "2024-11-12T23:38:30.052056Z"
    }
   },
   "source": [
    "print(predictions[1920])"
   ],
   "outputs": [
    {
     "ename": "NameError",
     "evalue": "name 'predictions' is not defined",
     "output_type": "error",
     "traceback": [
      "\u001B[0;31m---------------------------------------------------------------------------\u001B[0m",
      "\u001B[0;31mNameError\u001B[0m                                 Traceback (most recent call last)",
      "Cell \u001B[0;32mIn[7], line 1\u001B[0m\n\u001B[0;32m----> 1\u001B[0m \u001B[38;5;28mprint\u001B[39m(predictions[\u001B[38;5;241m1920\u001B[39m])\n",
      "\u001B[0;31mNameError\u001B[0m: name 'predictions' is not defined"
     ]
    }
   ],
   "execution_count": 7
  },
  {
   "cell_type": "code",
   "id": "88128ad3-45d7-4a08-b2d7-b72e51f2aad1",
   "metadata": {
    "ExecuteTime": {
     "end_time": "2024-11-12T23:38:31.027210Z",
     "start_time": "2024-11-12T23:38:31.010621Z"
    }
   },
   "source": "print(df.iloc[1920])",
   "outputs": [
    {
     "ename": "NameError",
     "evalue": "name 'df' is not defined",
     "output_type": "error",
     "traceback": [
      "\u001B[0;31m---------------------------------------------------------------------------\u001B[0m",
      "\u001B[0;31mNameError\u001B[0m                                 Traceback (most recent call last)",
      "Cell \u001B[0;32mIn[8], line 1\u001B[0m\n\u001B[0;32m----> 1\u001B[0m \u001B[38;5;28mprint\u001B[39m(df\u001B[38;5;241m.\u001B[39miloc[\u001B[38;5;241m1920\u001B[39m])\n",
      "\u001B[0;31mNameError\u001B[0m: name 'df' is not defined"
     ]
    }
   ],
   "execution_count": 8
  },
  {
   "cell_type": "code",
   "id": "715b2bca-b266-4f82-b384-8b0bb5799a5f",
   "metadata": {
    "ExecuteTime": {
     "end_time": "2024-11-12T23:38:32.025751Z",
     "start_time": "2024-11-12T23:38:32.006635Z"
    }
   },
   "source": [
    "## finding the indices of only the 1's (actives)\n",
    "\n",
    "true_positive_indices = []\n",
    "true_positive_count = 0\n",
    "\n",
    "false_negative_indices = []\n",
    "false_negative_count = 0\n",
    "\n",
    "for i in range (0,len(data_rounded)):\n",
    "    if data_rounded[i] == 1:\n",
    "        true_positive_indices.append(i)\n",
    "        true_positive_count += 1\n",
    "    else:\n",
    "        false_negative_indices.append(i)\n",
    "        false_negative_count +=1\n",
    "\n",
    "print(true_positive_indices[:20])\n",
    "print(true_positive_count)\n",
    "print(false_negative_indices[:20])\n",
    "print(false_negative_count)"
   ],
   "outputs": [
    {
     "ename": "NameError",
     "evalue": "name 'data_rounded' is not defined",
     "output_type": "error",
     "traceback": [
      "\u001B[0;31m---------------------------------------------------------------------------\u001B[0m",
      "\u001B[0;31mNameError\u001B[0m                                 Traceback (most recent call last)",
      "Cell \u001B[0;32mIn[9], line 9\u001B[0m\n\u001B[1;32m      6\u001B[0m false_negative_indices \u001B[38;5;241m=\u001B[39m []\n\u001B[1;32m      7\u001B[0m false_negative_count \u001B[38;5;241m=\u001B[39m \u001B[38;5;241m0\u001B[39m\n\u001B[0;32m----> 9\u001B[0m \u001B[38;5;28;01mfor\u001B[39;00m i \u001B[38;5;129;01min\u001B[39;00m \u001B[38;5;28mrange\u001B[39m (\u001B[38;5;241m0\u001B[39m,\u001B[38;5;28mlen\u001B[39m(data_rounded)):\n\u001B[1;32m     10\u001B[0m     \u001B[38;5;28;01mif\u001B[39;00m data_rounded[i] \u001B[38;5;241m==\u001B[39m \u001B[38;5;241m1\u001B[39m:\n\u001B[1;32m     11\u001B[0m         true_positive_indices\u001B[38;5;241m.\u001B[39mappend(i)\n",
      "\u001B[0;31mNameError\u001B[0m: name 'data_rounded' is not defined"
     ]
    }
   ],
   "execution_count": 9
  },
  {
   "metadata": {
    "ExecuteTime": {
     "end_time": "2024-11-12T23:38:33.200141Z",
     "start_time": "2024-11-12T23:38:33.183812Z"
    }
   },
   "cell_type": "code",
   "source": "print(df.iloc[1,:6])",
   "id": "653fa6f51a6e6c32",
   "outputs": [
    {
     "ename": "NameError",
     "evalue": "name 'df' is not defined",
     "output_type": "error",
     "traceback": [
      "\u001B[0;31m---------------------------------------------------------------------------\u001B[0m",
      "\u001B[0;31mNameError\u001B[0m                                 Traceback (most recent call last)",
      "Cell \u001B[0;32mIn[10], line 1\u001B[0m\n\u001B[0;32m----> 1\u001B[0m \u001B[38;5;28mprint\u001B[39m(df\u001B[38;5;241m.\u001B[39miloc[\u001B[38;5;241m1\u001B[39m,:\u001B[38;5;241m6\u001B[39m])\n",
      "\u001B[0;31mNameError\u001B[0m: name 'df' is not defined"
     ]
    }
   ],
   "execution_count": 10
  },
  {
   "cell_type": "code",
   "id": "2770d0da-5c9a-466f-9df4-0fa92637d50e",
   "metadata": {
    "editable": true,
    "slideshow": {
     "slide_type": ""
    },
    "tags": [],
    "ExecuteTime": {
     "end_time": "2024-11-12T23:38:33.821859Z",
     "start_time": "2024-11-12T23:38:33.806275Z"
    }
   },
   "source": [
    "prediction_array = []\n",
    "for i in descending_indices:\n",
    "    triple_name = df.iloc[i,:6].tolist()\n",
    "    conf_value = float(predictions[i])\n",
    "    row = [triple_name,conf_value]\n",
    "    flat_row = row[0]+[row[1]]\n",
    "    prediction_array.append(flat_row)\n",
    "\n"
   ],
   "outputs": [
    {
     "ename": "NameError",
     "evalue": "name 'descending_indices' is not defined",
     "output_type": "error",
     "traceback": [
      "\u001B[0;31m---------------------------------------------------------------------------\u001B[0m",
      "\u001B[0;31mNameError\u001B[0m                                 Traceback (most recent call last)",
      "Cell \u001B[0;32mIn[11], line 2\u001B[0m\n\u001B[1;32m      1\u001B[0m prediction_array \u001B[38;5;241m=\u001B[39m []\n\u001B[0;32m----> 2\u001B[0m \u001B[38;5;28;01mfor\u001B[39;00m i \u001B[38;5;129;01min\u001B[39;00m descending_indices:\n\u001B[1;32m      3\u001B[0m     triple_name \u001B[38;5;241m=\u001B[39m df\u001B[38;5;241m.\u001B[39miloc[i,:\u001B[38;5;241m6\u001B[39m]\u001B[38;5;241m.\u001B[39mtolist()\n\u001B[1;32m      4\u001B[0m     conf_value \u001B[38;5;241m=\u001B[39m \u001B[38;5;28mfloat\u001B[39m(predictions[i])\n",
      "\u001B[0;31mNameError\u001B[0m: name 'descending_indices' is not defined"
     ]
    }
   ],
   "execution_count": 11
  },
  {
   "cell_type": "code",
   "id": "fac21d2f-0952-4312-945b-4a02c2f695f5",
   "metadata": {
    "ExecuteTime": {
     "end_time": "2024-11-12T23:38:35.542507Z",
     "start_time": "2024-11-12T23:38:35.540098Z"
    }
   },
   "source": "print(prediction_array[:2])",
   "outputs": [
    {
     "name": "stdout",
     "output_type": "stream",
     "text": [
      "[]\n"
     ]
    }
   ],
   "execution_count": 12
  },
  {
   "cell_type": "code",
   "id": "5e5a90e6-94a1-4584-b5ec-66cb886d5d0d",
   "metadata": {
    "ExecuteTime": {
     "end_time": "2024-08-14T07:49:42.310955Z",
     "start_time": "2024-08-14T07:49:42.193591Z"
    }
   },
   "source": [
    "columns_to_use = ['drug_name','drug_id','disease_name','disease_id','protein_name','protein_id','model_confidence_value']\n",
    "df = pd.DataFrame(data = prediction_array,columns = columns_to_use)\n",
    "df = df.drop_duplicates(subset= ['drug_name','disease_name','protein_name'])\n",
    "df.to_csv(os.path.join(os.getcwd(),'Screening Results/Complete Set 1 Top Model Predictions of Top ROBOKOP Data Mined Triples.csv'))"
   ],
   "outputs": [],
   "execution_count": 15
  },
  {
   "cell_type": "code",
   "id": "a2635ceb-5b1b-4b06-a714-c18f8a84c60c",
   "metadata": {
    "ExecuteTime": {
     "end_time": "2024-08-14T07:44:25.380914Z",
     "start_time": "2024-08-14T07:44:25.376322Z"
    }
   },
   "source": "print(df)",
   "outputs": [
    {
     "name": "stdout",
     "output_type": "stream",
     "text": [
      "             drug_name       drug_id               disease_name  \\\n",
      "0            promazine    CHEBI:8459  major depressive disorder   \n",
      "2          hydroxyzine    CHEBI:5818  major depressive disorder   \n",
      "4      brompheniramine    CHEBI:3183  major depressive disorder   \n",
      "6            bromazine   CHEBI:59177  major depressive disorder   \n",
      "7             loxapine   CHEBI:50841        depressive disorder   \n",
      "...                ...           ...                        ...   \n",
      "89580     dexibuprofen   CHEBI:43415                     ptosis   \n",
      "89581     pimavanserin  CHEBI:133017        gingival overgrowth   \n",
      "89582     dexibuprofen   CHEBI:43415                  exotropia   \n",
      "89583      risperidone    CHEBI:8871               cornea plana   \n",
      "89584     pimavanserin  CHEBI:133017               cornea plana   \n",
      "\n",
      "          disease_id                   protein_name protein_id  \\\n",
      "0      MONDO:0002009          histamine receptor h1     P35367   \n",
      "2      MONDO:0002009          histamine receptor h1     P35367   \n",
      "4      MONDO:0002009          histamine receptor h1     P35367   \n",
      "6      MONDO:0002009          histamine receptor h1     P35367   \n",
      "7      MONDO:0002050          histamine receptor h1     P35367   \n",
      "...              ...                            ...        ...   \n",
      "89580  MONDO:0000728         cell division cycle 42     P60953   \n",
      "89581  MONDO:0002507  neutrophil cytosolic factor 1     P14598   \n",
      "89582  MONDO:0001286         cell division cycle 42     P60953   \n",
      "89583  MONDO:0000733  neutrophil cytosolic factor 1     P14598   \n",
      "89584  MONDO:0000733  neutrophil cytosolic factor 1     P14598   \n",
      "\n",
      "       model_confidence_value  \n",
      "0                    0.999966  \n",
      "2                    0.999957  \n",
      "4                    0.999947  \n",
      "6                    0.999944  \n",
      "7                    0.999941  \n",
      "...                       ...  \n",
      "89580                0.000386  \n",
      "89581                0.000376  \n",
      "89582                0.000344  \n",
      "89583                0.000149  \n",
      "89584                0.000126  \n",
      "\n",
      "[47398 rows x 7 columns]\n"
     ]
    }
   ],
   "execution_count": 26
  },
  {
   "metadata": {},
   "cell_type": "code",
   "outputs": [],
   "execution_count": null,
   "source": "",
   "id": "8a748bca3028c97"
  }
 ],
 "metadata": {
  "kernelspec": {
   "display_name": "Python 3 (ipykernel)",
   "language": "python",
   "name": "python3"
  },
  "language_info": {
   "codemirror_mode": {
    "name": "ipython",
    "version": 3
   },
   "file_extension": ".py",
   "mimetype": "text/x-python",
   "name": "python",
   "nbconvert_exporter": "python",
   "pygments_lexer": "ipython3",
   "version": "3.12.3"
  }
 },
 "nbformat": 4,
 "nbformat_minor": 5
}
