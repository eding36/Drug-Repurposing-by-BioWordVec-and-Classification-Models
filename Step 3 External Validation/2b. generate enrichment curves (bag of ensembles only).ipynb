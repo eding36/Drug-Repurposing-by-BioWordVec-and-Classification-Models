{
 "cells": [
  {
   "cell_type": "code",
   "id": "cde889c4-1ef7-46b2-9808-76b0a14adcae",
   "metadata": {
    "ExecuteTime": {
     "end_time": "2024-08-15T15:04:25.815041Z",
     "start_time": "2024-08-15T15:04:23.026702Z"
    }
   },
   "source": [
    "import tensorflow as tf\n",
    "import pandas as pd \n",
    "from sklearn.metrics import roc_curve, auc\n",
    "import matplotlib.pyplot as plt\n",
    "import numpy as np\n",
    "import os\n",
    "\n",
    "df_external = pd.read_csv(os.path.join(os.getcwd(),'External Validation Datasets/diverseNegatives External Validation Set.csv'))\n"
   ],
   "outputs": [],
   "execution_count": 1
  },
  {
   "cell_type": "code",
   "id": "8d8fcc30-5604-41ab-8ef6-42a940b53155",
   "metadata": {
    "ExecuteTime": {
     "end_time": "2024-08-15T15:04:31.275613Z",
     "start_time": "2024-08-15T15:04:29.691277Z"
    }
   },
   "source": [
    "###2.# Define the directory where your models are saved\n",
    "\n",
    "parent_dir = os.path.dirname(os.getcwd())\n",
    "\n",
    "\n",
    "model_directory = os.path.join(parent_dir, 'External Validation/Classification Models')\n",
    "\n",
    "model_1_list = []\n",
    "model_2_list = []\n",
    "#,8,9,10,11,12,13,14,15,16,17,18,41\n",
    "# Assuming your models are named 'model_0.h5', 'model_1.h5', ..., 'model_19.h5'\n",
    "model1_paths = [os.path.join(model_directory, f'Complete Set 1 Models/ROBOMechDB Complete Set 1 Model Seed {i+1}.keras') for i in [0,1,2,3,4,5,6,7,8,9,10,11,12,13,14,15,16,17,18,41]]\n",
    "\n",
    "model2_paths = [os.path.join(model_directory, f'Complete Set 2 Models/ROBOMechDB Complete Set 2 Model Seed {i+1}.keras') for i in [0,1,2,3,4,5,6,7,8,9,10,11,12,13,14,15,16,17,18,41]]\n",
    "\n",
    "\n",
    "for path in model1_paths:\n",
    "    print(f'Loading model from {path}')\n",
    "    model = tf.keras.models.load_model(path)\n",
    "    model_1_list.append(model)\n",
    "    print(f'Model from {path} loaded successfully')\n",
    "\n",
    "for path in model2_paths:\n",
    "    print(f'Loading model from {path}')\n",
    "    model = tf.keras.models.load_model(path)\n",
    "    model_2_list.append(model)\n",
    "    print(f'Model from {path} loaded successfully')"
   ],
   "outputs": [
    {
     "name": "stdout",
     "output_type": "stream",
     "text": [
      "Loading model from /Users/eding/PycharmProjects/U24-ROBOKOP-Project-8-7-24/External Validation/Classification Models/Complete Set 1 Models/ROBOMechDB Complete Set 1 Model Seed 1.keras\n",
      "Model from /Users/eding/PycharmProjects/U24-ROBOKOP-Project-8-7-24/External Validation/Classification Models/Complete Set 1 Models/ROBOMechDB Complete Set 1 Model Seed 1.keras loaded successfully\n",
      "Loading model from /Users/eding/PycharmProjects/U24-ROBOKOP-Project-8-7-24/External Validation/Classification Models/Complete Set 1 Models/ROBOMechDB Complete Set 1 Model Seed 2.keras\n",
      "Model from /Users/eding/PycharmProjects/U24-ROBOKOP-Project-8-7-24/External Validation/Classification Models/Complete Set 1 Models/ROBOMechDB Complete Set 1 Model Seed 2.keras loaded successfully\n",
      "Loading model from /Users/eding/PycharmProjects/U24-ROBOKOP-Project-8-7-24/External Validation/Classification Models/Complete Set 1 Models/ROBOMechDB Complete Set 1 Model Seed 3.keras\n",
      "Model from /Users/eding/PycharmProjects/U24-ROBOKOP-Project-8-7-24/External Validation/Classification Models/Complete Set 1 Models/ROBOMechDB Complete Set 1 Model Seed 3.keras loaded successfully\n",
      "Loading model from /Users/eding/PycharmProjects/U24-ROBOKOP-Project-8-7-24/External Validation/Classification Models/Complete Set 1 Models/ROBOMechDB Complete Set 1 Model Seed 4.keras\n",
      "Model from /Users/eding/PycharmProjects/U24-ROBOKOP-Project-8-7-24/External Validation/Classification Models/Complete Set 1 Models/ROBOMechDB Complete Set 1 Model Seed 4.keras loaded successfully\n",
      "Loading model from /Users/eding/PycharmProjects/U24-ROBOKOP-Project-8-7-24/External Validation/Classification Models/Complete Set 1 Models/ROBOMechDB Complete Set 1 Model Seed 5.keras\n",
      "Model from /Users/eding/PycharmProjects/U24-ROBOKOP-Project-8-7-24/External Validation/Classification Models/Complete Set 1 Models/ROBOMechDB Complete Set 1 Model Seed 5.keras loaded successfully\n",
      "Loading model from /Users/eding/PycharmProjects/U24-ROBOKOP-Project-8-7-24/External Validation/Classification Models/Complete Set 1 Models/ROBOMechDB Complete Set 1 Model Seed 6.keras\n",
      "Model from /Users/eding/PycharmProjects/U24-ROBOKOP-Project-8-7-24/External Validation/Classification Models/Complete Set 1 Models/ROBOMechDB Complete Set 1 Model Seed 6.keras loaded successfully\n",
      "Loading model from /Users/eding/PycharmProjects/U24-ROBOKOP-Project-8-7-24/External Validation/Classification Models/Complete Set 1 Models/ROBOMechDB Complete Set 1 Model Seed 7.keras\n",
      "Model from /Users/eding/PycharmProjects/U24-ROBOKOP-Project-8-7-24/External Validation/Classification Models/Complete Set 1 Models/ROBOMechDB Complete Set 1 Model Seed 7.keras loaded successfully\n",
      "Loading model from /Users/eding/PycharmProjects/U24-ROBOKOP-Project-8-7-24/External Validation/Classification Models/Complete Set 1 Models/ROBOMechDB Complete Set 1 Model Seed 8.keras\n",
      "Model from /Users/eding/PycharmProjects/U24-ROBOKOP-Project-8-7-24/External Validation/Classification Models/Complete Set 1 Models/ROBOMechDB Complete Set 1 Model Seed 8.keras loaded successfully\n",
      "Loading model from /Users/eding/PycharmProjects/U24-ROBOKOP-Project-8-7-24/External Validation/Classification Models/Complete Set 1 Models/ROBOMechDB Complete Set 1 Model Seed 9.keras\n",
      "Model from /Users/eding/PycharmProjects/U24-ROBOKOP-Project-8-7-24/External Validation/Classification Models/Complete Set 1 Models/ROBOMechDB Complete Set 1 Model Seed 9.keras loaded successfully\n",
      "Loading model from /Users/eding/PycharmProjects/U24-ROBOKOP-Project-8-7-24/External Validation/Classification Models/Complete Set 1 Models/ROBOMechDB Complete Set 1 Model Seed 10.keras\n",
      "Model from /Users/eding/PycharmProjects/U24-ROBOKOP-Project-8-7-24/External Validation/Classification Models/Complete Set 1 Models/ROBOMechDB Complete Set 1 Model Seed 10.keras loaded successfully\n",
      "Loading model from /Users/eding/PycharmProjects/U24-ROBOKOP-Project-8-7-24/External Validation/Classification Models/Complete Set 1 Models/ROBOMechDB Complete Set 1 Model Seed 11.keras\n",
      "Model from /Users/eding/PycharmProjects/U24-ROBOKOP-Project-8-7-24/External Validation/Classification Models/Complete Set 1 Models/ROBOMechDB Complete Set 1 Model Seed 11.keras loaded successfully\n",
      "Loading model from /Users/eding/PycharmProjects/U24-ROBOKOP-Project-8-7-24/External Validation/Classification Models/Complete Set 1 Models/ROBOMechDB Complete Set 1 Model Seed 12.keras\n",
      "Model from /Users/eding/PycharmProjects/U24-ROBOKOP-Project-8-7-24/External Validation/Classification Models/Complete Set 1 Models/ROBOMechDB Complete Set 1 Model Seed 12.keras loaded successfully\n",
      "Loading model from /Users/eding/PycharmProjects/U24-ROBOKOP-Project-8-7-24/External Validation/Classification Models/Complete Set 1 Models/ROBOMechDB Complete Set 1 Model Seed 13.keras\n",
      "Model from /Users/eding/PycharmProjects/U24-ROBOKOP-Project-8-7-24/External Validation/Classification Models/Complete Set 1 Models/ROBOMechDB Complete Set 1 Model Seed 13.keras loaded successfully\n",
      "Loading model from /Users/eding/PycharmProjects/U24-ROBOKOP-Project-8-7-24/External Validation/Classification Models/Complete Set 1 Models/ROBOMechDB Complete Set 1 Model Seed 14.keras\n",
      "Model from /Users/eding/PycharmProjects/U24-ROBOKOP-Project-8-7-24/External Validation/Classification Models/Complete Set 1 Models/ROBOMechDB Complete Set 1 Model Seed 14.keras loaded successfully\n",
      "Loading model from /Users/eding/PycharmProjects/U24-ROBOKOP-Project-8-7-24/External Validation/Classification Models/Complete Set 1 Models/ROBOMechDB Complete Set 1 Model Seed 15.keras\n",
      "Model from /Users/eding/PycharmProjects/U24-ROBOKOP-Project-8-7-24/External Validation/Classification Models/Complete Set 1 Models/ROBOMechDB Complete Set 1 Model Seed 15.keras loaded successfully\n",
      "Loading model from /Users/eding/PycharmProjects/U24-ROBOKOP-Project-8-7-24/External Validation/Classification Models/Complete Set 1 Models/ROBOMechDB Complete Set 1 Model Seed 16.keras\n",
      "Model from /Users/eding/PycharmProjects/U24-ROBOKOP-Project-8-7-24/External Validation/Classification Models/Complete Set 1 Models/ROBOMechDB Complete Set 1 Model Seed 16.keras loaded successfully\n",
      "Loading model from /Users/eding/PycharmProjects/U24-ROBOKOP-Project-8-7-24/External Validation/Classification Models/Complete Set 1 Models/ROBOMechDB Complete Set 1 Model Seed 17.keras\n",
      "Model from /Users/eding/PycharmProjects/U24-ROBOKOP-Project-8-7-24/External Validation/Classification Models/Complete Set 1 Models/ROBOMechDB Complete Set 1 Model Seed 17.keras loaded successfully\n",
      "Loading model from /Users/eding/PycharmProjects/U24-ROBOKOP-Project-8-7-24/External Validation/Classification Models/Complete Set 1 Models/ROBOMechDB Complete Set 1 Model Seed 18.keras\n",
      "Model from /Users/eding/PycharmProjects/U24-ROBOKOP-Project-8-7-24/External Validation/Classification Models/Complete Set 1 Models/ROBOMechDB Complete Set 1 Model Seed 18.keras loaded successfully\n",
      "Loading model from /Users/eding/PycharmProjects/U24-ROBOKOP-Project-8-7-24/External Validation/Classification Models/Complete Set 1 Models/ROBOMechDB Complete Set 1 Model Seed 19.keras\n",
      "Model from /Users/eding/PycharmProjects/U24-ROBOKOP-Project-8-7-24/External Validation/Classification Models/Complete Set 1 Models/ROBOMechDB Complete Set 1 Model Seed 19.keras loaded successfully\n",
      "Loading model from /Users/eding/PycharmProjects/U24-ROBOKOP-Project-8-7-24/External Validation/Classification Models/Complete Set 1 Models/ROBOMechDB Complete Set 1 Model Seed 42.keras\n",
      "Model from /Users/eding/PycharmProjects/U24-ROBOKOP-Project-8-7-24/External Validation/Classification Models/Complete Set 1 Models/ROBOMechDB Complete Set 1 Model Seed 42.keras loaded successfully\n",
      "Loading model from /Users/eding/PycharmProjects/U24-ROBOKOP-Project-8-7-24/External Validation/Classification Models/Complete Set 2 Models/ROBOMechDB Complete Set 2 Model Seed 1.keras\n",
      "Model from /Users/eding/PycharmProjects/U24-ROBOKOP-Project-8-7-24/External Validation/Classification Models/Complete Set 2 Models/ROBOMechDB Complete Set 2 Model Seed 1.keras loaded successfully\n",
      "Loading model from /Users/eding/PycharmProjects/U24-ROBOKOP-Project-8-7-24/External Validation/Classification Models/Complete Set 2 Models/ROBOMechDB Complete Set 2 Model Seed 2.keras\n",
      "Model from /Users/eding/PycharmProjects/U24-ROBOKOP-Project-8-7-24/External Validation/Classification Models/Complete Set 2 Models/ROBOMechDB Complete Set 2 Model Seed 2.keras loaded successfully\n",
      "Loading model from /Users/eding/PycharmProjects/U24-ROBOKOP-Project-8-7-24/External Validation/Classification Models/Complete Set 2 Models/ROBOMechDB Complete Set 2 Model Seed 3.keras\n",
      "Model from /Users/eding/PycharmProjects/U24-ROBOKOP-Project-8-7-24/External Validation/Classification Models/Complete Set 2 Models/ROBOMechDB Complete Set 2 Model Seed 3.keras loaded successfully\n",
      "Loading model from /Users/eding/PycharmProjects/U24-ROBOKOP-Project-8-7-24/External Validation/Classification Models/Complete Set 2 Models/ROBOMechDB Complete Set 2 Model Seed 4.keras\n",
      "Model from /Users/eding/PycharmProjects/U24-ROBOKOP-Project-8-7-24/External Validation/Classification Models/Complete Set 2 Models/ROBOMechDB Complete Set 2 Model Seed 4.keras loaded successfully\n",
      "Loading model from /Users/eding/PycharmProjects/U24-ROBOKOP-Project-8-7-24/External Validation/Classification Models/Complete Set 2 Models/ROBOMechDB Complete Set 2 Model Seed 5.keras\n",
      "Model from /Users/eding/PycharmProjects/U24-ROBOKOP-Project-8-7-24/External Validation/Classification Models/Complete Set 2 Models/ROBOMechDB Complete Set 2 Model Seed 5.keras loaded successfully\n",
      "Loading model from /Users/eding/PycharmProjects/U24-ROBOKOP-Project-8-7-24/External Validation/Classification Models/Complete Set 2 Models/ROBOMechDB Complete Set 2 Model Seed 6.keras\n",
      "Model from /Users/eding/PycharmProjects/U24-ROBOKOP-Project-8-7-24/External Validation/Classification Models/Complete Set 2 Models/ROBOMechDB Complete Set 2 Model Seed 6.keras loaded successfully\n",
      "Loading model from /Users/eding/PycharmProjects/U24-ROBOKOP-Project-8-7-24/External Validation/Classification Models/Complete Set 2 Models/ROBOMechDB Complete Set 2 Model Seed 7.keras\n",
      "Model from /Users/eding/PycharmProjects/U24-ROBOKOP-Project-8-7-24/External Validation/Classification Models/Complete Set 2 Models/ROBOMechDB Complete Set 2 Model Seed 7.keras loaded successfully\n",
      "Loading model from /Users/eding/PycharmProjects/U24-ROBOKOP-Project-8-7-24/External Validation/Classification Models/Complete Set 2 Models/ROBOMechDB Complete Set 2 Model Seed 8.keras\n",
      "Model from /Users/eding/PycharmProjects/U24-ROBOKOP-Project-8-7-24/External Validation/Classification Models/Complete Set 2 Models/ROBOMechDB Complete Set 2 Model Seed 8.keras loaded successfully\n",
      "Loading model from /Users/eding/PycharmProjects/U24-ROBOKOP-Project-8-7-24/External Validation/Classification Models/Complete Set 2 Models/ROBOMechDB Complete Set 2 Model Seed 9.keras\n",
      "Model from /Users/eding/PycharmProjects/U24-ROBOKOP-Project-8-7-24/External Validation/Classification Models/Complete Set 2 Models/ROBOMechDB Complete Set 2 Model Seed 9.keras loaded successfully\n",
      "Loading model from /Users/eding/PycharmProjects/U24-ROBOKOP-Project-8-7-24/External Validation/Classification Models/Complete Set 2 Models/ROBOMechDB Complete Set 2 Model Seed 10.keras\n",
      "Model from /Users/eding/PycharmProjects/U24-ROBOKOP-Project-8-7-24/External Validation/Classification Models/Complete Set 2 Models/ROBOMechDB Complete Set 2 Model Seed 10.keras loaded successfully\n",
      "Loading model from /Users/eding/PycharmProjects/U24-ROBOKOP-Project-8-7-24/External Validation/Classification Models/Complete Set 2 Models/ROBOMechDB Complete Set 2 Model Seed 11.keras\n",
      "Model from /Users/eding/PycharmProjects/U24-ROBOKOP-Project-8-7-24/External Validation/Classification Models/Complete Set 2 Models/ROBOMechDB Complete Set 2 Model Seed 11.keras loaded successfully\n",
      "Loading model from /Users/eding/PycharmProjects/U24-ROBOKOP-Project-8-7-24/External Validation/Classification Models/Complete Set 2 Models/ROBOMechDB Complete Set 2 Model Seed 12.keras\n",
      "Model from /Users/eding/PycharmProjects/U24-ROBOKOP-Project-8-7-24/External Validation/Classification Models/Complete Set 2 Models/ROBOMechDB Complete Set 2 Model Seed 12.keras loaded successfully\n",
      "Loading model from /Users/eding/PycharmProjects/U24-ROBOKOP-Project-8-7-24/External Validation/Classification Models/Complete Set 2 Models/ROBOMechDB Complete Set 2 Model Seed 13.keras\n",
      "Model from /Users/eding/PycharmProjects/U24-ROBOKOP-Project-8-7-24/External Validation/Classification Models/Complete Set 2 Models/ROBOMechDB Complete Set 2 Model Seed 13.keras loaded successfully\n",
      "Loading model from /Users/eding/PycharmProjects/U24-ROBOKOP-Project-8-7-24/External Validation/Classification Models/Complete Set 2 Models/ROBOMechDB Complete Set 2 Model Seed 14.keras\n",
      "Model from /Users/eding/PycharmProjects/U24-ROBOKOP-Project-8-7-24/External Validation/Classification Models/Complete Set 2 Models/ROBOMechDB Complete Set 2 Model Seed 14.keras loaded successfully\n",
      "Loading model from /Users/eding/PycharmProjects/U24-ROBOKOP-Project-8-7-24/External Validation/Classification Models/Complete Set 2 Models/ROBOMechDB Complete Set 2 Model Seed 15.keras\n",
      "Model from /Users/eding/PycharmProjects/U24-ROBOKOP-Project-8-7-24/External Validation/Classification Models/Complete Set 2 Models/ROBOMechDB Complete Set 2 Model Seed 15.keras loaded successfully\n",
      "Loading model from /Users/eding/PycharmProjects/U24-ROBOKOP-Project-8-7-24/External Validation/Classification Models/Complete Set 2 Models/ROBOMechDB Complete Set 2 Model Seed 16.keras\n",
      "Model from /Users/eding/PycharmProjects/U24-ROBOKOP-Project-8-7-24/External Validation/Classification Models/Complete Set 2 Models/ROBOMechDB Complete Set 2 Model Seed 16.keras loaded successfully\n",
      "Loading model from /Users/eding/PycharmProjects/U24-ROBOKOP-Project-8-7-24/External Validation/Classification Models/Complete Set 2 Models/ROBOMechDB Complete Set 2 Model Seed 17.keras\n",
      "Model from /Users/eding/PycharmProjects/U24-ROBOKOP-Project-8-7-24/External Validation/Classification Models/Complete Set 2 Models/ROBOMechDB Complete Set 2 Model Seed 17.keras loaded successfully\n",
      "Loading model from /Users/eding/PycharmProjects/U24-ROBOKOP-Project-8-7-24/External Validation/Classification Models/Complete Set 2 Models/ROBOMechDB Complete Set 2 Model Seed 18.keras\n",
      "Model from /Users/eding/PycharmProjects/U24-ROBOKOP-Project-8-7-24/External Validation/Classification Models/Complete Set 2 Models/ROBOMechDB Complete Set 2 Model Seed 18.keras loaded successfully\n",
      "Loading model from /Users/eding/PycharmProjects/U24-ROBOKOP-Project-8-7-24/External Validation/Classification Models/Complete Set 2 Models/ROBOMechDB Complete Set 2 Model Seed 19.keras\n",
      "Model from /Users/eding/PycharmProjects/U24-ROBOKOP-Project-8-7-24/External Validation/Classification Models/Complete Set 2 Models/ROBOMechDB Complete Set 2 Model Seed 19.keras loaded successfully\n",
      "Loading model from /Users/eding/PycharmProjects/U24-ROBOKOP-Project-8-7-24/External Validation/Classification Models/Complete Set 2 Models/ROBOMechDB Complete Set 2 Model Seed 42.keras\n",
      "Model from /Users/eding/PycharmProjects/U24-ROBOKOP-Project-8-7-24/External Validation/Classification Models/Complete Set 2 Models/ROBOMechDB Complete Set 2 Model Seed 42.keras loaded successfully\n"
     ]
    }
   ],
   "execution_count": 2
  },
  {
   "cell_type": "code",
   "id": "17ee5890-e923-4079-93c9-495607c34ee7",
   "metadata": {
    "ExecuteTime": {
     "end_time": "2024-08-15T15:04:55.457376Z",
     "start_time": "2024-08-15T15:04:31.958440Z"
    }
   },
   "source": [
    "model_1_prediction_matrix = []\n",
    "model_2_prediction_matrix = []\n",
    "\n",
    "for j in range(len(model_1_list)):\n",
    "    model_1_prediction_value = model_1_list[j].predict(df_external.iloc[:,3:-1])\n",
    "    model_1_prediction_value = model_1_prediction_value.flatten()\n",
    "    model_1_prediction_matrix.append(model_1_prediction_value)\n",
    "    \n",
    "    model_2_prediction_value = model_2_list[j].predict(df_external.iloc[:,3:-1])\n",
    "    model_2_prediction_value = model_2_prediction_value.flatten()\n",
    "    model_2_prediction_matrix.append(model_2_prediction_value)\n",
    "    \n",
    "model_1_prediction_matrix = np.array(model_1_prediction_matrix)\n",
    "model_2_prediction_matrix = np.array(model_2_prediction_matrix)"
   ],
   "outputs": [
    {
     "name": "stdout",
     "output_type": "stream",
     "text": [
      "\u001B[1m630/630\u001B[0m \u001B[32m━━━━━━━━━━━━━━━━━━━━\u001B[0m\u001B[37m\u001B[0m \u001B[1m0s\u001B[0m 733us/step\n",
      "\u001B[1m630/630\u001B[0m \u001B[32m━━━━━━━━━━━━━━━━━━━━\u001B[0m\u001B[37m\u001B[0m \u001B[1m1s\u001B[0m 923us/step\n",
      "\u001B[1m630/630\u001B[0m \u001B[32m━━━━━━━━━━━━━━━━━━━━\u001B[0m\u001B[37m\u001B[0m \u001B[1m0s\u001B[0m 703us/step\n",
      "\u001B[1m630/630\u001B[0m \u001B[32m━━━━━━━━━━━━━━━━━━━━\u001B[0m\u001B[37m\u001B[0m \u001B[1m1s\u001B[0m 813us/step\n",
      "\u001B[1m630/630\u001B[0m \u001B[32m━━━━━━━━━━━━━━━━━━━━\u001B[0m\u001B[37m\u001B[0m \u001B[1m1s\u001B[0m 944us/step\n",
      "\u001B[1m630/630\u001B[0m \u001B[32m━━━━━━━━━━━━━━━━━━━━\u001B[0m\u001B[37m\u001B[0m \u001B[1m1s\u001B[0m 920us/step\n",
      "\u001B[1m630/630\u001B[0m \u001B[32m━━━━━━━━━━━━━━━━━━━━\u001B[0m\u001B[37m\u001B[0m \u001B[1m0s\u001B[0m 724us/step\n",
      "\u001B[1m630/630\u001B[0m \u001B[32m━━━━━━━━━━━━━━━━━━━━\u001B[0m\u001B[37m\u001B[0m \u001B[1m0s\u001B[0m 744us/step\n",
      "\u001B[1m630/630\u001B[0m \u001B[32m━━━━━━━━━━━━━━━━━━━━\u001B[0m\u001B[37m\u001B[0m \u001B[1m0s\u001B[0m 691us/step\n",
      "\u001B[1m630/630\u001B[0m \u001B[32m━━━━━━━━━━━━━━━━━━━━\u001B[0m\u001B[37m\u001B[0m \u001B[1m0s\u001B[0m 747us/step\n",
      "\u001B[1m630/630\u001B[0m \u001B[32m━━━━━━━━━━━━━━━━━━━━\u001B[0m\u001B[37m\u001B[0m \u001B[1m0s\u001B[0m 692us/step\n",
      "\u001B[1m630/630\u001B[0m \u001B[32m━━━━━━━━━━━━━━━━━━━━\u001B[0m\u001B[37m\u001B[0m \u001B[1m0s\u001B[0m 734us/step\n",
      "\u001B[1m630/630\u001B[0m \u001B[32m━━━━━━━━━━━━━━━━━━━━\u001B[0m\u001B[37m\u001B[0m \u001B[1m0s\u001B[0m 697us/step\n",
      "\u001B[1m630/630\u001B[0m \u001B[32m━━━━━━━━━━━━━━━━━━━━\u001B[0m\u001B[37m\u001B[0m \u001B[1m0s\u001B[0m 745us/step\n",
      "\u001B[1m630/630\u001B[0m \u001B[32m━━━━━━━━━━━━━━━━━━━━\u001B[0m\u001B[37m\u001B[0m \u001B[1m0s\u001B[0m 738us/step\n",
      "\u001B[1m630/630\u001B[0m \u001B[32m━━━━━━━━━━━━━━━━━━━━\u001B[0m\u001B[37m\u001B[0m \u001B[1m1s\u001B[0m 806us/step\n",
      "\u001B[1m630/630\u001B[0m \u001B[32m━━━━━━━━━━━━━━━━━━━━\u001B[0m\u001B[37m\u001B[0m \u001B[1m0s\u001B[0m 712us/step\n",
      "\u001B[1m630/630\u001B[0m \u001B[32m━━━━━━━━━━━━━━━━━━━━\u001B[0m\u001B[37m\u001B[0m \u001B[1m1s\u001B[0m 791us/step\n",
      "\u001B[1m630/630\u001B[0m \u001B[32m━━━━━━━━━━━━━━━━━━━━\u001B[0m\u001B[37m\u001B[0m \u001B[1m0s\u001B[0m 720us/step\n",
      "\u001B[1m630/630\u001B[0m \u001B[32m━━━━━━━━━━━━━━━━━━━━\u001B[0m\u001B[37m\u001B[0m \u001B[1m1s\u001B[0m 813us/step\n",
      "\u001B[1m630/630\u001B[0m \u001B[32m━━━━━━━━━━━━━━━━━━━━\u001B[0m\u001B[37m\u001B[0m \u001B[1m1s\u001B[0m 866us/step\n",
      "\u001B[1m630/630\u001B[0m \u001B[32m━━━━━━━━━━━━━━━━━━━━\u001B[0m\u001B[37m\u001B[0m \u001B[1m1s\u001B[0m 799us/step\n",
      "\u001B[1m630/630\u001B[0m \u001B[32m━━━━━━━━━━━━━━━━━━━━\u001B[0m\u001B[37m\u001B[0m \u001B[1m0s\u001B[0m 758us/step\n",
      "\u001B[1m630/630\u001B[0m \u001B[32m━━━━━━━━━━━━━━━━━━━━\u001B[0m\u001B[37m\u001B[0m \u001B[1m1s\u001B[0m 880us/step\n",
      "\u001B[1m630/630\u001B[0m \u001B[32m━━━━━━━━━━━━━━━━━━━━\u001B[0m\u001B[37m\u001B[0m \u001B[1m1s\u001B[0m 774us/step\n",
      "\u001B[1m630/630\u001B[0m \u001B[32m━━━━━━━━━━━━━━━━━━━━\u001B[0m\u001B[37m\u001B[0m \u001B[1m1s\u001B[0m 873us/step\n",
      "\u001B[1m630/630\u001B[0m \u001B[32m━━━━━━━━━━━━━━━━━━━━\u001B[0m\u001B[37m\u001B[0m \u001B[1m1s\u001B[0m 774us/step\n",
      "\u001B[1m630/630\u001B[0m \u001B[32m━━━━━━━━━━━━━━━━━━━━\u001B[0m\u001B[37m\u001B[0m \u001B[1m1s\u001B[0m 856us/step\n",
      "\u001B[1m630/630\u001B[0m \u001B[32m━━━━━━━━━━━━━━━━━━━━\u001B[0m\u001B[37m\u001B[0m \u001B[1m1s\u001B[0m 778us/step\n",
      "\u001B[1m630/630\u001B[0m \u001B[32m━━━━━━━━━━━━━━━━━━━━\u001B[0m\u001B[37m\u001B[0m \u001B[1m1s\u001B[0m 830us/step\n",
      "\u001B[1m630/630\u001B[0m \u001B[32m━━━━━━━━━━━━━━━━━━━━\u001B[0m\u001B[37m\u001B[0m \u001B[1m0s\u001B[0m 765us/step\n",
      "\u001B[1m630/630\u001B[0m \u001B[32m━━━━━━━━━━━━━━━━━━━━\u001B[0m\u001B[37m\u001B[0m \u001B[1m1s\u001B[0m 829us/step\n",
      "\u001B[1m630/630\u001B[0m \u001B[32m━━━━━━━━━━━━━━━━━━━━\u001B[0m\u001B[37m\u001B[0m \u001B[1m1s\u001B[0m 773us/step\n",
      "\u001B[1m630/630\u001B[0m \u001B[32m━━━━━━━━━━━━━━━━━━━━\u001B[0m\u001B[37m\u001B[0m \u001B[1m1s\u001B[0m 799us/step\n",
      "\u001B[1m630/630\u001B[0m \u001B[32m━━━━━━━━━━━━━━━━━━━━\u001B[0m\u001B[37m\u001B[0m \u001B[1m0s\u001B[0m 753us/step\n",
      "\u001B[1m630/630\u001B[0m \u001B[32m━━━━━━━━━━━━━━━━━━━━\u001B[0m\u001B[37m\u001B[0m \u001B[1m1s\u001B[0m 827us/step\n",
      "\u001B[1m630/630\u001B[0m \u001B[32m━━━━━━━━━━━━━━━━━━━━\u001B[0m\u001B[37m\u001B[0m \u001B[1m0s\u001B[0m 753us/step\n",
      "\u001B[1m630/630\u001B[0m \u001B[32m━━━━━━━━━━━━━━━━━━━━\u001B[0m\u001B[37m\u001B[0m \u001B[1m1s\u001B[0m 816us/step\n",
      "\u001B[1m630/630\u001B[0m \u001B[32m━━━━━━━━━━━━━━━━━━━━\u001B[0m\u001B[37m\u001B[0m \u001B[1m0s\u001B[0m 763us/step\n",
      "\u001B[1m630/630\u001B[0m \u001B[32m━━━━━━━━━━━━━━━━━━━━\u001B[0m\u001B[37m\u001B[0m \u001B[1m1s\u001B[0m 791us/step\n"
     ]
    }
   ],
   "execution_count": 3
  },
  {
   "cell_type": "code",
   "id": "5d4e4bf6-3d22-4138-b3a7-1368e2b3a7e6",
   "metadata": {
    "ExecuteTime": {
     "end_time": "2024-08-15T15:04:57.448035Z",
     "start_time": "2024-08-15T15:04:57.325891Z"
    }
   },
   "source": [
    "model_1_stability_matrix = model_1_prediction_matrix.T\n",
    "model_2_stability_matrix = model_2_prediction_matrix.T\n",
    "\n",
    "model_1_prediction_floats = np.array([np.mean(row) for row in model_1_stability_matrix])\n",
    "model_2_prediction_floats = np.array([np.mean(row) for row in model_2_stability_matrix])\n",
    "model_prediction_floats = 0.9*model_1_prediction_floats + 0.1*model_2_prediction_floats\n"
   ],
   "outputs": [],
   "execution_count": 4
  },
  {
   "cell_type": "code",
   "id": "d5d588df-3527-4094-a516-3dece25a2edc",
   "metadata": {
    "ExecuteTime": {
     "end_time": "2024-08-15T15:04:58.855044Z",
     "start_time": "2024-08-15T15:04:57.917395Z"
    }
   },
   "source": [
    "###6. Generate enrichment curve!\n",
    "\n",
    "###README BELOW\n",
    "\n",
    "#chi_cutoff_thresholds = the top % percent of model predictions evaluated\n",
    "#N is equal to the total number of triples in the entire validation dataset, and Ns is equal to the total number of triples above the cutoff threshold. \n",
    "#ns is equal to the total number of true positives above the cutoff threshold, and n is equal to the total number of true positives across the whole dataset.\n",
    "\n",
    "descending_confidence_values = np.sort(model_prediction_floats.flatten())[::-1]\n",
    "ascending_indices = np.argsort(model_prediction_floats.flatten())\n",
    "descending_indices = np.flip(ascending_indices)\n",
    "\n",
    "chi_cutoff_thresholds = [0.01, 0.02, 0.03, 0.04,0.05,0.06,0.07,0.08,0.09,0.1,0.2,0.3,0.4,0.5,0.6,0.7,0.8,0.9,1]\n",
    "\n",
    "enrichment_percent_array = []\n",
    "y_values = []\n",
    "\n",
    "N = len(model_prediction_floats)\n",
    "\n",
    "n=0\n",
    "for z in range(len(df_external)):\n",
    "    if df_external.iloc[z,-1] == 1:\n",
    "        n=n+1\n",
    "        \n",
    "for i in chi_cutoff_thresholds: \n",
    "    ns = 0\n",
    "    Ns = len(model_prediction_floats)*i\n",
    "    for j in range(int(i*len(model_prediction_floats))):\n",
    "        if df_external.iloc[descending_indices[j],-1]==1:\n",
    "            ns = ns+1\n",
    "            \n",
    "    y_value = ns/n\n",
    "    y_values.append(y_value)\n",
    "\n",
    "plt.xlabel(\"Cutoff threshold\")\n",
    "plt.ylabel(\"Cumulative Fraction of Actives\")\n",
    "plt.title(\"Enrichment Plot for ROBOMechDB Training Set 4(Model) - DTINet(Validation Dataset) External Validation\")\n",
    "\n",
    "plt.plot(chi_cutoff_thresholds, y_values)\n",
    "\n",
    "fpr,tpr, thresholds = roc_curve(df_external.iloc[:,-1],model_prediction_floats)\n",
    "\n",
    "roc_auc = auc(fpr, tpr)\n"
   ],
   "outputs": [
    {
     "data": {
      "text/plain": [
       "<Figure size 640x480 with 1 Axes>"
      ],
      "image/png": "[encoded data removed]"
     },
     "metadata": {},
     "output_type": "display_data"
    }
   ],
   "execution_count": 5
  },
  {
   "cell_type": "code",
   "id": "8eec1661-66ed-415d-92a6-dce56cc0c0c5",
   "metadata": {
    "ExecuteTime": {
     "end_time": "2024-08-15T15:05:17.386061Z",
     "start_time": "2024-08-15T15:05:16.938004Z"
    }
   },
   "source": [
    "### 7. Generate statistics!\n",
    "\n",
    "true_positive_count = 0\n",
    "false_negative_count = 0\n",
    "false_positive_count = 0\n",
    "true_negative_count = 0\n",
    "\n",
    "\n",
    "\n",
    "for i in range (0,len(model_prediction_floats)):\n",
    "    if np.round(model_prediction_floats[i]) == 1 and np.round(df_external.iloc[i,-1]) == 1:\n",
    "        true_positive_count += 1\n",
    "    if np.round(model_prediction_floats[i]) == 0 and np.round(df_external.iloc[i,-1]) == 1:\n",
    "        false_negative_count +=1\n",
    "    if np.round(model_prediction_floats[i]) == 1 and np.round(df_external.iloc[i,-1]) == 0:\n",
    "        false_positive_count +=1\n",
    "    if np.round(model_prediction_floats[i]) == 0 and np.round(df_external.iloc[i,-1]) == 0:\n",
    "        true_negative_count +=1\n",
    "\n",
    "true_pos_rate = true_positive_count/(true_positive_count+false_negative_count)\n",
    "true_neg_rate = true_negative_count/(false_positive_count+true_negative_count)\n",
    "\n",
    "performance_array = np.array(y_values+[roc_auc,true_pos_rate,true_neg_rate]).reshape(1,22)\n",
    "print(performance_array.shape)\n",
    "column_names = ['0.01', '0.02', '0.03','0.04','0.05','0.06','0.07','0.08','0.09','0.1','0.2','0.3','0.4','0.5','0.6','0.7','0.8','0.9','1.0','auroc','tpr','tnr']\n",
    "stat_df = pd.DataFrame(performance_array, columns=column_names)\n",
    "\n",
    "\n",
    "stat_df.to_csv(os.path.join(os.getcwd(), 'Validation Statistics/Model Performance on diverseNegatives External Set/set1set2_predicting_diverseNegs.csv'),index=False)"
   ],
   "outputs": [
    {
     "name": "stdout",
     "output_type": "stream",
     "text": [
      "(1, 22)\n"
     ]
    }
   ],
   "execution_count": 6
  },
  {
   "cell_type": "code",
   "id": "2c75eeed-aa22-4e8a-9106-c85181c59bef",
   "metadata": {},
   "source": [
    "print(stat_df)"
   ],
   "outputs": [],
   "execution_count": null
  },
  {
   "cell_type": "code",
   "id": "bfeb35b2-de72-4086-b15d-215924407458",
   "metadata": {},
   "source": "",
   "outputs": [],
   "execution_count": null
  }
 ],
 "metadata": {
  "kernelspec": {
   "display_name": "Python 3 (ipykernel)",
   "language": "python",
   "name": "python3"
  },
  "language_info": {
   "codemirror_mode": {
    "name": "ipython",
    "version": 3
   },
   "file_extension": ".py",
   "mimetype": "text/x-python",
   "name": "python",
   "nbconvert_exporter": "python",
   "pygments_lexer": "ipython3",
   "version": "3.12.3"
  }
 },
 "nbformat": 4,
 "nbformat_minor": 5
}
