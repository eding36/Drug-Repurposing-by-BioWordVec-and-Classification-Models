{
 "cells": [
  {
   "cell_type": "code",
   "id": "99d3a2c7-d583-4319-aece-e2a6586098a9",
   "metadata": {
    "ExecuteTime": {
     "end_time": "2024-08-14T18:06:39.319400Z",
     "start_time": "2024-08-14T18:05:59.386106Z"
    }
   },
   "source": [
    "from gensim.models import KeyedVectors\n",
    "import os\n",
    "\n",
    "##make sure you install the correct version of scipy (v1.12 or earlier or else this block wont work)\n",
    "\n",
    "model = KeyedVectors.load_word2vec_format(os.path.join(os.getcwd(), 'Embedding Models', 'BioWordVec Embedding Model.bin'),binary = True)\n",
    "\n"
   ],
   "outputs": [],
   "execution_count": 1
  },
  {
   "metadata": {
    "ExecuteTime": {
     "end_time": "2024-08-14T18:08:01.057941Z",
     "start_time": "2024-08-14T18:08:01.054756Z"
    }
   },
   "cell_type": "code",
   "source": "parent_dir = os.path.dirname(os.getcwd())",
   "id": "b539050a857a4862",
   "outputs": [],
   "execution_count": 2
  },
  {
   "cell_type": "code",
   "id": "d9b390e4-27cd-4bf4-80f3-2dafcff7ea57",
   "metadata": {
    "ExecuteTime": {
     "end_time": "2024-08-14T18:10:13.873204Z",
     "start_time": "2024-08-14T18:10:05.737708Z"
    }
   },
   "source": [
    "#create vector dictionaries for each unique drug, disease, target used in the triples\n",
    "import pandas as pd\n",
    "import csv\n",
    "\n",
    "\n",
    "###Read in Processed Data from dataset\n",
    "\n",
    "df = pd.read_csv(os.path.join(parent_dir, 'Step 1 Data Processing/ROBOKOP+DrugMechDB/ROBOKOP+DrugmechDB Data/ROBOMechDB Processed Triples.csv')) #input array for embedding\n",
    "df = df.drop('Unnamed: 0', axis = 1)\n",
    "\n",
    "triples_drug = sorted(list(set(df['drug_name'].tolist())))\n",
    "triples_disease = sorted(list(set(df['disease_name'].tolist())))\n",
    "triples_protein = sorted(list(set(df['protein_name'].tolist())))\n",
    "\n",
    "print(len(triples_drug))\n",
    "print(len(triples_disease))\n",
    "print(len(triples_protein))\n",
    "\n",
    "#Vector embeddings\n",
    "\n",
    "def get_phrase_vec(vocablist, phrase):\n",
    "    words = phrase.replace(\",\", \"\")\n",
    "    words_split = words.split(' ')\n",
    "    #print(words)\n",
    "    count = 0\n",
    "    flag  = 0\n",
    "    for i in words_split:\n",
    "        if i in vocablist:\n",
    "            if count == 0:\n",
    "                comb_emb = model[i]\n",
    "            else:\n",
    "                comb_emb = model[i] + comb_emb\n",
    "            count = count + 1\n",
    "        else:\n",
    "            flag = 1 + flag\n",
    "            break\n",
    "    if flag != 0:\n",
    "        return flag, phrase, \"no embedding\"\n",
    "        #print(phrase, \"no embedding\") \n",
    "        flag = flag\n",
    "    if flag == 0:\n",
    "        return flag, phrase, list(comb_emb)\n",
    "         \n",
    "\n",
    "vocab = model.index_to_key\n",
    "\n",
    "# dns is the name or phrase you want to get vector for\n",
    "# .lower is to make everything lower case so that ALL words are consistently lower case\n",
    "# str should contain the vector for the phrase\n",
    "\n",
    "drug_embeddings = []\n",
    "embeddable_drug_list = []\n",
    "disease_embeddings = []\n",
    "embeddable_disease_list = []\n",
    "protein_embeddings = []\n",
    "embeddable_protein_list = []\n",
    "\n",
    "for i in range(0,len(triples_drug)):\n",
    "    fl,ph,str = get_phrase_vec(vocab,triples_drug[i])\n",
    "    if str == \"no embedding\":\n",
    "        continue\n",
    "    str_array = [float(i) for i in str]\n",
    "    drug_embeddings.append(str_array)\n",
    "    embeddable_drug_list.append(ph)\n",
    "\n",
    "for i in range(0,len(triples_disease)):\n",
    "    fl,ph,str = get_phrase_vec(vocab, triples_disease[i])\n",
    "    if str == \"no embedding\":\n",
    "        continue\n",
    "    str_array = [float(i) for i in str]\n",
    "    disease_embeddings.append(str_array)\n",
    "    embeddable_disease_list.append(ph)\n",
    "\n",
    "for i in range(0,len(triples_protein)):\n",
    "    fl,ph,str = get_phrase_vec(vocab,triples_protein[i])\n",
    "    if str == \"no embedding\":\n",
    "        continue\n",
    "    str_array = [float(i) for i in str]\n",
    "    protein_embeddings.append(str_array)\n",
    "    embeddable_protein_list.append(ph)\n",
    "\n",
    "disease_vector_dict= {}\n",
    "drug_vector_dict = {}\n",
    "protein_vector_dict = {}\n",
    "\n",
    "for key, value in zip(embeddable_protein_list, protein_embeddings):\n",
    "    protein_vector_dict[key] = value\n",
    "\n",
    "for key, value in zip(embeddable_drug_list, drug_embeddings):\n",
    "    drug_vector_dict[key] = value\n",
    "\n",
    "for key, value in zip(embeddable_disease_list, disease_embeddings):\n",
    "    disease_vector_dict[key] = value\n",
    "\n",
    "\n",
    "\n",
    "\n",
    "\n",
    "\n"
   ],
   "outputs": [
    {
     "name": "stdout",
     "output_type": "stream",
     "text": [
      "1014\n",
      "592\n",
      "899\n"
     ]
    }
   ],
   "execution_count": 4
  },
  {
   "metadata": {
    "ExecuteTime": {
     "end_time": "2024-08-14T18:10:15.945211Z",
     "start_time": "2024-08-14T18:10:15.940994Z"
    }
   },
   "cell_type": "code",
   "source": [
    "print(len(embeddable_disease_list))\n",
    "print(len(disease_embeddings))\n",
    "\n",
    "print(len(embeddable_drug_list))\n",
    "print(len(drug_embeddings))\n",
    "\n",
    "print(len(embeddable_protein_list))\n",
    "print(len(protein_embeddings))"
   ],
   "id": "63bc91ddf157a930",
   "outputs": [
    {
     "name": "stdout",
     "output_type": "stream",
     "text": [
      "590\n",
      "590\n",
      "999\n",
      "999\n",
      "836\n",
      "836\n"
     ]
    }
   ],
   "execution_count": 5
  },
  {
   "cell_type": "code",
   "id": "c2e92b3f-cac1-40c4-bb01-2c0116a95824",
   "metadata": {
    "ExecuteTime": {
     "end_time": "2024-08-14T18:10:18.780054Z",
     "start_time": "2024-08-14T18:10:18.776508Z"
    }
   },
   "source": [
    "print(len(drug_vector_dict))\n",
    "print(len(disease_vector_dict))\n",
    "print(len(protein_vector_dict))"
   ],
   "outputs": [
    {
     "name": "stdout",
     "output_type": "stream",
     "text": [
      "999\n",
      "590\n",
      "836\n"
     ]
    }
   ],
   "execution_count": 6
  },
  {
   "metadata": {
    "ExecuteTime": {
     "end_time": "2024-08-14T18:10:20.473080Z",
     "start_time": "2024-08-14T18:10:20.469708Z"
    }
   },
   "cell_type": "code",
   "source": "print(os.getcwd())",
   "id": "ccdcec4a75daf150",
   "outputs": [
    {
     "name": "stdout",
     "output_type": "stream",
     "text": [
      "/Users/eding/PycharmProjects/U24-ROBOKOP-Project-8-7-24/Data Embedding & Model Development\n"
     ]
    }
   ],
   "execution_count": 7
  },
  {
   "cell_type": "code",
   "id": "0d1b240d-bc08-40e3-a7f9-2abd3011f060",
   "metadata": {
    "ExecuteTime": {
     "end_time": "2024-08-14T18:10:35.525696Z",
     "start_time": "2024-08-14T18:10:35.308505Z"
    }
   },
   "source": [
    "#export vector dictionary for use in embedding triples\n",
    "\n",
    "with open(os.path.join(os.getcwd(), 'Vector Dictionaries', 'ROBOMechDB Disease Vector Dictionary.csv') , 'w', encoding=\"utf-8\", newline='') as csvfile:\n",
    "    writer = csv.writer(csvfile)\n",
    "    \n",
    "    # Write the header\n",
    "    writer.writerow(['key'] + [f'value_{i+1}' for i in range(200)])\n",
    "    \n",
    "    # Write the key and the values\n",
    "    for key, values in disease_vector_dict.items():\n",
    "        writer.writerow([key] + values)\n",
    "\n",
    "    \n",
    "with open(os.path.join(os.getcwd(), 'Vector Dictionaries', 'ROBOMechDB Drug Vector Dictionary.csv'), 'w', encoding=\"utf-8\", newline='') as csvfile:\n",
    "    writer = csv.writer(csvfile)\n",
    "    \n",
    "    # Write the header\n",
    "    writer.writerow(['key'] + [f'value_{i+1}' for i in range(200)])\n",
    "    \n",
    "    # Write the key and the values\n",
    "    for key, values in drug_vector_dict.items():\n",
    "        writer.writerow([key] + values)\n",
    "\n",
    "with open(os.path.join(os.getcwd(), 'Vector Dictionaries', 'ROBOMechDB Protein Vector Dictionary.csv'), 'w', encoding=\"utf-8\", newline='') as csvfile:\n",
    "    writer = csv.writer(csvfile)\n",
    "    \n",
    "    # Write the header\n",
    "    writer.writerow(['key'] + [f'value_{i+1}' for i in range(200)])\n",
    "    \n",
    "    # Write the key and the values\n",
    "    for key, values in protein_vector_dict.items():\n",
    "        writer.writerow([key] + values)\n",
    "\n",
    "\n",
    "    \n"
   ],
   "outputs": [],
   "execution_count": 8
  },
  {
   "cell_type": "code",
   "execution_count": 13,
   "id": "48b76819-f392-4f34-ad3b-01cd991967b2",
   "metadata": {},
   "outputs": [],
   "source": [
    "test = pd.read_csv('/Users/eding/Desktop/U24 ROBOKOP Project/Data Embedding/Vector Dictionaries/ROBOMechDB Disease Vector Dictionary.csv')"
   ]
  },
  {
   "cell_type": "code",
   "execution_count": 14,
   "id": "cfa74a6a-4cb4-4145-b66e-ecb2a36d5a09",
   "metadata": {},
   "outputs": [],
   "source": [
    "test2 = pd.read_csv('/Users/eding/Desktop/U24 ROBOKOP Project/Data Embedding/Vector Dictionaries/ROBOMechDBa Disease Vector Dictionary.csv')"
   ]
  },
  {
   "cell_type": "code",
   "execution_count": 15,
   "id": "6b7d9d4d-c92f-473d-b4d8-4e26b7a5ee20",
   "metadata": {},
   "outputs": [
    {
     "name": "stdout",
     "output_type": "stream",
     "text": [
      "                                            key   value_1   value_2   value_3  \\\n",
      "0                             abdominal abscess -0.322403  0.135110 -0.764980   \n",
      "1                           abdominal infection  0.818227 -0.024040 -0.592960   \n",
      "2                              absence epilepsy  0.067868  1.407110 -0.075173   \n",
      "3                             acidosis disorder -0.306392  1.126410  0.551575   \n",
      "4                                          acne  0.341810  0.444530  0.289900   \n",
      "..                                          ...       ...       ...       ...   \n",
      "585                    vulvovaginal candidiasis -0.136126  0.820252  0.251530   \n",
      "586               waldenstrom macroglobulinemia  0.962720  1.390580  0.220943   \n",
      "587                               west syndrome  1.101950  0.397000  1.842845   \n",
      "588                                 wilms tumor  0.531680  0.386080  0.119300   \n",
      "589  x-linked dominant hypophosphatemic rickets  0.647884  1.248490 -0.275390   \n",
      "\n",
      "      value_4   value_5   value_6   value_7   value_8   value_9  ...  \\\n",
      "0    0.813670 -0.256765  1.226790  0.414989  0.699640  2.139000  ...   \n",
      "1    0.372330 -0.658430  0.839200  0.330609  0.619640  2.451800  ...   \n",
      "2   -0.035620 -0.497410  0.146806 -0.569250  0.246562  0.294920  ...   \n",
      "3    0.067420 -0.032120  0.803800 -0.082940  0.552066  0.198118  ...   \n",
      "4    0.374980 -0.280000 -0.236240 -0.418840 -0.147780  0.720540  ...   \n",
      "..        ...       ...       ...       ...       ...       ...  ...   \n",
      "585  0.385490 -0.702700  0.337040 -0.516390  0.361140  2.151390  ...   \n",
      "586  0.795360 -0.193156 -0.022170 -0.536030 -0.109284  0.811970  ...   \n",
      "587  1.100696 -0.608977 -0.233544 -0.905981  1.448681  1.499540  ...   \n",
      "588  0.568150 -0.205040 -0.131650 -0.053671  0.572850  0.321620  ...   \n",
      "589  0.204059  0.078640  1.113460 -0.906290  1.081840  1.245580  ...   \n",
      "\n",
      "     value_191  value_192  value_193  value_194  value_195  value_196  \\\n",
      "0    -0.064550  -1.346450   0.398262   0.560627  -0.102027  -1.678280   \n",
      "1     0.086310  -0.983380   0.700492   0.659130  -0.261412  -1.946970   \n",
      "2    -0.097120  -0.541430   0.648220   1.040470   0.273020   0.045450   \n",
      "3     0.178100  -0.314490   0.941360   0.401710  -0.392920  -1.668350   \n",
      "4    -0.154360  -0.531430   0.505920   0.090631  -0.221000  -0.674860   \n",
      "..         ...        ...        ...        ...        ...        ...   \n",
      "585  -0.130930  -0.608300  -1.169760   0.677656   0.514600  -1.412330   \n",
      "586   0.269261  -1.180550  -0.207890   0.890210   0.470580  -0.601890   \n",
      "587  -0.067030  -1.097160   0.872255   1.907250   0.537461  -0.522651   \n",
      "588  -0.230530  -0.620030   0.248940   0.224840  -0.561570  -0.620040   \n",
      "589  -1.052620  -0.056605  -0.623320   1.414680   0.164870  -1.562320   \n",
      "\n",
      "     value_197  value_198  value_199  value_200  \n",
      "0    -0.988630   0.765000  -1.220200  -0.680350  \n",
      "1    -1.124540   0.002940  -0.720600  -0.891520  \n",
      "2     0.558142   0.666840  -1.059690  -0.798270  \n",
      "3    -0.395330  -0.222312  -0.587277  -0.137550  \n",
      "4     0.427320   0.317400  -0.114630  -0.248300  \n",
      "..         ...        ...        ...        ...  \n",
      "585  -0.646016  -0.416740  -0.128570  -0.410986  \n",
      "586  -0.216012   0.971060  -0.467530  -1.671890  \n",
      "587   0.235140  -0.787534  -1.492087  -1.750230  \n",
      "588   0.663540   0.073298  -0.486480  -0.126070  \n",
      "589  -0.043574  -0.229034  -0.097530  -0.734030  \n",
      "\n",
      "[590 rows x 201 columns]\n"
     ]
    }
   ],
   "source": [
    "print(test2)"
   ]
  },
  {
   "cell_type": "code",
   "execution_count": 16,
   "id": "f083a422-c36a-42bf-ab08-5d8bb92678bf",
   "metadata": {},
   "outputs": [
    {
     "name": "stdout",
     "output_type": "stream",
     "text": [
      "                                            key   value_1   value_2   value_3  \\\n",
      "0                             abdominal abscess -0.322403  0.135110 -0.764980   \n",
      "1                           abdominal infection  0.818227 -0.024040 -0.592960   \n",
      "2                              absence epilepsy  0.067868  1.407110 -0.075173   \n",
      "3                             acidosis disorder -0.306392  1.126410  0.551575   \n",
      "4                                          acne  0.341810  0.444530  0.289900   \n",
      "..                                          ...       ...       ...       ...   \n",
      "585                    vulvovaginal candidiasis -0.136126  0.820252  0.251530   \n",
      "586               waldenstrom macroglobulinemia  0.962720  1.390580  0.220943   \n",
      "587                               west syndrome  1.101950  0.397000  1.842845   \n",
      "588                                 wilms tumor  0.531680  0.386080  0.119300   \n",
      "589  x-linked dominant hypophosphatemic rickets  0.647884  1.248490 -0.275390   \n",
      "\n",
      "      value_4   value_5   value_6   value_7   value_8   value_9  ...  \\\n",
      "0    0.813670 -0.256765  1.226790  0.414989  0.699640  2.139000  ...   \n",
      "1    0.372330 -0.658430  0.839200  0.330609  0.619640  2.451800  ...   \n",
      "2   -0.035620 -0.497410  0.146806 -0.569250  0.246562  0.294920  ...   \n",
      "3    0.067420 -0.032120  0.803800 -0.082940  0.552066  0.198118  ...   \n",
      "4    0.374980 -0.280000 -0.236240 -0.418840 -0.147780  0.720540  ...   \n",
      "..        ...       ...       ...       ...       ...       ...  ...   \n",
      "585  0.385490 -0.702700  0.337040 -0.516390  0.361140  2.151390  ...   \n",
      "586  0.795360 -0.193156 -0.022170 -0.536030 -0.109284  0.811970  ...   \n",
      "587  1.100696 -0.608977 -0.233544 -0.905981  1.448681  1.499540  ...   \n",
      "588  0.568150 -0.205040 -0.131650 -0.053671  0.572850  0.321620  ...   \n",
      "589  0.204059  0.078640  1.113460 -0.906290  1.081840  1.245580  ...   \n",
      "\n",
      "     value_191  value_192  value_193  value_194  value_195  value_196  \\\n",
      "0    -0.064550  -1.346450   0.398262   0.560627  -0.102027  -1.678280   \n",
      "1     0.086310  -0.983380   0.700492   0.659130  -0.261412  -1.946970   \n",
      "2    -0.097120  -0.541430   0.648220   1.040470   0.273020   0.045450   \n",
      "3     0.178100  -0.314490   0.941360   0.401710  -0.392920  -1.668350   \n",
      "4    -0.154360  -0.531430   0.505920   0.090631  -0.221000  -0.674860   \n",
      "..         ...        ...        ...        ...        ...        ...   \n",
      "585  -0.130930  -0.608300  -1.169760   0.677656   0.514600  -1.412330   \n",
      "586   0.269261  -1.180550  -0.207890   0.890210   0.470580  -0.601890   \n",
      "587  -0.067030  -1.097160   0.872255   1.907250   0.537461  -0.522651   \n",
      "588  -0.230530  -0.620030   0.248940   0.224840  -0.561570  -0.620040   \n",
      "589  -1.052620  -0.056605  -0.623320   1.414680   0.164870  -1.562320   \n",
      "\n",
      "     value_197  value_198  value_199  value_200  \n",
      "0    -0.988630   0.765000  -1.220200  -0.680350  \n",
      "1    -1.124540   0.002940  -0.720600  -0.891520  \n",
      "2     0.558142   0.666840  -1.059690  -0.798270  \n",
      "3    -0.395330  -0.222312  -0.587277  -0.137550  \n",
      "4     0.427320   0.317400  -0.114630  -0.248300  \n",
      "..         ...        ...        ...        ...  \n",
      "585  -0.646016  -0.416740  -0.128570  -0.410986  \n",
      "586  -0.216012   0.971060  -0.467530  -1.671890  \n",
      "587   0.235140  -0.787534  -1.492087  -1.750230  \n",
      "588   0.663540   0.073298  -0.486480  -0.126070  \n",
      "589  -0.043574  -0.229034  -0.097530  -0.734030  \n",
      "\n",
      "[590 rows x 201 columns]\n"
     ]
    }
   ],
   "source": [
    "print(test)"
   ]
  },
  {
   "cell_type": "code",
   "execution_count": null,
   "id": "84809412-9ac1-4ebe-8c7a-3b68ffa858fb",
   "metadata": {},
   "outputs": [],
   "source": []
  }
 ],
 "metadata": {
  "kernelspec": {
   "display_name": "Python 3 (ipykernel)",
   "language": "python",
   "name": "python3"
  },
  "language_info": {
   "codemirror_mode": {
    "name": "ipython",
    "version": 3
   },
   "file_extension": ".py",
   "mimetype": "text/x-python",
   "name": "python",
   "nbconvert_exporter": "python",
   "pygments_lexer": "ipython3",
   "version": "3.12.3"
  }
 },
 "nbformat": 4,
 "nbformat_minor": 5
}
