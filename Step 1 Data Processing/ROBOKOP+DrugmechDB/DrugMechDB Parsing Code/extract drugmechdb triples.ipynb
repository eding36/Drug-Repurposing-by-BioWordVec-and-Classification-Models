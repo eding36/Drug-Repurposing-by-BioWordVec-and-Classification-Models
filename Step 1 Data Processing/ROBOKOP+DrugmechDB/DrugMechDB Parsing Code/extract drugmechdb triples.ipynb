{
 "cells": [
  {
   "cell_type": "code",
   "id": "0eec18ea-5c7d-4e79-b138-485fba76e02c",
   "metadata": {
    "ExecuteTime": {
     "end_time": "2024-11-12T23:12:24.705175Z",
     "start_time": "2024-11-12T23:12:24.539061Z"
    }
   },
   "source": [
    "\"\"\"JSON TO CSV FUNCTION to turn drugmechdb raw indication paths.json --> indication paths.csv\"\"\"\n",
    "\n",
    "import json\n",
    "import os\n",
    "import pandas as pd\n",
    "import numpy as np\n",
    "\n",
    "def json_to_csv(json_file, csv_file):\n",
    "    with open(json_file) as f:\n",
    "        json_data = json.load(f)\n",
    "    \n",
    "    df = pd.json_normalize(json_data)\n",
    "    df.to_csv(csv_file, index=False)\n",
    "\n",
    "current_dir = os.getcwd()\n",
    "\n",
    "# Define the sibling directory name\n",
    "drugmechdb_data_dir = os.path.join(os.path.dirname(current_dir), 'DrugMechDB Data')\n",
    "\n",
    "# Example usage\n",
    "json_file = os.path.join(drugmechdb_data_dir, 'Raw Data', 'indication_paths.json')\n",
    "csv_file = os.path.join(drugmechdb_data_dir, 'Raw Data', 'indication_paths.csv')\n",
    "json_to_csv(json_file, csv_file)"
   ],
   "outputs": [],
   "execution_count": 42
  },
  {
   "cell_type": "code",
   "id": "1f5277b4-82f7-495c-a319-8bb80eb8a9ee",
   "metadata": {
    "ExecuteTime": {
     "end_time": "2024-11-12T23:12:24.850647Z",
     "start_time": "2024-11-12T23:12:24.706324Z"
    }
   },
   "source": [
    "import os\n",
    "\n",
    "# Load the data\n",
    "df_raw = pd.read_csv(os.path.join(drugmechdb_data_dir, 'Raw Data', 'indication_paths.csv'))\n",
    "triples_list = []\n",
    "\n",
    "print(df_raw)\n",
    "\n",
    "# Helper function to check if comments and related columns are empty, indicating less reliable indication paths\n",
    "def is_comments_column_empty(row):\n",
    "    comment_cols = ['comment', 'comments', 'references', 'commments', 'comemnt']\n",
    "    return all(pd.isnull(row[col]) for col in comment_cols)\n",
    "\n",
    "# Patterns for drug-protein interaction edges\n",
    "interaction_patterns = {\n",
    "    \"positively_regulates\": \"positively regulates\",\n",
    "    \"negatively_regulates\": \"negatively regulates\",\n",
    "    \"decreases_activity\": \"decreases activity of\",\n",
    "    \"increases_activity\": \"increases activity of\"\n",
    "}\n",
    "\n",
    "# Iterate over rows\n",
    "for i, row in df_raw.iterrows():\n",
    "    # Filter out pathways without proteins\n",
    "    if 'UniProt:' not in row['links'] or not is_comments_column_empty(row):\n",
    "        continue\n",
    "    \n",
    "    # Extract and clean drug and disease information\n",
    "    drug = row['graph.drug'].lower().replace(\"'\", \"\")\n",
    "    drug_id_mesh = row['graph.drug_mesh']\n",
    "    drug_id_bank = row['graph.drugbank'].replace('DB:DB', 'DRUGBANK:DB')\n",
    "    disease = row['graph.disease'].lower().replace(\"'\", \"\")\n",
    "    disease_id_mesh = row['graph.disease_mesh']\n",
    "\n",
    "    # Clean links and group them into triples\n",
    "    links_clean = row['links'].replace(\"{\", \"\").replace(\"}\", \"\").replace(\"'\", \"\").replace(\"[\", \"\").replace(\"]\", \"\").split(\", \")\n",
    "    links_grouped = [', '.join(links_clean[i:i+3]) for i in range(0, len(links_clean), 3)]\n",
    "\n",
    "    # Generate drug-protein interaction patterns\n",
    "    source_patterns = [\n",
    "        f\"key: {interaction}, source: {drug_id}, target: UniProt:\"\n",
    "        for interaction in interaction_patterns.values()\n",
    "        for drug_id in [drug_id_mesh, drug_id_bank.replace('DRUGBANK:', 'DB:')]\n",
    "    ]\n",
    "\n",
    "    # Check and extract triples for each link\n",
    "    for link in links_grouped:\n",
    "        if any(pattern in link for pattern in source_patterns):\n",
    "            protein_id = link.split(', ')[2].replace(\"target: UniProt\", \"UniProtKB\")\n",
    "            triples_temp = [drug, drug_id_bank, disease, disease_id_mesh, 'null', protein_id]\n",
    "            triples_list.append(triples_temp)\n",
    "\n",
    "print(triples_list[:4])"
   ],
   "outputs": [
    {
     "name": "stdout",
     "output_type": "stream",
     "text": [
      "      directed                                              links  multigraph  \\\n",
      "0         True  [{'key': 'decreases activity of', 'source': 'M...        True   \n",
      "1         True  [{'key': 'decreases activity of', 'source': 'M...        True   \n",
      "2         True  [{'key': 'decreases activity of', 'source': 'M...        True   \n",
      "3         True  [{'key': 'negatively regulates', 'source': 'ME...        True   \n",
      "4         True  [{'key': 'decreases activity of', 'source': 'M...        True   \n",
      "...        ...                                                ...         ...   \n",
      "4841      True  [{'key': 'positively regulates', 'source': 'ME...        True   \n",
      "4842      True  [{'key': 'positively regulates', 'source': 'ME...        True   \n",
      "4843      True  [{'key': 'positively regulates', 'source': 'ME...        True   \n",
      "4844      True  [{'key': 'positively regulates', 'source': 'ME...        True   \n",
      "4845      True  [{'key': 'positively regulates', 'source': 'ME...        True   \n",
      "\n",
      "                                                  nodes  \\\n",
      "0     [{'id': 'MESH:D000068877', 'label': 'Drug', 'n...   \n",
      "1     [{'id': 'MESH:D000068877', 'label': 'Drug', 'n...   \n",
      "2     [{'id': 'MESH:D000082', 'label': 'Drug', 'name...   \n",
      "3     [{'id': 'MESH:D000082', 'label': 'Drug', 'name...   \n",
      "4     [{'id': 'MESH:D001241', 'label': 'Drug', 'name...   \n",
      "...                                                 ...   \n",
      "4841  [{'id': 'MESH:D003907', 'label': 'Drug', 'name...   \n",
      "4842  [{'id': 'MESH:D003907', 'label': 'Drug', 'name...   \n",
      "4843  [{'id': 'MESH:D003907', 'label': 'Drug', 'name...   \n",
      "4844  [{'id': 'MESH:D003907', 'label': 'Drug', 'name...   \n",
      "4845  [{'id': 'MESH:D003907', 'label': 'Drug', 'name...   \n",
      "\n",
      "                   graph._id                         graph.disease  \\\n",
      "0     DB00619_MESH_D015464_1                             CML (ph+)   \n",
      "1     DB00619_MESH_D034721_1            Systemic mast cell disease   \n",
      "2     DB00316_MESH_D010146_1                                  Pain   \n",
      "3     DB00316_MESH_D005334_1                                 Fever   \n",
      "4     DB00945_MESH_D010146_1                                  Pain   \n",
      "...                      ...                                   ...   \n",
      "4841  DB01234_MESH_D009404_1                    Nephrotic Syndrome   \n",
      "4842  DB01234_MESH_C562390_1   Humoral Hypercalcemia Of Malignancy   \n",
      "4843  DB01234_MESH_D000312_1                Adrenogenital disorder   \n",
      "4844  DB01234_MESH_D000224_1  Primary adrenocortical insufficiency   \n",
      "4845  DB01234_MESH_D000309_1         Adrenal cortical hypofunction   \n",
      "\n",
      "     graph.disease_mesh     graph.drug  graph.drug_mesh graph.drugbank  \\\n",
      "0          MESH:D015464       imatinib  MESH:D000068877     DB:DB00619   \n",
      "1          MESH:D034721       imatinib  MESH:D000068877     DB:DB00619   \n",
      "2          MESH:D010146  Acetaminophen     MESH:D000082     DB:DB00316   \n",
      "3          MESH:D005334  acetaminophen     MESH:D000082     DB:DB00316   \n",
      "4          MESH:D010146        Aspirin     MESH:D001241     DB:DB00945   \n",
      "...                 ...            ...              ...            ...   \n",
      "4841       MESH:D009404  dexamethasone     MESH:D003907     DB:DB01234   \n",
      "4842       MESH:C562390  dexamethasone     MESH:D003907     DB:DB01234   \n",
      "4843       MESH:D000312  dexamethasone     MESH:D003907     DB:DB01234   \n",
      "4844       MESH:D000224  dexamethasone     MESH:D003907     DB:DB01234   \n",
      "4845       MESH:D000309  dexamethasone     MESH:D003907     DB:DB01234   \n",
      "\n",
      "                                              reference  \\\n",
      "0                                                   NaN   \n",
      "1                                                   NaN   \n",
      "2     ['https://go.drugbank.com/drugs/DB00316#mechan...   \n",
      "3                                                   NaN   \n",
      "4     ['https://go.drugbank.com/drugs/DB00945#mechan...   \n",
      "...                                                 ...   \n",
      "4841  ['https://go.drugbank.com/drugs/DB01234', 'htt...   \n",
      "4842  ['https://go.drugbank.com/drugs/DB01234', 'htt...   \n",
      "4843  ['https://go.drugbank.com/drugs/DB01234', 'htt...   \n",
      "4844  ['https://go.drugbank.com/drugs/DB01234', 'htt...   \n",
      "4845  ['https://go.drugbank.com/drugs/DB01234', 'htt...   \n",
      "\n",
      "                                                comment comments references  \\\n",
      "0                                                   NaN      NaN        NaN   \n",
      "1                                                   NaN      NaN        NaN   \n",
      "2                                                   NaN      NaN        NaN   \n",
      "3                                                   NaN      NaN        NaN   \n",
      "4                                                   NaN      NaN        NaN   \n",
      "...                                                 ...      ...        ...   \n",
      "4841                                                NaN      NaN        NaN   \n",
      "4842                                                NaN      NaN        NaN   \n",
      "4843  Glucocorticoids suppress adrenal androgen synt...      NaN        NaN   \n",
      "4844                                                NaN      NaN        NaN   \n",
      "4845                                                NaN      NaN        NaN   \n",
      "\n",
      "     commments comemnt  \n",
      "0          NaN     NaN  \n",
      "1          NaN     NaN  \n",
      "2          NaN     NaN  \n",
      "3          NaN     NaN  \n",
      "4          NaN     NaN  \n",
      "...        ...     ...  \n",
      "4841       NaN     NaN  \n",
      "4842       NaN     NaN  \n",
      "4843       NaN     NaN  \n",
      "4844       NaN     NaN  \n",
      "4845       NaN     NaN  \n",
      "\n",
      "[4846 rows x 16 columns]\n",
      "[['imatinib', 'DRUGBANK:DB00619', 'cml (ph+)', 'MESH:D015464', 'null', 'UniProtKB:P00519'], ['imatinib', 'DRUGBANK:DB00619', 'systemic mast cell disease', 'MESH:D034721', 'null', 'UniProtKB:P10721'], ['imatinib', 'DRUGBANK:DB00619', 'systemic mast cell disease', 'MESH:D034721', 'null', 'UniProtKB:P16234'], ['acetaminophen', 'DRUGBANK:DB00316', 'pain', 'MESH:D010146', 'null', 'UniProtKB:P23219']]\n"
     ]
    }
   ],
   "execution_count": 43
  },
  {
   "cell_type": "code",
   "id": "c88db627-62a8-48df-bffe-1610d90d924d",
   "metadata": {
    "ExecuteTime": {
     "end_time": "2024-11-12T23:12:25.067564Z",
     "start_time": "2024-11-12T23:12:25.065543Z"
    }
   },
   "source": [
    "triples_list[228][1] = \"DRUGBANK:DB08902\" ####fixing a raw data entry error.\n",
    "triples_list[2301][1] = \"DRUGBANK:DB02362\"\n",
    "triples_list[2302][1] = \"DRUGBANK:DB02362\"\n",
    "triples_list[2303][1] = \"DRUGBANK:DB02362\"\n",
    "triples_list[2304][1] = \"DRUGBANK:DB02362\""
   ],
   "outputs": [],
   "execution_count": 44
  },
  {
   "cell_type": "code",
   "id": "07ddab44-e931-4413-9a0f-57a858a85eb8",
   "metadata": {
    "ExecuteTime": {
     "end_time": "2024-11-12T23:12:26.119143Z",
     "start_time": "2024-11-12T23:12:26.116169Z"
    }
   },
   "source": [
    "print(len(triples_list))"
   ],
   "outputs": [
    {
     "name": "stdout",
     "output_type": "stream",
     "text": [
      "3882\n"
     ]
    }
   ],
   "execution_count": 45
  },
  {
   "cell_type": "code",
   "id": "7981dbe8-a2cd-4135-a28f-79f60a0171c5",
   "metadata": {
    "ExecuteTime": {
     "end_time": "2024-11-12T23:12:58.516284Z",
     "start_time": "2024-11-12T23:12:58.492087Z"
    }
   },
   "source": [
    "triples_array = np.array(triples_list)\n",
    "df = pd.DataFrame(data = triples_array)\n",
    "df.columns = ['drug_name', 'drug_id', 'disease_name','disease_id','gene_name','gene_id']\n",
    "df.to_csv(os.path.join(drugmechdb_data_dir, 'Processed Data', 'DrugMechDB Processed Triples.csv'), index = False)"
   ],
   "outputs": [],
   "execution_count": 47
  },
  {
   "metadata": {},
   "cell_type": "code",
   "outputs": [],
   "execution_count": null,
   "source": "",
   "id": "664611a31d60fc3"
  }
 ],
 "metadata": {
  "kernelspec": {
   "display_name": "Python 3 (ipykernel)",
   "language": "python",
   "name": "python3"
  },
  "language_info": {
   "codemirror_mode": {
    "name": "ipython",
    "version": 3
   },
   "file_extension": ".py",
   "mimetype": "text/x-python",
   "name": "python",
   "nbconvert_exporter": "python",
   "pygments_lexer": "ipython3",
   "version": "3.12.3"
  }
 },
 "nbformat": 4,
 "nbformat_minor": 5
}
