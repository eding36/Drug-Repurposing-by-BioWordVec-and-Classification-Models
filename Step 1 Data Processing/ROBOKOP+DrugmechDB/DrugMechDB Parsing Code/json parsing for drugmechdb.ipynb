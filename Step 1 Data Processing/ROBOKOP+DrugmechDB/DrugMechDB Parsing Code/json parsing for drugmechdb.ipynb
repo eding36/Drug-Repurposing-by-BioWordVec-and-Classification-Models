{
 "cells": [
  {
   "cell_type": "code",
   "id": "0eec18ea-5c7d-4e79-b138-485fba76e02c",
   "metadata": {
    "ExecuteTime": {
     "end_time": "2024-08-15T19:31:37.385979Z",
     "start_time": "2024-08-15T19:31:37.019475Z"
    }
   },
   "source": [
    "#######JSON TO CSV FUNCTION to turn indication paths.json --> indication paths.csv#########\n",
    "\n",
    "import json\n",
    "import os\n",
    "import pandas as pd\n",
    "\n",
    "def json_to_csv(json_file, csv_file):\n",
    "    with open(json_file) as f:\n",
    "        json_data = json.load(f)\n",
    "    \n",
    "    df = pd.json_normalize(json_data)\n",
    "    df.to_csv(csv_file, index=False)\n",
    "\n",
    "current_dir = os.getcwd()\n",
    "\n",
    "# Define the sibling directory name\n",
    "drugmechdb_data_dir = os.path.join(os.path.dirname(current_dir), 'DrugMechDB Data')\n",
    "\n",
    "# Example usage\n",
    "json_file = os.path.join(drugmechdb_data_dir, 'Raw Data', 'indication_paths.json')\n",
    "csv_file = os.path.join(drugmechdb_data_dir, 'Raw Data', 'indication_paths.csv')\n",
    "json_to_csv(json_file, csv_file)"
   ],
   "outputs": [],
   "execution_count": 1
  },
  {
   "cell_type": "code",
   "id": "1f5277b4-82f7-495c-a319-8bb80eb8a9ee",
   "metadata": {
    "ExecuteTime": {
     "end_time": "2024-08-15T19:31:38.022476Z",
     "start_time": "2024-08-15T19:31:37.894829Z"
    }
   },
   "source": [
    "#######EXTRACTING TRIPLES FROM DRUGMECHDB PATHWAYS#########\n",
    "df_raw = pd.read_csv(os.path.join(drugmechdb_data_dir, 'Raw Data','indication_paths.csv'))\n",
    "links = df_raw['links']\n",
    "nodes = df_raw['nodes']\n",
    "triples_list = []\n",
    "\n",
    "def check_column_empty_at_index(i): ###function to return true if comments column at specified row is empty. singles out less reliable indication paths \n",
    "    if pd.isnull(df_raw.at[i,'comment']) and pd.isnull(df_raw.at[i,'comments']) and pd.isnull(df_raw.at[i,'references']) and pd.isnull(df_raw.at[i,'commments']) and pd.isnull(df_raw.at[i,'comemnt']) == True:\n",
    "        return True\n",
    "    else:\n",
    "        return False\n",
    "        \n",
    "for i in range(len(nodes)):\n",
    "    protein_exists = links[i].find('UniProt:')\n",
    "    if protein_exists == -1: #singles out the faulty pathways and ones that don't contain proteins\n",
    "        continue\n",
    "    if check_column_empty_at_index(i) == True:                      ### if no comments in this indication path, then execute all these lines below\n",
    "        drug = df_raw['graph.drug'][i].lower() #extract drug/disease names and id's\n",
    "        drug_id_mesh = df_raw['graph.drug_mesh'][i]\n",
    "        drug_id_bank = df_raw['graph.drugbank'][i].replace('DB:DB','DRUGBANK:DB')\n",
    "        disease = df_raw['graph.disease'][i].lower()\n",
    "        disease_id_mesh = df_raw['graph.disease_mesh'][i]\n",
    "\n",
    "        links_clean = links[i].replace(\"{\",'').replace(\"}\",'').replace(\"'\",'').replace(\"[\",'').replace(\"]\",'').split(\", \") ###cleaning edges of indication paths\n",
    "        links_grouped = [links_clean[i:i+3] for i in range(0, len(links_clean), 3)] ###all indication paths are separated into different edges\n",
    "        links_grouped_clean = [', '.join(inner_list) for inner_list in links_grouped] ###each edge's information (source, path, target) is grouped together\n",
    "        \n",
    "        drug_positively_regulates_protein = f\"key: positively regulates, source: {drug_id_mesh}, target: UniProt:\" \n",
    "        drugbank_positively_regulates_protein = f\"key: positively regulates, source: {drug_id_bank.replace('DRUGBANK:','DB:')}, target: UniProt:\"\n",
    "        drug_negatively_regulates_protein_count = f\"key: negatively regulates, source: {drug_id_mesh}, target: UniProt:\"\n",
    "        drugbank_negatively_regulates_protein_count = f\"key: negatively regulates, source: {drug_id_bank.replace('DRUGBANK:','DB:')}, target: UniProt:\"\n",
    "        drug_decreases_activity_of_protein_count = f\"key: decreases activity of, source: {drug_id_mesh}, target: UniProt:\"\n",
    "        drugbank_decreases_activity_of_protein_count = f\"key: decreases activity of, source: {drug_id_bank.replace('DRUGBANK:','DB:')}, target: UniProt:\"\n",
    "        drug_increases_activity_of_protein_count = f\"key: increases activity of, source: {drug_id_mesh}, target: UniProt:\" \n",
    "        drugbank_increases_activity_of_protein_count = f\"key: increases activity of, source: {drug_id_bank.replace('DRUGBANK:','DB:')}, target: UniProt:\"\n",
    "        array = [drug_positively_regulates_protein, drugbank_positively_regulates_protein, drug_negatively_regulates_protein_count, drugbank_negatively_regulates_protein_count, drug_decreases_activity_of_protein_count, drugbank_decreases_activity_of_protein_count, drug_increases_activity_of_protein_count, drugbank_increases_activity_of_protein_count]\n",
    "        \n",
    "        for j in range(len(links_grouped_clean)): ###iterates thru each edge in an indication path \n",
    "            is_present = any(array[s] in links_grouped_clean[j] for s in range(len(array))) ###checks if specified edge is a direct drug-protein relationship]\n",
    "            if is_present:  ###if specified edge is a direct drug-protein relationship, extract protein id and make a triple out of it\n",
    "                protein_id = links_grouped[j][2].replace(\"target: UniProt\", \"UniProtKB\")\n",
    "                protein_name = 'null' ###we can do this because we already have protein id. once we node normalize in the next step, we will get a gene name\n",
    "                triples_temp = [drug.replace(\"'\",''),drug_id_bank.replace(\"'\",''),disease.replace(\"'\",''),disease_id_mesh.replace(\"'\",''),protein_name, protein_id]\n",
    "                triples_list.append(triples_temp)\n",
    "    "
   ],
   "outputs": [],
   "execution_count": 2
  },
  {
   "cell_type": "code",
   "id": "c88db627-62a8-48df-bffe-1610d90d924d",
   "metadata": {
    "ExecuteTime": {
     "end_time": "2024-08-15T19:31:38.687060Z",
     "start_time": "2024-08-15T19:31:38.683712Z"
    }
   },
   "source": [
    "triples_list[228][1] = \"DRUGBANK:DB08902\" ####fixing raw data error.\n",
    "triples_list[2301][1] = \"DRUGBANK:DB02362\"\n",
    "triples_list[2302][1] = \"DRUGBANK:DB02362\"\n",
    "triples_list[2303][1] = \"DRUGBANK:DB02362\"\n",
    "triples_list[2304][1] = \"DRUGBANK:DB02362\""
   ],
   "outputs": [],
   "execution_count": 3
  },
  {
   "cell_type": "code",
   "id": "f57d3a92-d86d-4bc1-be08-4ec78616ace7",
   "metadata": {
    "ExecuteTime": {
     "end_time": "2024-08-15T19:31:39.099417Z",
     "start_time": "2024-08-15T19:31:39.097632Z"
    }
   },
   "source": [
    "print(links_grouped[1])"
   ],
   "outputs": [
    {
     "name": "stdout",
     "output_type": "stream",
     "text": [
      "['key: positively correlated with', 'source: UniProt:P04150', 'target: GO:0120178']\n"
     ]
    }
   ],
   "execution_count": 4
  },
  {
   "cell_type": "code",
   "id": "07ddab44-e931-4413-9a0f-57a858a85eb8",
   "metadata": {
    "ExecuteTime": {
     "end_time": "2024-08-15T19:31:40.274823Z",
     "start_time": "2024-08-15T19:31:40.271525Z"
    }
   },
   "source": [
    "print(len(triples_list))"
   ],
   "outputs": [
    {
     "name": "stdout",
     "output_type": "stream",
     "text": [
      "3882\n"
     ]
    }
   ],
   "execution_count": 5
  },
  {
   "cell_type": "code",
   "id": "7981dbe8-a2cd-4135-a28f-79f60a0171c5",
   "metadata": {
    "ExecuteTime": {
     "end_time": "2024-08-07T23:58:02.566880Z",
     "start_time": "2024-08-07T23:58:02.543634Z"
    }
   },
   "source": [
    "import numpy as np\n",
    "triples_array = np.array(triples_list)\n",
    "df = pd.DataFrame(data = triples_array)\n",
    "df.columns = ['drug_name', 'drug_id', 'disease_name','disease_id','gene_name','gene_id']\n",
    "df.to_csv(os.path.join(drugmechdb_data_dir, 'Processed Data', 'DrugMechDB Processed triples.csv'))"
   ],
   "outputs": [],
   "execution_count": 6
  },
  {
   "cell_type": "code",
   "id": "e8ed073f-35f9-47f4-b3d5-6ee53f6fc546",
   "metadata": {},
   "source": [],
   "outputs": [],
   "execution_count": null
  }
 ],
 "metadata": {
  "kernelspec": {
   "display_name": "Python 3 (ipykernel)",
   "language": "python",
   "name": "python3"
  },
  "language_info": {
   "codemirror_mode": {
    "name": "ipython",
    "version": 3
   },
   "file_extension": ".py",
   "mimetype": "text/x-python",
   "name": "python",
   "nbconvert_exporter": "python",
   "pygments_lexer": "ipython3",
   "version": "3.12.3"
  }
 },
 "nbformat": 4,
 "nbformat_minor": 5
}
