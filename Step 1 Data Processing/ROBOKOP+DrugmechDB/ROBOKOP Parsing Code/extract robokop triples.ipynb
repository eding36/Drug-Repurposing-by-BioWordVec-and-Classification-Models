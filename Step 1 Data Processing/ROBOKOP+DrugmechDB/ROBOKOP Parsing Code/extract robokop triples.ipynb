{
 "cells": [
  {
   "cell_type": "code",
   "id": "8c9e7c74-a6de-498b-a3a2-6970e947036e",
   "metadata": {
    "ExecuteTime": {
     "end_time": "2024-11-12T23:22:49.301274Z",
     "start_time": "2024-11-12T23:22:42.940671Z"
    }
   },
   "source": [
    "from neo4j import GraphDatabase\n",
    "from py2neo import Graph\n",
    "import pandas as pd"
   ],
   "outputs": [],
   "execution_count": 1
  },
  {
   "cell_type": "code",
   "id": "569fb2e0-9fea-4322-b2cd-a387cf558c90",
   "metadata": {
    "ExecuteTime": {
     "end_time": "2024-11-12T23:23:08.588614Z",
     "start_time": "2024-11-12T23:22:59.210244Z"
    }
   },
   "source": [
    "\"\"\"PYTHON FRAMEWORK TO RUN NEO4J CYPHER QUERY ON ROBOKOP DATABASE\"\"\"\n",
    "\n",
    "import requests\n",
    "import json\n",
    "\n",
    "url = \"https://robokop-automat.apps.renci.org/robokopkg/cypher\"\n",
    "\n",
    "payload = json.dumps({\"query\": \"\"\"MATCH (c:`biolink:ChemicalEntity`)-[r0:`biolink:binds`|`biolink:directly_physically_interacts_with`]-(g:`biolink:Gene`)-[r1]-(d:`biolink:Disease`),(c)-[r2:`biolink:treats`]-(d) WHERE (properties(c)[\"CHEBI_ROLE_pharmaceutical\"]) IS NOT NULL AND properties(r2)[\"primary_knowledge_source\"]=\"infores:drugcentral\" RETURN DISTINCT c.name,c.id,d.name,d.id,g.name,g.id\"\"\"\n",
    "})\n",
    "headers = {\n",
    "  'Content-Type': 'application/json',\n",
    "  'Accept': 'application/json'\n",
    "}\n",
    "\n",
    "response = requests.post(url, headers=headers, data=payload)\n",
    "print(response)\n",
    "response_json = response.json()\n"
   ],
   "outputs": [
    {
     "name": "stdout",
     "output_type": "stream",
     "text": [
      "<Response [200]>\n"
     ]
    }
   ],
   "execution_count": 3
  },
  {
   "cell_type": "code",
   "id": "f73f25dd-3465-4d59-90a1-d3c953f4479e",
   "metadata": {
    "ExecuteTime": {
     "end_time": "2024-11-12T23:23:11.951925Z",
     "start_time": "2024-11-12T23:23:11.945191Z"
    }
   },
   "source": [
    "values = response_json\n",
    "num_results = len(values['results'][0]['data'])\n",
    "triples_list = [item['row'] for item in response_json['results'][0]['data']]\n",
    "\n",
    "# Convert specified elements to lowercase\n",
    "for triple in triples_list:\n",
    "    triple[0] = triple[0].lower()\n",
    "    triple[2] = triple[2].lower()\n",
    "    triple[4] = triple[4].lower()\n",
    "\n",
    "# Print the first four triples\n",
    "print(triples_list[:4])"
   ],
   "outputs": [
    {
     "name": "stdout",
     "output_type": "stream",
     "text": [
      "[['5-fluorouracil', 'CHEBI:46345', 'malignant colon neoplasm', 'MONDO:0021063', 'abcg2', 'NCBIGene:9429'], ['5-fluorouracil', 'CHEBI:46345', 'malignant colon neoplasm', 'MONDO:0021063', 'tymp', 'NCBIGene:1890'], ['5-fluorouracil', 'CHEBI:46345', 'malignant colon neoplasm', 'MONDO:0021063', 'tyms', 'NCBIGene:7298'], ['5-fluorouracil', 'CHEBI:46345', 'malignant colon neoplasm', 'MONDO:0021063', 'mthfr', 'NCBIGene:4524']]\n"
     ]
    }
   ],
   "execution_count": 4
  },
  {
   "cell_type": "code",
   "id": "55185c08-b7c4-4b68-b0fe-87b774528423",
   "metadata": {
    "ExecuteTime": {
     "end_time": "2024-11-12T23:23:15.302004Z",
     "start_time": "2024-11-12T23:23:15.298725Z"
    }
   },
   "source": [
    "print(len(triples_list))"
   ],
   "outputs": [
    {
     "name": "stdout",
     "output_type": "stream",
     "text": [
      "6508\n"
     ]
    }
   ],
   "execution_count": 5
  },
  {
   "cell_type": "code",
   "execution_count": 137,
   "id": "f6996481-a62a-428c-9865-0ad62e7717ad",
   "metadata": {},
   "outputs": [],
   "source": [
    "import csv\n",
    "import os\n",
    "robokop_data_dir = os.path.join(os.path.dirname(os.getcwd()), 'ROBOKOP Data')\n",
    "\n",
    "df = pd.DataFrame(data = triples_list,columns = ['drug_name','drug_id', 'disease_name','disease_id','gene_name','gene_id'])\n",
    "df.to_csv(os.path.join(robokop_data_dir, 'ROBOKOP Processed Triples.csv'),quoting=csv.QUOTE_ALL, index=False)"
   ]
  },
  {
   "metadata": {},
   "cell_type": "markdown",
   "source": "",
   "id": "bd58586b72f0d7b9"
  }
 ],
 "metadata": {
  "kernelspec": {
   "display_name": "py312 env",
   "language": "python",
   "name": "py312"
  },
  "language_info": {
   "codemirror_mode": {
    "name": "ipython",
    "version": 3
   },
   "file_extension": ".py",
   "mimetype": "text/x-python",
   "name": "python",
   "nbconvert_exporter": "python",
   "pygments_lexer": "ipython3",
   "version": "3.12.3"
  }
 },
 "nbformat": 4,
 "nbformat_minor": 5
}
