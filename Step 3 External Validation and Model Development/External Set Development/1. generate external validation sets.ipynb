{
 "cells": [
  {
   "cell_type": "code",
   "execution_count": 1,
   "id": "21af3671-3e77-42fa-b822-d6f3887443f3",
   "metadata": {
    "ExecuteTime": {
     "end_time": "2024-11-13T19:08:35.282730Z",
     "start_time": "2024-11-13T19:08:35.279863Z"
    }
   },
   "outputs": [
    {
     "data": {
      "text/plain": [
       "'----README-----'"
      ]
     },
     "execution_count": 1,
     "metadata": {},
     "output_type": "execute_result"
    }
   ],
   "source": [
    "\"\"\"----README-----\"\"\"\n",
    "\n",
    "#### STEP 1! GENERATE EXTERNAL VALIDATION SETS FOR ENRICHMENT PLOTS####\n",
    "### RUN ALL THE CODE BLOCK COMBINATIONS BELOW TO MAKE ALL 3 EXTERNAL VALIDATION SETS####\n",
    "### MAKE SURE TO RESTART THE KERNEL BEFORE EACH RUN ####\n",
    "\n",
    "\n",
    "###Make randomNegatives: #1, #2, #3, #4\n",
    "###Make restrictedNegatives: #1, #2, #3, #5, #6\n",
    "###Make diverseNegatives: #1, #2, #3, #5, #7"
   ]
  },
  {
   "cell_type": "code",
   "execution_count": 2,
   "id": "442ff11c6219c44a",
   "metadata": {
    "ExecuteTime": {
     "end_time": "2024-11-13T19:08:38.128190Z",
     "start_time": "2024-11-13T19:08:35.283536Z"
    }
   },
   "outputs": [],
   "source": [
    "\"\"\"Function list\"\"\"\n",
    "from functions import csvtodict, compute_threshold, generate_restricted_negatives"
   ]
  },
  {
   "cell_type": "code",
   "execution_count": 3,
   "id": "21654950c08a679c",
   "metadata": {
    "ExecuteTime": {
     "end_time": "2024-11-13T19:08:38.132609Z",
     "start_time": "2024-11-13T19:08:38.130767Z"
    }
   },
   "outputs": [
    {
     "name": "stdout",
     "output_type": "stream",
     "text": [
      "/Users/eding/PycharmProjects/U24-ROBOKOP-Project-8-21-24\n"
     ]
    }
   ],
   "source": [
    "import os\n",
    "parent_dir = os.path.dirname(os.getcwd())\n",
    "print(parent_dir)"
   ]
  },
  {
   "cell_type": "code",
   "execution_count": 4,
   "id": "5c4a886e-08ad-44c0-a976-53828c44a649",
   "metadata": {
    "ExecuteTime": {
     "end_time": "2024-11-13T19:08:38.300633Z",
     "start_time": "2024-11-13T19:08:38.133084Z"
    }
   },
   "outputs": [
    {
     "name": "stdout",
     "output_type": "stream",
     "text": [
      "         drug_name                                       disease_name  \\\n",
      "0         imatinib    chronic myelogenous leukemia, bcr-abl1 positive   \n",
      "1         imatinib                              systemic mastocytosis   \n",
      "2         imatinib                              systemic mastocytosis   \n",
      "3      paracetamol                                               pain   \n",
      "4      paracetamol                                               pain   \n",
      "...            ...                                                ...   \n",
      "9473   pralidoxime          poisoning of animals with phosphate salts   \n",
      "9474  theophylline  asthma-chronic obstructive pulmonary disease o...   \n",
      "9475  theophylline  asthma-chronic obstructive pulmonary disease o...   \n",
      "9476  theophylline  asthma-chronic obstructive pulmonary disease o...   \n",
      "9477  theophylline  asthma-chronic obstructive pulmonary disease o...   \n",
      "\n",
      "                                           protein_name  \n",
      "0     abl proto-oncogene 1, non-receptor tyrosine ki...  \n",
      "1          kit proto-oncogene, receptor tyrosine kinase  \n",
      "2         platelet derived growth factor receptor alpha  \n",
      "3                 prostaglandin-endoperoxide synthase 1  \n",
      "4                 prostaglandin-endoperoxide synthase 2  \n",
      "...                                                 ...  \n",
      "9473                              butyrylcholinesterase  \n",
      "9474                               phosphodiesterase 4c  \n",
      "9475                               phosphodiesterase 4a  \n",
      "9476                               phosphodiesterase 4d  \n",
      "9477                               phosphodiesterase 4b  \n",
      "\n",
      "[9478 rows x 3 columns]\n",
      "           drug_name                                    disease_name  \\\n",
      "1           imatinib                           systemic mastocytosis   \n",
      "8194     ruxolitinib                                        vitiligo   \n",
      "8195       ezetimibe                                  sitosterolemia   \n",
      "4        paracetamol                                            pain   \n",
      "5        paracetamol                                            pain   \n",
      "...              ...                                             ...   \n",
      "8175     haloperidol                               tourette syndrome   \n",
      "8178     haloperidol                               tourette syndrome   \n",
      "8187     simvastatin  hyperlipidemia, familial combined, lpl related   \n",
      "8189       diazoxide                         islet cell adenomatosis   \n",
      "8190  norethisterone                        uterine corpus leiomyoma   \n",
      "\n",
      "                                      protein_name  \n",
      "1     kit proto-oncogene, receptor tyrosine kinase  \n",
      "8194      homeodomain interacting protein kinase 1  \n",
      "8195     atp binding cassette subfamily g member 8  \n",
      "4            prostaglandin-endoperoxide synthase 2  \n",
      "5                       prostaglandin e synthase 3  \n",
      "...                                            ...  \n",
      "8175                          dopamine receptor d4  \n",
      "8178                      transmembrane protein 97  \n",
      "8187      3-hydroxy-3-methylglutaryl-coa reductase  \n",
      "8189     atp binding cassette subfamily c member 8  \n",
      "8190                  sex hormone binding globulin  \n",
      "\n",
      "[1896 rows x 3 columns]\n"
     ]
    }
   ],
   "source": [
    "####1\n",
    "import pandas as pd\n",
    "import numpy as np\n",
    "import random\n",
    "\n",
    "unified_columns = [f\"{i}\" for i in range(604)]\n",
    "filename = os.path.join(parent_dir, 'Step 1 Data Processing/ROBOKOP+DrugMechDB/ROBOKOP+DrugmechDB Data/ROBOMechDB Processed Triples.csv')\n",
    "df=pd.read_csv(filename)\n",
    "print(df)\n",
    "\n",
    "df_80 = df.sample(n=int(0.8*len(df)), random_state=42)  ##take 80% of these positive triples\n",
    "df_80_indices = df_80.index.tolist()\n",
    "\n",
    "all_indices = set(df.index) \n",
    "df_20_enrichment_indices = list(all_indices - set(df_80_indices))\n",
    "df_20 = df.iloc[df_20_enrichment_indices] ###pocketing 20% of positive set out for validation\n",
    "\n",
    "print(df_20)\n",
    "\n",
    "####Find all unique drugs, diseases, and proteins in this 80% set. \n",
    "unique_triples_drug = sorted(list(set(df_20['drug_name'])))\n",
    "unique_triples_disease = sorted(list(set(df_20['disease_name'])))\n",
    "unique_triples_protein = sorted(list(set(df_20['protein_name'])))\n",
    "\n",
    "pos_triples_dictionary = {}\n",
    "pos_values = my_list = [1] * len(df)\n",
    "pos_keys = [df.iloc[i,0] + \" \" + df.iloc[i,1]+ \" \" + df.iloc[i,2] for i in range(0,len(df))]\n",
    "for key,value in zip(pos_keys,pos_values):\n",
    "    pos_triples_dictionary[key] = value"
   ]
  },
  {
   "cell_type": "code",
   "execution_count": 5,
   "id": "5e4385ad-1fb6-42e4-9872-89ffc28b34be",
   "metadata": {
    "ExecuteTime": {
     "end_time": "2024-11-13T19:08:38.399014Z",
     "start_time": "2024-11-13T19:08:38.301752Z"
    }
   },
   "outputs": [],
   "source": [
    "####2 Importing created protein, disease, and drug vector dictionaries into here\n",
    "protein_dict = csvtodict(os.path.join(parent_dir, 'Step 2 Data Embedding/Vector Dictionaries/ROBOMechDB Protein Vector Dictionary.csv'))\n",
    "\n",
    "disease_dict = csvtodict(os.path.join(parent_dir, 'Step 2 Data Embedding/Vector Dictionaries/ROBOMechDB Disease Vector Dictionary.csv'))\n",
    "\n",
    "drug_dict = csvtodict(os.path.join(parent_dir, 'Step 2 Data Embedding/Vector Dictionaries/ROBOMechDB Drug Vector Dictionary.csv'))\n",
    "\n",
    "protein_df = pd.read_csv(os.path.join(parent_dir, 'Step 2 Data Embedding/Vector Dictionaries/ROBOMechDB Protein Vector Dictionary.csv'),header = 0)\n",
    "disease_df = pd.read_csv(os.path.join(parent_dir, 'Step 2 Data Embedding/Vector Dictionaries/ROBOMechDB Disease Vector Dictionary.csv'),header = 0)\n",
    "drug_df = pd.read_csv(os.path.join(parent_dir, 'Step 2 Data Embedding/Vector Dictionaries/ROBOMechDB Drug Vector Dictionary.csv'), header = 0)"
   ]
  },
  {
   "cell_type": "code",
   "execution_count": 6,
   "id": "3ca3fd24-9de8-4d81-82fc-854e260dd9e3",
   "metadata": {
    "ExecuteTime": {
     "end_time": "2024-11-13T19:08:38.858013Z",
     "start_time": "2024-11-13T19:08:38.399626Z"
    }
   },
   "outputs": [],
   "source": [
    "###3 Building a 600 column vector array of all positive triples\n",
    "\n",
    "positive_triples_vector_array = []\n",
    "import itertools\n",
    "\n",
    "for i in range(0,len(df_20)):\n",
    "    try:\n",
    "        drug_vector = drug_df.iloc[drug_dict[df_20.iloc[i,0]],1:201].tolist()\n",
    "        disease_vector = disease_df.iloc[disease_dict[df_20.iloc[i,1]],1:201].tolist()\n",
    "        protein_vector = protein_df.iloc[protein_dict[df_20.iloc[i,2]],1:201].tolist()\n",
    "        \n",
    "        drug_name = df_20.iloc[i,0]\n",
    "        disease_name = df_20.iloc[i,1]\n",
    "        protein_name = df_20.iloc[i,2]\n",
    "        \n",
    "        row = [[drug_name],[disease_name],[protein_name],drug_vector,disease_vector,protein_vector,[1]]\n",
    "        merged = list(itertools.chain(*row))\n",
    "        positive_triples_vector_array.append(merged)\n",
    "\n",
    "    except KeyError:\n",
    "        continue\n",
    "\n",
    "positive_triples_dataframe = pd.DataFrame(positive_triples_vector_array)\n"
   ]
  },
  {
   "cell_type": "code",
   "execution_count": 7,
   "id": "c8ae861d9b355cea",
   "metadata": {
    "ExecuteTime": {
     "end_time": "2024-11-13T01:21:13.575267Z",
     "start_time": "2024-11-13T01:21:13.570811Z"
    }
   },
   "outputs": [
    {
     "name": "stdout",
     "output_type": "stream",
     "text": [
      "                 0                                               1    \\\n",
      "0           imatinib                           systemic mastocytosis   \n",
      "1        ruxolitinib                                        vitiligo   \n",
      "2          ezetimibe                                  sitosterolemia   \n",
      "3        paracetamol                                            pain   \n",
      "4        paracetamol                                            pain   \n",
      "...              ...                                             ...   \n",
      "1834     haloperidol                               tourette syndrome   \n",
      "1835     haloperidol                               tourette syndrome   \n",
      "1836     simvastatin  hyperlipidemia, familial combined, lpl related   \n",
      "1837       diazoxide                         islet cell adenomatosis   \n",
      "1838  norethisterone                        uterine corpus leiomyoma   \n",
      "\n",
      "                                               2        3        4    \\\n",
      "0     kit proto-oncogene, receptor tyrosine kinase  0.78078  0.16562   \n",
      "1         homeodomain interacting protein kinase 1  0.87328  0.17077   \n",
      "2        atp binding cassette subfamily g member 8  0.45619  0.27848   \n",
      "3            prostaglandin-endoperoxide synthase 2  0.65269  0.50439   \n",
      "4                       prostaglandin e synthase 3  0.65269  0.50439   \n",
      "...                                            ...      ...      ...   \n",
      "1834                          dopamine receptor d4  0.40880  0.23962   \n",
      "1835                      transmembrane protein 97  0.40880  0.23962   \n",
      "1836      3-hydroxy-3-methylglutaryl-coa reductase  0.66990 -0.13088   \n",
      "1837     atp binding cassette subfamily c member 8  0.36869  0.25435   \n",
      "1838                  sex hormone binding globulin  0.55901 -0.29251   \n",
      "\n",
      "           5         6         7         8         9    ...       594  \\\n",
      "0    -0.489650  0.348400 -0.053361  0.666340 -0.084676  ... -1.481937   \n",
      "1    -0.033955  0.625910 -0.116550  0.570870 -0.006170  ... -1.285780   \n",
      "2     0.018022  0.650090  0.024345  0.232730  0.208820  ... -1.904056   \n",
      "3     0.289680 -0.096725 -0.395670  0.454740  0.351790  ... -1.472300   \n",
      "4     0.289680 -0.096725 -0.395670  0.454740  0.351790  ... -1.609240   \n",
      "...        ...       ...       ...       ...       ...  ...       ...   \n",
      "1834 -0.506190  0.185620 -0.236260 -0.449210 -0.201740  ... -0.994160   \n",
      "1835 -0.506190  0.185620 -0.236260 -0.449210 -0.201740  ... -1.621430   \n",
      "1836  0.076721  0.491170 -0.019136  0.020763  0.427280  ... -1.735980   \n",
      "1837 -0.945560  0.465760  0.290220 -0.083404  0.590430  ... -1.495506   \n",
      "1838 -0.460440 -0.548360 -0.160690 -0.861150  0.060143  ... -1.670124   \n",
      "\n",
      "           595       596       597       598       599       600       601  \\\n",
      "0    -0.622788  1.924234  0.540982 -0.043763  1.373380 -0.083966 -0.669512   \n",
      "1     0.293802  1.214591  0.286909 -0.179396 -0.232790  1.337140 -1.279542   \n",
      "2    -0.790540  3.082399  1.777405 -1.382994 -0.806078  2.510258 -0.066680   \n",
      "3    -1.040040  0.554085  1.014210  0.172930 -0.076911 -0.331020 -0.709189   \n",
      "4    -1.420603  0.676724  0.831614 -0.753590  0.532209 -0.052430 -0.956410   \n",
      "...        ...       ...       ...       ...       ...       ...       ...   \n",
      "1834 -0.630183  0.273120  0.088746  0.406320  0.281751  0.227386  0.676880   \n",
      "1835 -0.561480  0.225670 -0.091971 -0.070820 -0.480060  1.154990 -0.741942   \n",
      "1836 -0.947440 -1.575000  0.895430  0.358500 -0.205649  0.105295 -1.203490   \n",
      "1837 -1.080052  3.022969  1.374012 -1.306144 -0.290350  2.415298 -0.596490   \n",
      "1838  0.220446  2.179870 -1.403970 -1.658920  1.871910  1.411700 -0.112430   \n",
      "\n",
      "           602  603  \n",
      "0    -2.078353    1  \n",
      "1    -1.081120    1  \n",
      "2    -2.092452    1  \n",
      "3    -0.785900    1  \n",
      "4    -1.922060    1  \n",
      "...        ...  ...  \n",
      "1834 -0.714859    1  \n",
      "1835 -1.030940    1  \n",
      "1836 -1.036950    1  \n",
      "1837 -1.884416    1  \n",
      "1838 -1.536140    1  \n",
      "\n",
      "[1839 rows x 604 columns]\n"
     ]
    }
   ],
   "source": [
    "print(positive_triples_dataframe)"
   ]
  },
  {
   "cell_type": "code",
   "execution_count": 8,
   "id": "15184941-54e3-4498-af7f-5586ccbcec2e",
   "metadata": {
    "ExecuteTime": {
     "end_time": "2024-11-13T01:21:29.743799Z",
     "start_time": "2024-11-13T01:21:18.494922Z"
    }
   },
   "outputs": [
    {
     "name": "stdout",
     "output_type": "stream",
     "text": [
      "Index(['0', '1', '2', '3', '4', '5', '6', '7', '8', '9',\n",
      "       ...\n",
      "       '594', '595', '596', '597', '598', '599', '600', '601', '602', '603'],\n",
      "      dtype='object', length=604)\n"
     ]
    }
   ],
   "source": [
    "###4 Use random combinations of drug, disease, protein present in positive triples to form negatives. Create negative vector array\n",
    "\n",
    "negative_triples_array = []\n",
    "negative_triples_vector_array = []\n",
    "temp = set()\n",
    "i=0\n",
    "\n",
    "random.seed(42)\n",
    "\n",
    "while i < 10.5*len(positive_triples_dataframe):  ###create negative triples\n",
    "    drug = random.sample(unique_triples_drug,k=1)[0]\n",
    "    protein = random.sample(unique_triples_protein, k=1)[0]\n",
    "    disease = random.sample(unique_triples_disease,k=1)[0]\n",
    "    key = drug + \" \" + disease + \" \" + protein\n",
    "    if (key in pos_triples_dictionary)or (key in temp):\n",
    "        continue\n",
    "    temp.add(key)\n",
    "    negative_triples_array.append([drug, disease, protein])\n",
    "    i+= 1 \n",
    "\n",
    "df_negative_triples = pd.DataFrame(negative_triples_array)\n",
    "    \n",
    "for i in range(0,len(df_negative_triples)):\n",
    "    try:\n",
    "        drug_vector = drug_df.iloc[drug_dict[df_negative_triples.iloc[i,0]],1:201].tolist()\n",
    "        disease_vector = disease_df.iloc[disease_dict[df_negative_triples.iloc[i,1]],1:201].tolist()\n",
    "        protein_vector = protein_df.iloc[protein_dict[df_negative_triples.iloc[i,2]],1:201].tolist()\n",
    "        \n",
    "        drug_name = df_negative_triples.iloc[i,0]\n",
    "        disease_name = df_negative_triples.iloc[i,1]\n",
    "        protein_name = df_negative_triples.iloc[i,2]\n",
    "        \n",
    "        row = [[drug_name],[disease_name],[protein_name],drug_vector,disease_vector,protein_vector,[0]]\n",
    "        merged = list(itertools.chain(*row))\n",
    "        negative_triples_vector_array.append(merged)\n",
    "\n",
    "    except KeyError:\n",
    "        continue\n",
    "\n",
    "negative_triples_dataframe = pd.DataFrame(negative_triples_vector_array)\n",
    "\n",
    "df_randomNegatives = pd.concat([positive_triples_dataframe,negative_triples_dataframe],axis=0,ignore_index=True)\n",
    "df_randomNegatives.columns = unified_columns\n",
    "print(df_randomNegatives.columns)\n",
    "\n",
    "\n",
    "\n",
    "df_randomNegatives.to_csv(os.path.join(parent_dir, 'Step 3 External Validation and Model Development/External Validation Datasets/randomNegatives External Validation Set1.csv'), index=False)\n"
   ]
  },
  {
   "cell_type": "code",
   "execution_count": null,
   "id": "32caa46a-43f9-4a05-880b-ef5e9082a182",
   "metadata": {
    "ExecuteTime": {
     "end_time": "2024-11-13T19:08:41.168769Z",
     "start_time": "2024-11-13T19:08:39.671395Z"
    }
   },
   "outputs": [
    {
     "name": "stdout",
     "output_type": "stream",
     "text": [
      "min distance: 1.3490766481180738\n",
      "mean distance: 3.9296513978117704\n",
      "stdev distances: 1.1837539597778333\n",
      "min distance: 1.3756730714527872\n",
      "mean distance: 6.979102681442049\n",
      "stdev distances: 2.672071221220308\n",
      "min distance: 1.00340273053115\n",
      "mean distance: 6.690955269076238\n",
      "stdev distances: 4.105268395143029\n",
      "distanceThreshold for drug list: 4.521528377700687\n",
      "distanceThreshold for disease list: 8.315138292052202\n",
      "distanceThreshold for protein list: 8.743589466647753\n"
     ]
    }
   ],
   "source": [
    "###5 Compute distance thresholds of proteins, drugs, and diseases present\n",
    "    \n",
    "unique_protein_vectors = np.array(protein_df.iloc[:,1:201])\n",
    "unique_disease_vectors = np.array(disease_df.iloc[:,1:201])\n",
    "unique_drug_vectors = np.array(drug_df.iloc[:,1:201])\n",
    "\n",
    "unique_protein_dict_names = np.array(protein_df.iloc[:,0])\n",
    "unique_disease_dict_names = np.array(disease_df.iloc[:,0])\n",
    "unique_drug_dict_names = np.array(drug_df.iloc[:,0])\n",
    "\n",
    "drug_threshold = compute_threshold(unique_drug_vectors)\n",
    "disease_threshold = compute_threshold(unique_disease_vectors)\n",
    "protein_threshold = compute_threshold(unique_protein_vectors)\n",
    "\n",
    "print('distanceThreshold for drug list:', drug_threshold)\n",
    "print('distanceThreshold for disease list:' , disease_threshold)\n",
    "print('distanceThreshold for protein list:', protein_threshold)"
   ]
  },
  {
   "cell_type": "code",
   "execution_count": 8,
   "id": "36c1623c-fab1-4f67-a111-9282de016cd5",
   "metadata": {
    "ExecuteTime": {
     "end_time": "2024-11-13T19:08:45.000023Z",
     "start_time": "2024-11-13T19:08:42.211758Z"
    }
   },
   "outputs": [
    {
     "name": "stderr",
     "output_type": "stream",
     "text": [
      "/opt/anaconda3/lib/python3.12/site-packages/numpy/core/fromnumeric.py:59: FutureWarning: 'DataFrame.swapaxes' is deprecated and will be removed in a future version. Please use 'DataFrame.transpose' instead.\n",
      "  return bound(*args, **kwds)\n"
     ]
    }
   ],
   "source": [
    "###6 \n",
    "\"\"\"Negative triples by keeping two of the three features of the triple constant, \n",
    "and randomly selecting a drug/disease/triple (depending on circumstance) for the last feature, \n",
    "and compare to similarity thresholds\"\"\"\n",
    "\n",
    "\n",
    "#Let n = # of positive triples in dataset\n",
    "#First select n/4 rows \n",
    "\n",
    "#we are now going to split these rows into 3 equal chunks. \n",
    "#the triples in the first chunk will have its protein parameter randomized, \n",
    "#the triples in the second chunk will have its disease parameter randomized\n",
    "#the triples in the third chunk will have its drug parameter randomized\n",
    "\n",
    "split_rows = np.array_split(positive_triples_dataframe, 3)\n",
    "\n",
    "# Each part is now a separate DataFrame\n",
    "drug_disease_x, drug_x_protein, x_disease_protein = split_rows[0], split_rows[1], split_rows[2]\n",
    "\n",
    "drug_disease_x_negative_triples = []\n",
    "drug_x_protein_negative_triples = []\n",
    "x_disease_protein_negative_triples = []\n",
    "\n",
    "# Initialize sets and thresholds\n",
    "temp_set = set()\n",
    "\n",
    "# Generate negative triples for each part\n",
    "drug_disease_x_negatives = generate_restricted_negatives(\n",
    "    drug_disease_x, (403, 603), unique_protein_vectors, unique_protein_dict_names, 2,\n",
    "    protein_threshold, pos_triples_dictionary, temp_set, max_count=20, portion = 1\n",
    ")\n",
    "\n",
    "drug_x_protein_negatives = generate_restricted_negatives(\n",
    "    drug_x_protein, (203, 403), unique_disease_vectors, unique_disease_dict_names, 1,\n",
    "    disease_threshold, pos_triples_dictionary, temp_set, max_count=19, portion = 1\n",
    ")\n",
    "\n",
    "x_disease_protein_negatives = generate_restricted_negatives(\n",
    "    x_disease_protein, (3, 203), unique_drug_vectors, unique_drug_dict_names, 0,\n",
    "    drug_threshold, pos_triples_dictionary, temp_set, max_count=20, portion = 1\n",
    ")\n",
    "\n",
    "# Combine and save the DataFrames\n",
    "negative_df = pd.concat([\n",
    "    pd.DataFrame(drug_disease_x_negatives),\n",
    "    pd.DataFrame(drug_x_protein_negatives),\n",
    "    pd.DataFrame(x_disease_protein_negatives)\n",
    "], axis=0, ignore_index=True)\n",
    "# Combine with positive triples and save\n",
    "df_restrictedNegs = pd.concat([positive_triples_dataframe, negative_df], axis=0, ignore_index=True)\n",
    "df_restrictedNegs.columns = unified_columns\n",
    "\n",
    "output_path = os.path.join(parent_dir, 'Step 3 External Validation and Model Development/External Validation Datasets/restrictedNegatives External Validation Set.csv')\n",
    "#df_restrictedNegs.to_csv(output_path, index=False)"
   ]
  },
  {
   "cell_type": "code",
   "execution_count": 8,
   "id": "63a66e67-9e2d-47fa-b63b-f9055d4a7e79",
   "metadata": {
    "ExecuteTime": {
     "end_time": "2024-11-13T01:22:21.571206Z",
     "start_time": "2024-11-13T01:22:10.688850Z"
    }
   },
   "outputs": [
    {
     "name": "stderr",
     "output_type": "stream",
     "text": [
      "/opt/anaconda3/lib/python3.12/site-packages/numpy/core/fromnumeric.py:59: FutureWarning: 'DataFrame.swapaxes' is deprecated and will be removed in a future version. Please use 'DataFrame.transpose' instead.\n",
      "  return bound(*args, **kwds)\n"
     ]
    }
   ],
   "source": [
    "###7 (ONLY RUN THIS WHEN MAKING DIVERSENEGATIVES) \n",
    "\n",
    "\n",
    "\"\"\"generating randomNegative Triples Portion\"\"\"\n",
    "\n",
    "negative_triples_array = []\n",
    "negative_triples_vector_array = []\n",
    "temp = set()\n",
    "i=0\n",
    "\n",
    "random.seed(42)\n",
    "\n",
    "while i < 9.5*len(positive_triples_dataframe):  ###create negative triples \n",
    "    drug = random.sample(unique_triples_drug,k=1)[0]\n",
    "    protein = random.sample(unique_triples_protein, k=1)[0]\n",
    "    disease = random.sample(unique_triples_disease,k=1)[0]\n",
    "    if (drug + \" \" + disease + \" \" + protein) in pos_triples_dictionary or (drug + \" \" + disease + \" \" + protein) in temp:\n",
    "        continue\n",
    "    temp.add(drug + \" \" + disease + \" \" + protein)\n",
    "    negative_triples_array.append([drug, disease, protein])\n",
    "    i+= 1 \n",
    "\n",
    "df_negative_triples = pd.DataFrame(negative_triples_array)\n",
    "\n",
    "for i in range(0,len(df_negative_triples)):\n",
    "    try:\n",
    "        drug_vector = drug_df.iloc[drug_dict[df_negative_triples.iloc[i,0]],1:201].tolist()\n",
    "        disease_vector = disease_df.iloc[disease_dict[df_negative_triples.iloc[i,1]],1:201].tolist()\n",
    "        protein_vector = protein_df.iloc[protein_dict[df_negative_triples.iloc[i,2]],1:201].tolist()\n",
    "        \n",
    "        drug_name = df_negative_triples.iloc[i,0]\n",
    "        disease_name = df_negative_triples.iloc[i,1]\n",
    "        protein_name = df_negative_triples.iloc[i,2]\n",
    "        \n",
    "        row = [[drug_name],[disease_name],[protein_name],drug_vector,disease_vector,protein_vector,[0]]\n",
    "        merged = list(itertools.chain(*row))\n",
    "        negative_triples_vector_array.append(merged)\n",
    "\n",
    "    except KeyError:\n",
    "        continue\n",
    "\n",
    "rand_negative_triples_dataframe = pd.DataFrame(negative_triples_vector_array)\n",
    "\n",
    "\n",
    "\n",
    "\n",
    "\"\"\"GENERATE RESTRICTEDNEGATIVES PORTION\"\"\"\n",
    "\n",
    "#we are now going to split these rows into 3 equal chunks. \n",
    "#the triples in the first chunk will have its protein parameter randomized, \n",
    "#the triples in the second chunk will have its disease parameter randomized, and so on\n",
    "\n",
    "split_rows = np.array_split(positive_triples_dataframe, 3)\n",
    "\n",
    "# Each part is now a separate DataFrame\n",
    "drug_disease_x, drug_x_protein, x_disease_protein = split_rows[0], split_rows[1], split_rows[2]\n",
    "\n",
    "drug_disease_x_negative_triples = []\n",
    "drug_x_protein_negative_triples = []\n",
    "x_disease_protein_negative_triples = []\n",
    "\n",
    "\n",
    "temp_set = set()\n",
    "\n",
    "# Generate negative triples for each part\n",
    "drug_disease_x_negatives = generate_restricted_negatives(\n",
    "    drug_disease_x, (403, 603), unique_protein_vectors, unique_protein_dict_names, 2,\n",
    "    protein_threshold, pos_triples_dictionary, temp_set, max_count=1, portion = 1.3\n",
    ")\n",
    "\n",
    "drug_x_protein_negatives = generate_restricted_negatives(\n",
    "    drug_x_protein, (203, 403), unique_disease_vectors, unique_disease_dict_names, 1,\n",
    "    disease_threshold, pos_triples_dictionary, temp_set, max_count=2, portion = 1.25\n",
    ")\n",
    "\n",
    "x_disease_protein_negatives = generate_restricted_negatives(\n",
    "    x_disease_protein, (3, 203), unique_drug_vectors, unique_drug_dict_names, 0,\n",
    "    drug_threshold, pos_triples_dictionary, temp_set, max_count=1, portion = 1.3\n",
    ")\n",
    "\n",
    "# Combine and save the DataFrames\n",
    "restricted_negative_triples_dataframe = pd.concat([\n",
    "    pd.DataFrame(drug_disease_x_negatives),\n",
    "    pd.DataFrame(drug_x_protein_negatives),\n",
    "    pd.DataFrame(x_disease_protein_negatives)\n",
    "], axis=0, ignore_index=True)\n",
    "\n",
    "restricted_negative_triples_dataframe.columns = unified_columns\n",
    "rand_negative_triples_dataframe.columns = unified_columns\n",
    "positive_triples_dataframe.columns = unified_columns\n",
    "\n",
    "neg_total = pd.concat([restricted_negative_triples_dataframe,rand_negative_triples_dataframe],axis=0)\n",
    "neg_total.columns = unified_columns\n",
    "final_columns = ['0','1','2']\n",
    "neg_total = neg_total.drop_duplicates(subset = final_columns).reset_index().drop('index', axis = 1)\n",
    "\n",
    "df_diverseNegs = pd.concat([positive_triples_dataframe,neg_total],axis=0,ignore_index=True)\n",
    "\n",
    "df_diverseNegs.to_csv(os.path.join(parent_dir, 'Step 3 External Validation and Model Development/External Validation Datasets/diverseNegatives External Validation Set1.csv'), index=False)"
   ]
  }
 ],
 "metadata": {
  "kernelspec": {
   "display_name": "Python 3 (ipykernel)",
   "language": "python",
   "name": "python3"
  },
  "language_info": {
   "codemirror_mode": {
    "name": "ipython",
    "version": 3
   },
   "file_extension": ".py",
   "mimetype": "text/x-python",
   "name": "python",
   "nbconvert_exporter": "python",
   "pygments_lexer": "ipython3",
   "version": "3.12.3"
  }
 },
 "nbformat": 4,
 "nbformat_minor": 5
}
